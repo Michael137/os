{
 "cells": [
  {
   "cell_type": "markdown",
   "metadata": {},
   "source": [
    "# L41: Lab 1 - Getting started with kernel tracing - I/O"
   ]
  },
  {
   "cell_type": "markdown",
   "metadata": {},
   "source": [
    "The goals of this lab are to:\n",
    "    \n",
    "- Introduce you to our experimental environment and DTrace.\n",
    "- Have you explore user-kernel interactions via system calls and traps.\n",
    "- Gain experience tracing I/O behaviour in UNIX.\n",
    "- Develop an intuition about DTrace's probe effect.\n",
    "\n",
    "You will do this using DTrace to analyse the behaviour of a potted, kernel-intensive block-I/O benchmark."
   ]
  },
  {
   "cell_type": "markdown",
   "metadata": {
    "collapsed": false
   },
   "source": [
    "---\n",
    "## Block-I/O benchmark"
   ]
  },
  {
   "cell_type": "markdown",
   "metadata": {},
   "source": [
    "### Compiling the benchmark"
   ]
  },
  {
   "cell_type": "code",
   "execution_count": 1,
   "metadata": {
    "collapsed": false,
    "scrolled": true
   },
   "outputs": [],
   "source": [
    "# Extract and build the benchmark\n",
    "!make -C io"
   ]
  },
  {
   "cell_type": "markdown",
   "metadata": {},
   "source": [
    "### Running the benchmark\n",
    "\n",
    "Once built, you can run the benchmark binaries as follows (with the command-line arguments specifying various benchmark parameters):"
   ]
  },
  {
   "cell_type": "code",
   "execution_count": 2,
   "metadata": {
    "collapsed": false
   },
   "outputs": [
    {
     "name": "stdout",
     "output_type": "stream",
     "text": [
      "io-static -c|-r|-w [-Bdqsv] [-b buffersize] [-t totalsize] path\r\n",
      "\r\n",
      "Modes (pick one):\r\n",
      "    -c              'create mode': create benchmark data file\r\n",
      "    -r              'read mode': read() benchmark\r\n",
      "    -w              'write mode': write() benchmark\r\n",
      "\r\n",
      "Optional flags:\r\n",
      "    -B              Run in bare mode: no preparatory activities\r\n",
      "    -d              Set O_DIRECT flag to bypass buffer cache\r\n",
      "    -q              Just run the benchmark, don't print stuff out\r\n",
      "    -s              Call fsync() on the file descriptor when complete\r\n",
      "    -v              Provide a verbose benchmark description\r\n",
      "    -b buffersize    Specify a buffer size (default: 16384)\r\n",
      "    -t totalsize    Specify total I/O size (default: 16777216)\r\n"
     ]
    }
   ],
   "source": [
    "# Execute the io-static benchmark displaying the command line options\n",
    "!io/io-static"
   ]
  },
  {
   "cell_type": "code",
   "execution_count": 3,
   "metadata": {
    "collapsed": false
   },
   "outputs": [
    {
     "name": "stdout",
     "output_type": "stream",
     "text": [
      "io-dynamic -c|-r|-w [-Bdqsv] [-b buffersize] [-t totalsize] path\r\n",
      "\r\n",
      "Modes (pick one):\r\n",
      "    -c              'create mode': create benchmark data file\r\n",
      "    -r              'read mode': read() benchmark\r\n",
      "    -w              'write mode': write() benchmark\r\n",
      "\r\n",
      "Optional flags:\r\n",
      "    -B              Run in bare mode: no preparatory activities\r\n",
      "    -d              Set O_DIRECT flag to bypass buffer cache\r\n",
      "    -q              Just run the benchmark, don't print stuff out\r\n",
      "    -s              Call fsync() on the file descriptor when complete\r\n",
      "    -v              Provide a verbose benchmark description\r\n",
      "    -b buffersize    Specify a buffer size (default: 16384)\r\n",
      "    -t totalsize    Specify total I/O size (default: 16777216)\r\n"
     ]
    }
   ],
   "source": [
    "# Execute the io-dynamic benchmark displaying the command line options\n",
    "!io/io-dynamic"
   ]
  },
  {
   "cell_type": "markdown",
   "metadata": {},
   "source": [
    "### Example benchmark commands"
   ]
  },
  {
   "cell_type": "markdown",
   "metadata": {},
   "source": [
    "The following example creates a default-sized benchmark data file (the benchmark data file is stored in the `/data` directory on the BeagleBone Black SD card):"
   ]
  },
  {
   "cell_type": "code",
   "execution_count": 4,
   "metadata": {
    "collapsed": false
   },
   "outputs": [
    {
     "name": "stdout",
     "output_type": "stream",
     "text": [
      "********************************************************************************\n",
      "* Creating file to run benchmark\n",
      "********************************************************************************\n",
      "Benchmark configuration:\n",
      "  buffersize: 16384\n",
      "  totalsize: 16777216\n",
      "  blockcount: 1024\n",
      "  operation: create\n",
      "  path: iofile\n",
      "  time: 1.908447458\n",
      "8584.99 KBytes/sec\n",
      "********************************************************************************\n",
      "* Completed\n",
      "********************************************************************************\n"
     ]
    }
   ],
   "source": [
    "# Example benchmark command\n",
    "print_header(\"Creating file to run benchmark\")\n",
    "\n",
    "!io/io-static -c iofile\n",
    "\n",
    "print_footer(\"Completed\")"
   ]
  },
  {
   "cell_type": "markdown",
   "metadata": {
    "raw_mimetype": "text/latex"
   },
   "source": [
    "The following example runs a simple `read()` benchmark on the benchmark data file, printing additional information (`-v`) about the benchmark run:"
   ]
  },
  {
   "cell_type": "code",
   "execution_count": 5,
   "metadata": {
    "collapsed": false
   },
   "outputs": [
    {
     "name": "stdout",
     "output_type": "stream",
     "text": [
      "********************************************************************************\n",
      "* Running benchmark\n",
      "********************************************************************************\n",
      "Benchmark configuration:\n",
      "  buffersize: 16384\n",
      "  totalsize: 16777216\n",
      "  blockcount: 1024\n",
      "  operation: read\n",
      "  path: iofile\n",
      "  time: 0.106160459\n",
      "154332.42 KBytes/sec\n",
      "********************************************************************************\n",
      "* Completed\n",
      "********************************************************************************\n"
     ]
    }
   ],
   "source": [
    "# Example benchmark command\n",
    "print_header(\"Running benchmark\")\n",
    "\n",
    "!io/io-static -v -r iofile\n",
    "\n",
    "print_footer(\"Completed\")"
   ]
  },
  {
   "cell_type": "markdown",
   "metadata": {},
   "source": [
    "The following example runs a simple `write()` benchmark on the data file, printing additional information (`-v`) about the benchmark run:"
   ]
  },
  {
   "cell_type": "code",
   "execution_count": 6,
   "metadata": {
    "collapsed": false
   },
   "outputs": [
    {
     "name": "stdout",
     "output_type": "stream",
     "text": [
      "********************************************************************************\n",
      "* Running benchmark\n",
      "********************************************************************************\n",
      "Benchmark configuration:\n",
      "  buffersize: 16384\n",
      "  totalsize: 16777216\n",
      "  blockcount: 1024\n",
      "  operation: write\n",
      "  path: iofile\n",
      "  time: 1.610386750\n",
      "10173.95 KBytes/sec\n",
      "********************************************************************************\n",
      "* Completed\n",
      "********************************************************************************\n"
     ]
    }
   ],
   "source": [
    "# Example benchmark command\n",
    "print_header(\"Running benchmark\")\n",
    "\n",
    "!io/io-static -v -w iofile\n",
    "\n",
    "print_footer(\"Completed\")"
   ]
  },
  {
   "cell_type": "markdown",
   "metadata": {},
   "source": [
    "The following example runs a simple write() benchmark multiple times printing out the average measured I/O bandwidth (KiBytes/sec):"
   ]
  },
  {
   "cell_type": "code",
   "execution_count": 7,
   "metadata": {
    "collapsed": false
   },
   "outputs": [
    {
     "name": "stdout",
     "output_type": "stream",
     "text": [
      "********************************************************************************\n",
      "* Running benchmark\n",
      "********************************************************************************\n",
      "Average bandwidth = 10603.616 KiBytes/sec\n",
      "********************************************************************************\n",
      "* Completed\n",
      "********************************************************************************\n"
     ]
    }
   ],
   "source": [
    "# Example benchmark command\n",
    "print_header(\"Running benchmark\")\n",
    "\n",
    "# Run the benchmark multiple times storing each measure bandwidth in values[]\n",
    "values = []\n",
    "\n",
    "for trials in range(0, 10):\n",
    "    output = !io/io-static -w iofile\n",
    "    values.append(float(output[0].split(' ')[0]))\n",
    "    \n",
    "# Compute and print the average I/O bandwidth\n",
    "average_bw = sum(values)/len(values)\n",
    "print(\"Average bandwidth = {} KiBytes/sec\".format(average_bw))\n",
    "\n",
    "print_footer(\"Completed\")"
   ]
  },
  {
   "cell_type": "markdown",
   "metadata": {},
   "source": [
    "When performing whole-program analysis using DTrace, be sure to suppress the benchmark's output (bare `-B`) mode as follows (this prevents DTrace from tracing the printing of the benchmark):"
   ]
  },
  {
   "cell_type": "code",
   "execution_count": 8,
   "metadata": {
    "collapsed": false
   },
   "outputs": [
    {
     "name": "stdout",
     "output_type": "stream",
     "text": [
      "********************************************************************************\n",
      "* Running benchmark\n",
      "********************************************************************************\n",
      "********************************************************************************\n",
      "* Completed\n",
      "********************************************************************************\n"
     ]
    }
   ],
   "source": [
    "# Example benchmark\n",
    "print_header(\"Running benchmark\")\n",
    "\n",
    "!io/io-static -B -q -r iofile\n",
    "\n",
    "print_footer(\"Completed\")"
   ]
  },
  {
   "cell_type": "markdown",
   "metadata": {},
   "source": [
    "The following example measures the performance of the read benchmark when the buffer cache is enabled and disable. As noted in the lab handouts, be sure to discard the ouput of the first run of the benchmark when the buffer cache is disabled (as cached data may still be  accessed):"
   ]
  },
  {
   "cell_type": "code",
   "execution_count": 9,
   "metadata": {
    "collapsed": false
   },
   "outputs": [
    {
     "name": "stdout",
     "output_type": "stream",
     "text": [
      "********************************************************************************\n",
      "* Running benchmark\n",
      "********************************************************************************\n",
      "Buf. cache enabled: bandwidth = 172035.33 KiBytes/sec\n",
      "Buf. cache enabled (2nd run): bandwidth = 172077.42 KiBytes/sec\n",
      "Buf. cache disabled: bandwidth = 13182.97 KiBytes/sec\n",
      "********************************************************************************\n",
      "* Completed\n",
      "********************************************************************************\n"
     ]
    }
   ],
   "source": [
    "# Example benchmark command\n",
    "print_header(\"Running benchmark\")\n",
    "\n",
    "enabled = !io/io-static -r iofile\n",
    "enabled_again = !io/io-static -r iofile\n",
    "disabled = !io/io-static -d -r iofile\n",
    "\n",
    "print(\"Buf. cache enabled: bandwidth = {} KiBytes/sec\".\n",
    "      format(float(enabled[0].split(' ')[0])))\n",
    "print(\"Buf. cache enabled (2nd run): bandwidth = {} KiBytes/sec\".\n",
    "      format(float(enabled_again[0].split(' ')[0])))\n",
    "print(\"Buf. cache disabled: bandwidth = {} KiBytes/sec\".\n",
    "      format(float(disabled[0].split(' ')[0])))\n",
    "\n",
    "print_footer(\"Completed\")"
   ]
  },
  {
   "cell_type": "markdown",
   "metadata": {},
   "source": [
    "To get a high-level summary of execution time (including a breakdown of total wall-clock time, time in userspace and \"system-time\") use the UNIX time command as follows:"
   ]
  },
  {
   "cell_type": "code",
   "execution_count": 10,
   "metadata": {
    "collapsed": false
   },
   "outputs": [
    {
     "name": "stdout",
     "output_type": "stream",
     "text": [
      "********************************************************************************\n",
      "* Running benchmark\n",
      "********************************************************************************\n",
      "real 2.21\n",
      "user 0.01\n",
      "sys 0.32\n",
      "********************************************************************************\n",
      "* Completed\n",
      "********************************************************************************\n"
     ]
    }
   ],
   "source": [
    "# Example benchmark command\n",
    "print_header(\"Running benchmark\")\n",
    "\n",
    "!time -p io/io-static -r -B -d -q iofile\n",
    "\n",
    "print_footer(\"Completed\")"
   ]
  },
  {
   "cell_type": "markdown",
   "metadata": {},
   "source": [
    "---\n",
    "## DTrace"
   ]
  },
  {
   "cell_type": "markdown",
   "metadata": {},
   "source": [
    "Experimentation with DTrace is best performed directly from within the shell:\n",
    "\n",
    "```\n",
    "ssh root@192.168.141.100\n",
    "root@l41-beaglebone:~ # dtrace -n 'BEGIN { print(\"hello world\"); }'\n",
    "```"
   ]
  },
  {
   "cell_type": "markdown",
   "metadata": {},
   "source": [
    "### python-dtrace\n",
    "\n",
    "DTrace scripts can be ran within the Jupyter notebook with the assistance of the `python-dtrace` module. Note:  this is somewhat more involved that running the `dtrace` command from the shell as the script must be executed within a seperate thread."
   ]
  },
  {
   "cell_type": "markdown",
   "metadata": {},
   "source": [
    "The following example uses DTrace to measure the execution time of the benchmark:"
   ]
  },
  {
   "cell_type": "code",
   "execution_count": 11,
   "metadata": {
    "collapsed": false
   },
   "outputs": [
    {
     "name": "stdout",
     "output_type": "stream",
     "text": [
      "********************************************************************************\n",
      "* Starting io-static read performance measurement\n",
      "********************************************************************************\n",
      "Average time = 103690943 nsec\n",
      "Average bandwidth = 158008.014258 KiBytes/sec\n",
      "********************************************************************************\n",
      "* Finished io-static read performance measurement\n",
      "********************************************************************************\n"
     ]
    }
   ],
   "source": [
    "# D Language script\n",
    "io_performance_script = \"\"\"\n",
    "BEGIN {\n",
    "   self->targetPid = -1;\n",
    "}\n",
    "\n",
    "proc:::exec-success\n",
    "/execname == \"io-static\"/\n",
    "{\n",
    "   self->targetPid = pid;\n",
    "   self->start = vtimestamp;\n",
    "}\n",
    "\n",
    "syscall::*exit:entry\n",
    "/pid == self->targetPid/\n",
    "{\n",
    "   self->targetPid = -1;\n",
    "   trace(vtimestamp - self->start);\n",
    "}\n",
    "\"\"\"\n",
    "\n",
    "values = []\n",
    "\n",
    "# Callback invoked to print the trace record\n",
    "# (that is, printf(\"%u\", vtimestamp - self->start))\n",
    "def simple_out(value):\n",
    "    values.append(int(value))\n",
    "    \n",
    "# Create a seperate thread to run the DTrace instrumentation\n",
    "dtrace_thread = DTraceConsumerThread(io_performance_script,\n",
    "                                    chew_func=lambda v: None,\n",
    "                                    chewrec_func=lambda v: None,\n",
    "                                    out_func=simple_out,\n",
    "                                    walk_func=None,\n",
    "                                    sleep=1)\n",
    "\n",
    "# Start the DTrace instrumentation\n",
    "dtrace_thread.start()\n",
    "\n",
    "# Display header to indicate that the benchmarking has started\n",
    "print_header([\"Starting io-static read performance measurement\"])\n",
    "\n",
    "# Run the io-static benchmark    \n",
    "TOTAL_SIZE = 16*1024*1024\n",
    "BUFFER_SIZE = 8192\n",
    "\n",
    "for trials in range(0, 10):\n",
    "    output = !io/io-static -r -B -q -b {str(BUFFER_SIZE)} -t {str(TOTAL_SIZE)} iofile\n",
    "        \n",
    "# The benchmark has completed - stop the DTrace instrumentation\n",
    "dtrace_thread.stop()\n",
    "dtrace_thread.join()\n",
    "\n",
    "# Compute and print the average time\n",
    "average_time = sum(values[1:])/len(values[1:])\n",
    "print(\"Average time = {} nsec\".format(average_time))\n",
    "print(\"Average bandwidth = {} KiBytes/sec\".format((TOTAL_SIZE/1024)/(average_time/1e9)))\n",
    "\n",
    "# Display footer to indicate that the benchmarking has finished\n",
    "print_footer([\"Finished io-static read performance measurement\"])"
   ]
  },
  {
   "cell_type": "markdown",
   "metadata": {},
   "source": [
    "The following example uses DTrace to record the number of times each `syscall` is called by the `io-static` benchmark reading the benchmark data file:"
   ]
  },
  {
   "cell_type": "code",
   "execution_count": 12,
   "metadata": {
    "collapsed": false
   },
   "outputs": [
    {
     "name": "stdout",
     "output_type": "stream",
     "text": [
      "********************************************************************************\n",
      "* Starting io-static read performance measurement\n",
      "********************************************************************************\n",
      "Number of read() calls 32768\n",
      "********************************************************************************\n",
      "* Finished io-static read performance measurement\n",
      "********************************************************************************\n"
     ]
    }
   ],
   "source": [
    "# D Language script\n",
    "io_syscall_script = \"\"\"\n",
    "syscall:::entry\n",
    "/execname == \"io-static\"/\n",
    "{\n",
    "    @a[probefunc] = count();\n",
    "}\n",
    "\"\"\"\n",
    "\n",
    "# Callback invoked to process the aggregation\n",
    "from collections import defaultdict\n",
    "values = defaultdict(int)\n",
    "\n",
    "def simple_out(a, b, c, d):\n",
    "    values[c[0]] += d\n",
    "\n",
    "# Create a seperate thread to run the DTrace instrumentation\n",
    "dtrace_thread = DTraceConsumerThread(io_syscall_script,\n",
    "                                    walk_func=simple_out,\n",
    "                                    sleep=1)\n",
    "\n",
    "# Start the DTrace instrumentation\n",
    "dtrace_thread.start()\n",
    "\n",
    "# Display header to indicate that the benchmarking has started\n",
    "print_header(\"Starting io-static read performance measurement\")\n",
    "\n",
    "# Run the io-static benchmark    \n",
    "TOTAL_SIZE = 16*1024*1024\n",
    "BUFFER_SIZE = 512\n",
    "\n",
    "output_dtrace = !io/io-static -r -b {str(BUFFER_SIZE)} -t {str(TOTAL_SIZE)} iofile\n",
    "        \n",
    "# The benchmark has completed - stop the DTrace instrumentation\n",
    "dtrace_thread.stop()\n",
    "dtrace_thread.join()\n",
    "    \n",
    "# Print the syscalls and their frequency\n",
    "print(\"Number of read() calls {}\".format(values['read']))\n",
    "\n",
    "# Display footer to indicate that the benchmarking has finished\n",
    "print_footer(\"Finished io-static read performance measurement\")"
   ]
  },
  {
   "cell_type": "markdown",
   "metadata": {},
   "source": [
    "The following example explores the performance impact of adding a predicate clause in a DTrace script:"
   ]
  },
  {
   "cell_type": "code",
   "execution_count": 13,
   "metadata": {
    "collapsed": false
   },
   "outputs": [
    {
     "name": "stdout",
     "output_type": "stream",
     "text": [
      "********************************************************************************\n",
      "* Starting io-static read performance measurement\n",
      "********************************************************************************\n",
      "With predicate 22347.99 KiBytes/sec\n",
      "Without predicate 20572.83 KiBytes/sec\n",
      "********************************************************************************\n",
      "* Finished io-static read performance measurement\n",
      "********************************************************************************\n"
     ]
    }
   ],
   "source": [
    "# D Language scripts\n",
    "io_syscall_script = \"\"\"\n",
    "syscall:::entry\n",
    "/execname == \"io-static\"/\n",
    "{\n",
    "    @a[probefunc] = count();\n",
    "}\n",
    "\"\"\"\n",
    "\n",
    "io_syscall_script_no_predicate = \"\"\"\n",
    "syscall:::entry\n",
    "{\n",
    "    @a[probefunc] = count();\n",
    "}\n",
    "\"\"\"\n",
    "\n",
    "TOTAL_SIZE = 16*1024*1024\n",
    "BUFFER_SIZE = 512\n",
    "values = dict()\n",
    "\n",
    "# Callback invoked to process the aggregation\n",
    "def simple_out(a, b, c, d):\n",
    "    key = c[0]\n",
    "    count = d\n",
    "    if key in values:\n",
    "        values[key] += d\n",
    "    else:\n",
    "        values[key] = d\n",
    "\n",
    "# Create a seperate thread to run the DTrace instrumentation\n",
    "dtrace_thread = DTraceConsumerThread(io_syscall_script,\n",
    "                                    chew_func=None,\n",
    "                                    chewrec_func=None,\n",
    "                                    walk_func=simple_out,\n",
    "                                    sleep=1)\n",
    "\n",
    "# Start the DTrace instrumentation\n",
    "dtrace_thread.start()\n",
    "\n",
    "# Display header to indicate that the benchmarking has started\n",
    "print_header([\"Starting io-static read performance measurement\"])\n",
    "\n",
    "# Run the io-static benchmark    \n",
    "output_predicate = !io/io-static -r -b {str(BUFFER_SIZE)} -t {str(TOTAL_SIZE)} iofile\n",
    "        \n",
    "# The benchmark has completed - stop the DTrace instrumentation\n",
    "dtrace_thread.stop()\n",
    "dtrace_thread.join()\n",
    "\n",
    "# Now run the benchmark again but without the predicate\n",
    "\n",
    "# Create a seperate thread to run the DTrace instrumentation\n",
    "dtrace_thread = DTraceConsumerThread(io_syscall_script_no_predicate,\n",
    "                                    chew_func=None,\n",
    "                                    chewrec_func=None,\n",
    "                                    walk_func=simple_out,\n",
    "                                    sleep=1)\n",
    "\n",
    "# Start the DTrace instrumentation\n",
    "dtrace_thread.start()\n",
    "\n",
    "# Run the io-static benchmark    \n",
    "output_no_predicate = !io/io-static -r -b {str(BUFFER_SIZE)} -t {str(TOTAL_SIZE)} iofile\n",
    "        \n",
    "# The benchmark has completed - stop the DTrace instrumentation\n",
    "dtrace_thread.stop()\n",
    "dtrace_thread.join()\n",
    "\n",
    "# Print the performance of both runs\n",
    "print(\"With predicate {} KiBytes/sec\".format(output_predicate[0].split(' ')[0]))\n",
    "print(\"Without predicate {} KiBytes/sec\".format(output_no_predicate[0].split(' ')[0]))\n",
    "\n",
    "# Display footer to indicate that the benchmarking has finished\n",
    "print_footer([\"Finished io-static read performance measurement\"])"
   ]
  },
  {
   "cell_type": "markdown",
   "metadata": {},
   "source": [
    "---\n",
    "## matplotlib and pandas"
   ]
  },
  {
   "cell_type": "markdown",
   "metadata": {},
   "source": [
    "### Plot read performance (against buffer size)\n",
    "\n",
    "The following example plots data read from a previous saved file. The example also demonstrates calcualtion of error bars using Python's `pandas` library. (Generating plots on the BeagleBone Black can be rather slow!)"
   ]
  },
  {
   "cell_type": "code",
   "execution_count": 9,
   "metadata": {
    "collapsed": false,
    "scrolled": true
   },
   "outputs": [
    {
     "data": {
      "image/png": "[encoded data removed]",
      "text/plain": [
       "<matplotlib.figure.Figure at 0x26105770>"
      ]
     },
     "metadata": {},
     "output_type": "display_data"
    }
   ],
   "source": [
    "%matplotlib inline\n",
    "\n",
    "# Plot the read performance (IO bandwidth against buffer size with error bars)\n",
    "with open(\"2018-2019-l41-lab1.data\", 'r') as f:\n",
    "    content = f.readlines()\n",
    "    \n",
    "read_performance_values = [v.strip() for v in content]\n",
    "       \n",
    "# Buffer sizes to compute the performance with\n",
    "BUFFER_SIZES = [2048 * 2 ** exp for exp in range(0, 14)]\n",
    "\n",
    "# Total size of iofile (default size) = 16MiB\n",
    "TOTAL_SIZE = BUFFER_SIZES[-1] #16*1024*1024\n",
    "\n",
    "# Number of trials for each buffer size\n",
    "NUM_TRIALS = 11\n",
    "\n",
    "# Compute the IO bandwidth in KiBytes/sec\n",
    "io_bandwidth_values = [(TOTAL_SIZE/1024)/(json.loads(val)[\"timestamp\"]/1e9) for val in read_performance_values]\n",
    "\n",
    "# Reshape the list into an array of size [len(BUFFER_SIZES), NUM_TRIALS]\n",
    "io_bandwidth = np.reshape(io_bandwidth_values, (len(BUFFER_SIZES), NUM_TRIALS))[:,:]\n",
    "\n",
    "# Convert the array of io bandwidth values into a Panda DataFrame\n",
    "# this allows ploting of the median value and computation of the \n",
    "# error bars (25 and 75 percentile values)\n",
    "# Note: The error bars should be small indicating that the experiment is tightly controlled\n",
    "df = pd.DataFrame(io_bandwidth, index=BUFFER_SIZES)\n",
    "\n",
    "# Compute error bars based on the 25 and 75 quartile values\n",
    "error_bars = df.quantile([.25, .75], axis=1)\n",
    "error_bars.loc[[0.25]] = df.median(1) - error_bars.loc[[0.25]]\n",
    "error_bars.loc[[0.75]] = error_bars.loc[[0.75]] - df.median(1)\n",
    "error_bars_values = [error_bars.values]\n",
    "\n",
    "# Create and label the plot\n",
    "plt.figure();\n",
    "df.median(1).plot(figsize=(9,9), yerr=error_bars_values, label=\"io-static read\")\n",
    "plt.title('io-static read performance')\n",
    "plt.ylabel('I/O bandwidth (KiBytes/sec)')\n",
    "plt.xlabel('Buffer size (Bytes)')\n",
    "plt.xscale('log')\n",
    "plt.xticks(BUFFER_SIZES, [str(b) for b in BUFFER_SIZES], fontsize=8)\n",
    "\n",
    "# Plot a vertical line at 1MiB\n",
    "plt.axvline(x=1024*1024, color='g')\n",
    "\n",
    "# Display the plot and save it to a file\n",
    "# (this can take a while (~30 secs) on the BeagleBone Black)\n",
    "plt.savefig(\"2017-2018-l41-lab1-performance.pdf\")"
   ]
  },
  {
   "cell_type": "markdown",
   "metadata": {},
   "source": [
    "### Common functions and global variables"
   ]
  },
  {
   "cell_type": "code",
   "execution_count": 1,
   "metadata": {
    "collapsed": false
   },
   "outputs": [
    {
     "name": "stdout",
     "output_type": "stream",
     "text": [
      "Benchmark configuration:\n",
      "  buffersize: 16384\n",
      "  totalsize: 16777216\n",
      "  blockcount: 1024\n",
      "  operation: create\n",
      "  path: iofile\n",
      "  time: 2.209030041\n",
      "speed: 7416.83 KBytes/sec\n",
      "Done\n"
     ]
    }
   ],
   "source": [
    "import math\n",
    "import numpy as np\n",
    "import time\n",
    "\n",
    "def plot(datax, datay, filename, title, y_label, x_label):\n",
    "    square = np.reshape(datay, (len(datax), 12))[:,:]\n",
    "    df = pd.DataFrame(square, index=datax)\n",
    "    print df\n",
    "\n",
    "    # Compute error bars based on the 25 and 75 quartile values\n",
    "    error_bars = df.quantile([.25, .75], axis=1)\n",
    "    error_bars.loc[[0.25]] = df.median(1) - error_bars.loc[[0.25]]\n",
    "    error_bars.loc[[0.75]] = error_bars.loc[[0.75]] - df.median(1)\n",
    "    error_bars_values = [error_bars.values]\n",
    "\n",
    "    # Create and label the plot\n",
    "    plt.figure()\n",
    "    df.median(1).plot(figsize=(9,9), yerr=error_bars_values, label=title)\n",
    "    print df.median\n",
    "    plt.title(title)\n",
    "    plt.ylabel(y_label)\n",
    "    plt.xlabel(x_label)\n",
    "    plt.xscale('log')\n",
    "    plt.xticks(datax, [str(data) for data in datax], fontsize=8)\n",
    "#     plt.show()\n",
    "    plt.savefig(filename)\n",
    "    \n",
    "def save(datay, filename):\n",
    "    with open(filename, 'w') as f:\n",
    "        for item in datay:\n",
    "            f.write(\"%f\\n\" % item)\n",
    "            \n",
    "# Make sure the file has the correct size\n",
    "!io/io-static -c -t 16777216 iofile\n",
    "buffersizes = [int(math.pow(2, i)) for i in range(8, 25)]\n",
    "filesizes =  [int(math.pow(2, i)) for i in range(14, 25)]\n",
    "\n",
    "print('Done')"
   ]
  },
  {
   "cell_type": "markdown",
   "metadata": {},
   "source": [
    "### First experiment --- varying buffer size\n",
    "\n",
    "#### Methodology:\n",
    "\n",
    "        1.From each measurement, collect information using time, throughput, benchmark time and DTrace.\n",
    "        2.Perform the following measurements:\n",
    "                * Read and Write\n",
    "                * Vary buffer size logarithmically starting at 1B and finishing at 16MB\n"
   ]
  },
  {
   "cell_type": "markdown",
   "metadata": {},
   "source": [
    "#### Static"
   ]
  },
  {
   "cell_type": "code",
   "execution_count": 22,
   "metadata": {
    "collapsed": false,
    "scrolled": true
   },
   "outputs": [
    {
     "name": "stdout",
     "output_type": "stream",
     "text": [
      "********************************************************************************\n",
      "* Running benchmark\n",
      "********************************************************************************\n",
      "********************************************************************************\n",
      "* Running time\n",
      "********************************************************************************\n",
      "********************************************************************************\n",
      "* Running throughput-time\n",
      "********************************************************************************\n",
      "********************************************************************************\n",
      "* Running throughput\n",
      "********************************************************************************\n",
      "********************************************************************************\n",
      "* Running throughput -d\n",
      "********************************************************************************\n",
      "********************************************************************************\n",
      "* Running throughput zero\n",
      "********************************************************************************\n",
      "********************************************************************************\n",
      "* Running throughput zero -d\n",
      "********************************************************************************\n",
      "********************************************************************************\n",
      "* Running throughput without -B\n",
      "********************************************************************************\n",
      "********************************************************************************\n",
      "* Completed\n",
      "********************************************************************************\n"
     ]
    }
   ],
   "source": [
    "print_header(\"Running benchmark\")\n",
    "\n",
    "print_header(\"Running time\")\n",
    "times = [[], [], []]\n",
    "for buffersize in buffersizes:\n",
    "    for i in range(12):\n",
    "        output = !time -p io/io-static -r -B -q -b {str(buffersize)} iofile\n",
    "        times[0].append(float(output[0].split(' ')[1]))\n",
    "        times[1].append(float(output[1].split(' ')[1]))\n",
    "        times[2].append(float(output[2].split(' ')[1]))\n",
    "save(times[0], 'io-static-read-times-real.txt')\n",
    "plot(buffersizes, times[0], 'io-static-read-times-real.png', 'IO-static time command: Real time', 'Time (ns)', 'Buffer size (B)')\n",
    "save(times[1], 'io-static-read-times-user.txt')\n",
    "plot(buffersizes, times[1], 'io-static-read-times-user.png', 'IO-static time command: User time', 'Time (ns)', 'Buffer size (B)')\n",
    "save(times[2], 'io-static-read-times-sys.txt')\n",
    "plot(buffersizes, times[2], 'io-static-read-times-sys.png', 'IO-static time command: System time', 'Time (ns)', 'Buffer size (B)')\n",
    "\n",
    "print_header(\"Running throughput-time\")\n",
    "throughput_times = []    \n",
    "for buffersize in buffersizes:\n",
    "    for i in range(12):\n",
    "        output = !io/io-static -r -B -v -b {str(buffersize)} iofile\n",
    "        throughput_times.append(float(output[6].split(' ')[3]))\n",
    "save(throughput_times, 'io-static-read-throughput-times.txt')\n",
    "plot(buffersizes, throughput_times, 'io-static-read-throughput-times.png', 'IO-static: Time', 'Time (s)', 'Buffer size (B)')\n",
    "\n",
    "print_header(\"Running throughput\")\n",
    "throughputs = []\n",
    "for buffersize in buffersizes:\n",
    "    for i in range(12):\n",
    "        output = !io/io-static -r -B -b {str(buffersize)} iofile\n",
    "        throughputs.append(float(output[0].split(' ')[0]))\n",
    "save(throughputs, 'io-static-read-throughputs-no-readahead.txt')\n",
    "plot(buffersizes, throughputs, 'io-static-read-throughputs.png', 'IO-static: Throughput', 'Throughput (KB/s)', 'Buffer size (B)')\n",
    "\n",
    "print_header(\"Running throughput -d\")\n",
    "throughputs_d = []\n",
    "# Ignore first run\n",
    "output = !io/io-static -r -B -d iofile\n",
    "for buffersize in buffersizes:\n",
    "    for i in range(12):\n",
    "        output = !io/io-static -r -B -d -b {str(buffersize)} iofile\n",
    "        throughputs_d.append(float(output[0].split(' ')[0]))\n",
    "save(throughputs_d, 'io-static-read-throughputs-d.txt')\n",
    "plot(buffersizes, throughputs_d, 'io-static-read-throughputs-d.png', 'IO-static: Direct throughput', 'Throughput (KB/s)', 'Buffer size (B)')\n",
    "\n",
    "print_header(\"Running throughput zero\")\n",
    "throughputs_zero = []\n",
    "for buffersize in buffersizes:\n",
    "    for i in range(12):\n",
    "        output = !io/io-static -r -B -b {str(buffersize)} /dev/zero\n",
    "        throughputs_zero.append(float(output[0].split(' ')[0]))\n",
    "save(throughputs_zero, 'io-static-read-throughputs-zero.txt')\n",
    "plot(buffersizes, throughputs_zero, 'io-static-read-throughputs-zero.png', 'IO-static: Throughput from /dev/zero', 'Throughput (KB/s)', 'Buffer size (B)')\n",
    "\n",
    "print_header(\"Running throughput zero -d\")\n",
    "throughputs_zero_d = []\n",
    "# Ignore first run\n",
    "output = !io/io-static -r -B -d -b {str(buffersize)} /dev/zero\n",
    "for buffersize in buffersizes:\n",
    "    for i in range(12):\n",
    "        output = !io/io-static -r -B -d -b {str(buffersize)} /dev/zero\n",
    "        throughputs_zero_d.append(float(output[0].split(' ')[0]))\n",
    "save(throughputs_zero_d, 'io-static-read-throughputs-zero-d.txt')\n",
    "plot(buffersizes, throughputs_zero_d, 'io-static-read-throughputs-zero-d.png', 'IO-static: Direct throughput from /dev/zero', 'Throughput (KB/s)', 'Buffer size  (B)')\n",
    "\n",
    "print_header(\"Running throughput without -B\")\n",
    "throughputs_B = []\n",
    "for buffersize in buffersizes:\n",
    "    for i in range(12):\n",
    "        output = !io/io-static -r -b {str(buffersize)} iofile\n",
    "        throughputs_B.append(float(output[0].split(' ')[0]))\n",
    "save(throughputs_B, 'io-static-read-throughputs-b.txt')\n",
    "plot(buffersizes, throughputs_B, 'io-static-read-throughputs-b.png', 'IO-static: Throughput without -B flag', 'Throughput (KB/s)', 'Buffer size (B)')\n",
    "        \n",
    "print_footer(\"Completed\")"
   ]
  },
  {
   "cell_type": "code",
   "execution_count": 8,
   "metadata": {
    "collapsed": false
   },
   "outputs": [
    {
     "name": "stdout",
     "output_type": "stream",
     "text": [
      "********************************************************************************\n",
      "* Running DTrace\n",
      "********************************************************************************\n",
      "['14387.11 KBytes/sec']\n"
     ]
    },
    {
     "ename": "NameError",
     "evalue": "global name 'count_attampt' is not defined",
     "output_type": "error",
     "traceback": [
      "\u001b[1;31m---------------------------------------------------------------------------\u001b[0m",
      "\u001b[1;31mNameError\u001b[0m                                 Traceback (most recent call last)",
      "\u001b[1;32m<ipython-input-8-f42eedcb560c>\u001b[0m in \u001b[0;36m<module>\u001b[1;34m()\u001b[0m\n\u001b[0;32m     65\u001b[0m \u001b[1;33m{\u001b[0m \u001b[1;33m@\u001b[0m \u001b[1;33m=\u001b[0m \u001b[0mcount\u001b[0m\u001b[1;33m(\u001b[0m\u001b[1;33m)\u001b[0m\u001b[1;33m}\u001b[0m\u001b[1;33m\u001b[0m\u001b[0m\n\u001b[0;32m     66\u001b[0m \"\"\"\n\u001b[1;32m---> 67\u001b[1;33m \u001b[0mcluster_times\u001b[0m \u001b[1;33m=\u001b[0m \u001b[0mdtrace\u001b[0m\u001b[1;33m(\u001b[0m\u001b[0mcluster_script\u001b[0m\u001b[1;33m,\u001b[0m \u001b[1;33m[\u001b[0m\u001b[1;33m]\u001b[0m\u001b[1;33m)\u001b[0m\u001b[1;33m\u001b[0m\u001b[0m\n\u001b[0m\u001b[0;32m     68\u001b[0m \u001b[0msave\u001b[0m\u001b[1;33m(\u001b[0m\u001b[0mcluster_times\u001b[0m\u001b[1;33m)\u001b[0m\u001b[1;33m\u001b[0m\u001b[0m\n\u001b[0;32m     69\u001b[0m \u001b[0mplot\u001b[0m\u001b[1;33m(\u001b[0m\u001b[0mbuffersizes\u001b[0m\u001b[1;33m,\u001b[0m \u001b[0mcluster_times\u001b[0m\u001b[1;33m,\u001b[0m \u001b[1;34m'io-static-cluster-counts.png'\u001b[0m\u001b[1;33m,\u001b[0m \u001b[1;34m'IO-static: cluster_read call numbers'\u001b[0m\u001b[1;33m,\u001b[0m \u001b[1;34m'Number of calls'\u001b[0m\u001b[1;33m,\u001b[0m \u001b[1;34m'Buffer size'\u001b[0m\u001b[1;33m)\u001b[0m\u001b[1;33m\u001b[0m\u001b[0m\n",
      "\u001b[1;32m<ipython-input-8-f42eedcb560c>\u001b[0m in \u001b[0;36mdtrace\u001b[1;34m(script, array)\u001b[0m\n\u001b[0;32m     23\u001b[0m             \u001b[0mdtrace_thread\u001b[0m\u001b[1;33m.\u001b[0m\u001b[0mstop\u001b[0m\u001b[1;33m(\u001b[0m\u001b[1;33m)\u001b[0m\u001b[1;33m\u001b[0m\u001b[0m\n\u001b[0;32m     24\u001b[0m             \u001b[0mdtrace_thread\u001b[0m\u001b[1;33m.\u001b[0m\u001b[0mjoin\u001b[0m\u001b[1;33m(\u001b[0m\u001b[1;33m)\u001b[0m\u001b[1;33m\u001b[0m\u001b[0m\n\u001b[1;32m---> 25\u001b[1;33m             \u001b[0mcount_attempt\u001b[0m \u001b[1;33m=\u001b[0m \u001b[1;33m(\u001b[0m\u001b[0mcount_attampt\u001b[0m \u001b[1;33m+\u001b[0m \u001b[1;36m1\u001b[0m\u001b[1;33m)\u001b[0m \u001b[1;33m%\u001b[0m \u001b[1;36m12\u001b[0m\u001b[1;33m\u001b[0m\u001b[0m\n\u001b[0m\u001b[0;32m     26\u001b[0m         \u001b[0marray\u001b[0m \u001b[1;33m=\u001b[0m \u001b[0marray\u001b[0m \u001b[1;33m+\u001b[0m \u001b[0mdtrace_aggregate\u001b[0m\u001b[1;33m[\u001b[0m\u001b[0mcount_buffer\u001b[0m\u001b[1;33m]\u001b[0m\u001b[1;33m\u001b[0m\u001b[0m\n\u001b[0;32m     27\u001b[0m         \u001b[0mcount_buffer\u001b[0m \u001b[1;33m=\u001b[0m \u001b[1;33m(\u001b[0m\u001b[0mcount_buffer\u001b[0m \u001b[1;33m+\u001b[0m \u001b[1;36m1\u001b[0m\u001b[1;33m)\u001b[0m \u001b[1;33m%\u001b[0m \u001b[1;36m12\u001b[0m\u001b[1;33m\u001b[0m\u001b[0m\n",
      "\u001b[1;31mNameError\u001b[0m: global name 'count_attampt' is not defined"
     ]
    }
   ],
   "source": [
    "print_header(\"Running DTrace\")\n",
    "\n",
    "def dtrace(script, array):\n",
    "\n",
    "    dtrace_aggregate = [[0 for i in range(len(buffersizes))] for i in range(12)]\n",
    "    count_attempt = 0\n",
    "    count_buffer = 0\n",
    "\n",
    "    def simple_out(a, b, c, d):\n",
    "    #     print a,b,c,d\n",
    "        dtrace_aggregate[count_buffer][count_attempt] += d\n",
    "\n",
    "    for buffersize in buffersizes:\n",
    "        for i in range(12):\n",
    "            dtrace_thread = DTraceConsumerThread(script,\n",
    "                                                chew_func=None,\n",
    "                                                chewrec_func=None,\n",
    "                                                walk_func=simple_out,\n",
    "                                                sleep=1)\n",
    "            dtrace_thread.start()\n",
    "            output = !io/io-static -r -B -b {str(buffersize)} iofile\n",
    "            print output\n",
    "            dtrace_thread.stop()\n",
    "            dtrace_thread.join()\n",
    "            count_attempt = (count_attempt + 1) % 12\n",
    "        array = array + dtrace_aggregate[count_buffer]\n",
    "        count_buffer = (count_buffer + 1) % 12\n",
    "    \n",
    "    return array\n",
    "        \n",
    "read_script = \"\"\"\n",
    "syscall::read:entry\n",
    "/execname == \"io-static\"/\n",
    "{\n",
    "    self->rstart = vtimestamp;\n",
    "}\n",
    "\n",
    "syscall::read:return\n",
    "/execname == \"io-static\"/\n",
    "{\n",
    "    @reads = sum(vtimestamp - self->rstart);\n",
    "}\n",
    "\"\"\"\n",
    "# read_times = dtrace(read_script, [])\n",
    "# print read_times\n",
    "\n",
    "fbt_script = \"\"\"\n",
    "fbt::cluster_read:entry\n",
    "/execname == \"io-static\"/\n",
    "{ self->t = vtimestamp; }\n",
    "fbt::cluster_read:return\n",
    "/execname == \"io-static\" && self->t/\n",
    "{@ = sum(vtimestamp - self->t); self->t = 0;}\n",
    "\"\"\"\n",
    "# fbt_times = dtrace(fbt_script, [])\n",
    "# print fbt_times\n",
    "# plt.plot(buffersizes, fbt_times)\n",
    "# plt.xscale('log')\n",
    "# plt.savefig('breadn_flags.png')\n",
    "\n",
    "\n",
    "cluster_script = \"\"\"\n",
    "fbt::cluster_read:entry /execname == \"io-static\"/ { @ = count()}\n",
    "\"\"\"\n",
    "cluster_times = dtrace(cluster_script, [])\n",
    "save(cluster_times)\n",
    "plot(buffersizes, cluster_times, 'io-static-cluster-counts.png', 'IO-static: cluster_read call numbers', 'Number of calls', 'Buffer size')\n",
    "# print cluster_times \n",
    "# plt.plot(buffersizes, cluster_times)\n",
    "# plt.xscale('log')\n",
    "# plt.savefig('cluster_read.png')\n",
    "# save(cluster_times, 'cluster_read.txt')\n",
    "\n",
    "# plot(buffersizes, dtrace_times, 'io-static-read-dtrace-times.png')\n",
    "\n",
    "print_footer(\"Completed\")"
   ]
  },
  {
   "cell_type": "markdown",
   "metadata": {},
   "source": [
    "#### Dynamic"
   ]
  },
  {
   "cell_type": "code",
   "execution_count": 24,
   "metadata": {
    "collapsed": false
   },
   "outputs": [
    {
     "name": "stdout",
     "output_type": "stream",
     "text": [
      "********************************************************************************\n",
      "* Running benchmark\n",
      "********************************************************************************\n",
      "********************************************************************************\n",
      "* Running time\n",
      "********************************************************************************\n",
      "********************************************************************************\n",
      "* Running throughput-time\n",
      "********************************************************************************\n",
      "********************************************************************************\n",
      "* Running throughput\n",
      "********************************************************************************\n",
      "********************************************************************************\n",
      "* Running throughput zero\n",
      "********************************************************************************\n",
      "********************************************************************************\n",
      "* Running throughput zero -d\n",
      "********************************************************************************\n",
      "********************************************************************************\n",
      "* Running throughput without -B\n",
      "********************************************************************************\n",
      "********************************************************************************\n",
      "* Completed\n",
      "********************************************************************************\n"
     ]
    }
   ],
   "source": [
    "print_header(\"Running benchmark\")\n",
    "\n",
    "print_header(\"Running time\")\n",
    "times = [[], [], []]\n",
    "for buffersize in buffersizes:\n",
    "    for i in range(12):\n",
    "        output = !time -p io/io-dynamic -r -B -q -b {str(buffersize)} iofile\n",
    "        times[0].append(float(output[0].split(' ')[1]))\n",
    "        times[1].append(float(output[1].split(' ')[1]))\n",
    "        times[2].append(float(output[2].split(' ')[1]))\n",
    "save(times[0], 'io-dynamic-read-times-real.txt')\n",
    "plot(buffersizes, times[0], 'io-dynamic-read-times-real.png', 'IO-dynamic time command: Real time', 'Time (ns)', 'Buffer size')\n",
    "save(times[1], 'io-dynamic-read-times-user.txt')\n",
    "plot(buffersizes, times[1], 'io-dynamic-read-times-user.png', 'IO-dynamic time command: User time', 'Time (ns)', 'Buffer size')\n",
    "save(times[2], 'io-dynamic-read-times-sys.txt')\n",
    "plot(buffersizes, times[2], 'io-dynamic-read-times-sys.png', 'IO-dynamic time command: System time', 'Time (ns)', 'Buffer size')\n",
    "\n",
    "print_header(\"Running throughput-time\")\n",
    "throughput_times = []    \n",
    "for buffersize in buffersizes:\n",
    "    for i in range(12):\n",
    "        output = !io/io-dynamic -r -B -v -b {str(buffersize)} iofile\n",
    "        throughput_times.append(float(output[6].split(' ')[3]))\n",
    "save(throughput_times, 'io-dynamic-read-throughput-times.txt')\n",
    "plot(buffersizes, throughput_times, 'io-dynamic-read-throughput-times.png', 'IO-dynamic: Time', 'Time (s)', 'Buffer size')\n",
    "\n",
    "print_header(\"Running throughput\")\n",
    "throughputs = []\n",
    "for buffersize in buffersizes:\n",
    "    for i in range(12):\n",
    "        output = !io/io-dynamic -r -B -b {str(buffersize)} iofile\n",
    "        throughputs.append(float(output[0].split(' ')[0]))\n",
    "save(throughputs, 'io-dynamic-read-throughputs-no-readahead.txt')\n",
    "plot(buffersizes, throughputs, 'io-dynamic-read-throughputs.png', 'IO-dynamic: Throughput', 'Throughput (KB/s)', 'Buffer size')\n",
    "\n",
    "# print_header(\"Running throughput -d\")\n",
    "# throughputs_d = []\n",
    "# # Ignore first run\n",
    "# output = !io/io-static -r -B -d iofile\n",
    "# for buffersize in buffersizes:\n",
    "#     for i in range(12):\n",
    "#         output = !io/io-dynamic -r -B -d -b {str(buffersize)} iofile\n",
    "#         throughputs_d.append(float(output[0].split(' ')[0]))\n",
    "# save(throughputs_d, 'io-dynamic-read-throughputs-d.txt')\n",
    "# plot(buffersizes, throughputs_d, 'io-dynamic-read-throughputs-d.png', 'IO-dynamic: Direct throughput', 'Throughput (KB/s)', 'Buffer size')\n",
    "\n",
    "print_header(\"Running throughput zero\")\n",
    "throughputs_zero = []\n",
    "for buffersize in buffersizes:\n",
    "    for i in range(12):\n",
    "        output = !io/io-dynamic -r -B -b {str(buffersize)} /dev/zero\n",
    "        throughputs_zero.append(float(output[0].split(' ')[0]))\n",
    "save(throughputs_zero, 'io-dynamic-read-throughputs-zero.txt')\n",
    "plot(buffersizes, throughputs_zero, 'io-dynamic-read-throughputs-zero.png', 'IO-dynamic: Throughput from /dev/zero', 'Throughput (KB/s)', 'Buffer size')\n",
    "\n",
    "print_header(\"Running throughput zero -d\")\n",
    "throughputs_zero_d = []\n",
    "# Ignore first run\n",
    "output = !io/io-dynamic -r -B -d -b {str(buffersize)} /dev/zero\n",
    "for buffersize in buffersizes:\n",
    "    for i in range(12):\n",
    "        output = !io/io-dynamic -r -B -d -b {str(buffersize)} /dev/zero\n",
    "        throughputs_zero_d.append(float(output[0].split(' ')[0]))\n",
    "save(throughputs_zero_d, 'io-dynamic-read-throughputs-zero-d.txt')\n",
    "plot(buffersizes, throughputs_zero_d, 'io-dynamic-read-throughputs-zero-d.png', 'IO-dynamic: Direct throughput from /dev/zero', 'Throughput (KB/s)', 'Buffer size')\n",
    "\n",
    "print_header(\"Running throughput without -B\")\n",
    "throughputs_B = []\n",
    "for buffersize in buffersizes:\n",
    "    for i in range(12):\n",
    "        output = !io/io-dynamic -r -b {str(buffersize)} iofile\n",
    "        throughputs_B.append(float(output[0].split(' ')[0]))\n",
    "save(throughputs_B, 'io-dynamic-read-throughputs-b.txt')\n",
    "plot(buffersizes, throughputs_B, 'io-dynamic-read-throughputs-b.png', 'IO-dynamic: Throughput without -B flag', 'Throughput (KB/s)', 'Buffer size')\n",
    "        \n",
    "print_footer(\"Completed\")"
   ]
  },
  {
   "cell_type": "markdown",
   "metadata": {},
   "source": [
    "### Second experiment --- file size"
   ]
  },
  {
   "cell_type": "code",
   "execution_count": 9,
   "metadata": {
    "collapsed": false
   },
   "outputs": [
    {
     "name": "stdout",
     "output_type": "stream",
     "text": [
      "Benchmark configuration:\r\n",
      "  buffersize: 16384\r\n",
      "  totalsize: 16777216\r\n",
      "  blockcount: 1024\r\n",
      "  operation: create\r\n",
      "  path: iofile\r\n",
      "  time: 1.619815625\r\n",
      "10114.73 KBytes/sec\r\n"
     ]
    }
   ],
   "source": [
    "!io/io-static -c -t 16777216 iofile"
   ]
  },
  {
   "cell_type": "markdown",
   "metadata": {},
   "source": [
    "#### Static"
   ]
  },
  {
   "cell_type": "code",
   "execution_count": 20,
   "metadata": {
    "collapsed": false
   },
   "outputs": [
    {
     "name": "stdout",
     "output_type": "stream",
     "text": [
      "********************************************************************************\n",
      "* Running benchmark\n",
      "********************************************************************************\n",
      "********************************************************************************\n",
      "* Completed\n",
      "********************************************************************************\n"
     ]
    }
   ],
   "source": [
    "print_header(\"Running benchmark\")\n",
    "\n",
    "print_header(\"Running time\")\n",
    "times = [[], [], []]\n",
    "for filesize in filesizes:\n",
    "    for i in range(12):\n",
    "        output = !time -p io/io-static -r -B -q -t {str(filesize)} iofile\n",
    "        times[0].append(float(output[0].split(' ')[1]))\n",
    "        times[1].append(float(output[1].split(' ')[1]))\n",
    "        times[2].append(float(output[2].split(' ')[1]))\n",
    "save(times[0], 'io-static-file-read-times-real.txt')\n",
    "plot(filesizes, times[0], 'io-static-file-read-times-real.png', 'IO-static time command: Real time', 'Time (ns)', 'File size (B)')\n",
    "save(times[1], 'io-static-file-read-times-user.txt')\n",
    "plot(filesizes, times[1], 'io-static-file-read-times-user.png', 'IO-static time command: User time', 'Time (ns)', 'File size (B)')\n",
    "save(times[2], 'io-static-file-read-times-file-sys.txt')\n",
    "plot(filesizes, times[2], 'io-static-file-read-times-sys.png', 'IO-static time command: System time', 'Time (ns)', 'File size (B)')\n",
    "\n",
    "print_header(\"Running throughput-time\")\n",
    "throughput_times = []    \n",
    "for filesize in filesizes:\n",
    "    for i in range(12):\n",
    "        output = !io/io-static -r -B -v -t {str(filesize)} iofile\n",
    "        throughput_times.append(float(output[6].split(' ')[3]))\n",
    "save(throughput_times, 'io-static-file-read-throughput-times.txt')\n",
    "plot(filesizes, throughput_times, 'io-static-file-read-throughput-times.png', 'IO-static: Time', 'Time (s)', 'File size (B)')\n",
    "\n",
    "print_header(\"Running throughput\")\n",
    "throughputs = []\n",
    "for filesize in filesizes:\n",
    "    for i in range(12):\n",
    "        output = !io/io-static -r -B -t {str(filesize)} iofile\n",
    "        throughputs.append(float(output[0].split(' ')[0]))\n",
    "save(throughputs, 'io-static-file-read-throughputs-no-readahead.txt')\n",
    "plot(filesizes, throughputs, 'io-static-file-read-throughputs.png', 'IO-static: Throughput', 'Throughput (KB/s)', 'File size (B)')\n",
    "\n",
    "print_header(\"Running throughput -d\")\n",
    "throughputs_d = []\n",
    "# Ignore first run\n",
    "output = !io/io-static -r -B -d iofile\n",
    "for filesize in filesizes:\n",
    "    for i in range(12):\n",
    "        output = !io/io-static -r -B -d -t {str(filesize)} iofile\n",
    "        throughputs_d.append(float(output[0].split(' ')[0]))\n",
    "save(throughputs_d, 'io-static-file-read-throughputs-d.txt')\n",
    "plot(filesizes, throughputs_d, 'io-static-file-read-throughputs-d.png', 'IO-static: Direct throughput', 'Throughput (KB/s)', 'File size (B)')\n",
    "\n",
    "print_header(\"Running throughput zero\")\n",
    "throughputs_zero = []\n",
    "for filesize in filesizes:\n",
    "    for i in range(12):\n",
    "        output = !io/io-static -r -B -t {str(filesize)} /dev/zero\n",
    "        throughputs_zero.append(float(output[0].split(' ')[0]))\n",
    "save(throughputs_zero, 'io-static-read-throughputs-zero.txt')\n",
    "plot(filesizes, throughputs_zero, 'io-static-file-read-throughputs-zero.png', 'IO-static: Throughput from /dev/zero', 'Throughput (KB/s)', 'File size (B)')\n",
    "\n",
    "print_header(\"Running throughput zero -d\")\n",
    "throughputs_zero_d = []\n",
    "# Ignore first run\n",
    "output = !io/io-static -r -B -d /dev/zero\n",
    "for filesize in filesizes:\n",
    "    for i in range(12):\n",
    "        output = !io/io-static -r -B -d -t {str(filesize)} /dev/zero\n",
    "        throughputs_zero_d.append(float(output[0].split(' ')[0]))\n",
    "save(throughputs_zero_d, 'io-static-file-read-throughputs-zero-d.txt')\n",
    "plot(filesizes, throughputs_zero_d, 'io-static-file-read-throughputs-zero-d.png', 'IO-static: Direct throughput from /dev/zero', 'Throughput (KB/s)', 'File size (B)')\n",
    "\n",
    "print_header(\"Running throughput without -B\")\n",
    "throughputs_B = []\n",
    "for filesize in filesizes:\n",
    "    for i in range(12):\n",
    "        output = !io/io-static -r -t {str(filesize)} iofile\n",
    "        throughputs_B.append(float(output[0].split(' ')[0]))\n",
    "save(throughputs_B, 'io-static-file-read-throughputs-b.txt')\n",
    "plot(filesizes, throughputs_B, 'io-static-file-read-throughputs-b.png', 'IO-static: Throughput without -B flag', 'Throughput (KB/s)', 'Buffer size (B)')\n",
    "\n",
    "        \n",
    "print_footer(\"Completed\")"
   ]
  },
  {
   "cell_type": "code",
   "execution_count": 10,
   "metadata": {
    "collapsed": false
   },
   "outputs": [
    {
     "data": {
      "text/plain": [
       "[16384,\n",
       " 32768,\n",
       " 65536,\n",
       " 131072,\n",
       " 262144,\n",
       " 524288,\n",
       " 1048576,\n",
       " 2097152,\n",
       " 4194304,\n",
       " 8388608,\n",
       " 16777216]"
      ]
     },
     "execution_count": 10,
     "metadata": {},
     "output_type": "execute_result"
    }
   ],
   "source": [
    "filesizes"
   ]
  },
  {
   "cell_type": "markdown",
   "metadata": {},
   "source": [
    "#### Dynamic"
   ]
  },
  {
   "cell_type": "code",
   "execution_count": 25,
   "metadata": {
    "collapsed": false
   },
   "outputs": [
    {
     "name": "stdout",
     "output_type": "stream",
     "text": [
      "********************************************************************************\n",
      "* Running benchmark\n",
      "********************************************************************************\n",
      "********************************************************************************\n",
      "* Running time\n",
      "********************************************************************************\n",
      "********************************************************************************\n",
      "* Running throughput-time\n",
      "********************************************************************************\n",
      "********************************************************************************\n",
      "* Running throughput\n",
      "********************************************************************************\n",
      "********************************************************************************\n",
      "* Running throughput zero\n",
      "********************************************************************************\n",
      "********************************************************************************\n",
      "* Running throughput zero -d\n",
      "********************************************************************************\n",
      "********************************************************************************\n",
      "* Running throughput without -B\n",
      "********************************************************************************\n",
      "********************************************************************************\n",
      "* Completed\n",
      "********************************************************************************\n"
     ]
    }
   ],
   "source": [
    "print_header(\"Running benchmark\")\n",
    "\n",
    "print_header(\"Running time\")\n",
    "times = [[], [], []]\n",
    "for filesize in filesizes:\n",
    "    for i in range(12):\n",
    "        output = !time -p io/io-dynamic -r -B -q -t {str(filesize)} iofile\n",
    "        times[0].append(float(output[0].split(' ')[1]))\n",
    "        times[1].append(float(output[1].split(' ')[1]))\n",
    "        times[2].append(float(output[2].split(' ')[1]))\n",
    "save(times[0], 'io-dynamic-file-read-times-real.txt')\n",
    "plot(filesizes, times[0], 'io-dynamic-file-read-times-real.png', 'IO-dynamic time command: Real time', 'Time (ns)', 'File size (B)')\n",
    "save(times[1], 'io-dynamic-file-read-times-user.txt')\n",
    "plot(filesizes, times[1], 'io-dynamic-file-read-times-user.png', 'IO-dynamic time command: User time', 'Time (ns)', 'File size (B)')\n",
    "save(times[2], 'io-dynamic-file-read-times-file-sys.txt')\n",
    "plot(filesizes, times[2], 'io-dynamic-file-read-times-sys.png', 'IO-dynamic time command: System time', 'Time (ns)', 'File size (B)')\n",
    "\n",
    "print_header(\"Running throughput-time\")\n",
    "throughput_times = []    \n",
    "for filesize in filesizes:\n",
    "    for i in range(12):\n",
    "        output = !io/io-dynamic -r -B -v -t {str(filesize)} iofile\n",
    "        throughput_times.append(float(output[6].split(' ')[3]))\n",
    "save(throughput_times, 'io-dynamic-file-read-throughput-times.txt')\n",
    "plot(filesizes, throughput_times, 'io-dynamic-file-read-throughput-times.png', 'IO-dynamic: Time', 'Time (s)', 'File size (B)')\n",
    "\n",
    "print_header(\"Running throughput\")\n",
    "throughputs = []\n",
    "for filesize in filesizes:\n",
    "    for i in range(12):\n",
    "        output = !io/io-dynamic -r -B -t {str(filesize)} iofile\n",
    "        throughputs.append(float(output[0].split(' ')[0]))\n",
    "save(throughputs, 'io-dynamic-file-read-throughputs-no-readahead.txt')\n",
    "plot(filesizes, throughputs, 'io-dynamic-file-read-throughputs-no-readahead.png', 'IO-dynamic: Throughput', 'Throughput (KB/s)', 'File size (B)')\n",
    "\n",
    "# print_header(\"Running throughput -d\")\n",
    "# throughputs_d = []\n",
    "# # Ignore first run\n",
    "# output = !io/io-dynamic -r -B -d iofile\n",
    "# for filesize in filesizes:\n",
    "#     for i in range(12):\n",
    "#         output = !io/io-dynamic -r -B -d -t {str(filesize)} iofile\n",
    "#         throughputs_d.append(float(output[0].split(' ')[0]))\n",
    "# save(throughputs_d, 'io-dynamic-file-read-throughputs-d.txt')\n",
    "# plot(filesizes, throughputs_d, 'io-dynamic-file-read-throughputs-d.png', 'IO-dynamic: Direct throughput', 'Throughput (KB/s)', 'File size (B)')\n",
    "\n",
    "print_header(\"Running throughput zero\")\n",
    "throughputs_zero = []\n",
    "for filesize in filesizes:\n",
    "    for i in range(12):\n",
    "        output = !io/io-dynamic -r -B -t {str(filesize)} /dev/zero\n",
    "        throughputs_zero.append(float(output[0].split(' ')[0]))\n",
    "save(throughputs_zero, 'io-dynamic-file-read-throughputs-zero.txt')\n",
    "plot(filesizes, throughputs_zero, 'io-dynamic-file-read-throughputs-zero.png', 'IO-dynamic: Throughput from /dev/zero', 'Throughput (KB/s)', 'File size (B)')\n",
    "\n",
    "print_header(\"Running throughput zero -d\")\n",
    "throughputs_zero_d = []\n",
    "# Ignore first run\n",
    "output = !io/io-static -r -B -d /dev/zero\n",
    "for filesize in filesizes:\n",
    "    for i in range(12):\n",
    "        output = !io/io-dynamic -r -B -d -t {str(filesize)} /dev/zero\n",
    "        throughputs_zero_d.append(float(output[0].split(' ')[0]))\n",
    "save(throughputs_zero_d, 'io-dynamic-file-read-throughputs-zero-d.txt')\n",
    "plot(filesizes, throughputs_zero_d, 'io-dynamic-file-read-throughputs-zero-d.png', 'IO-dynamic: Direct throughput from /dev/zero', 'Throughput (KB/s)', 'File size (B)')\n",
    "\n",
    "print_header(\"Running throughput without -B\")\n",
    "throughputs_B = []\n",
    "for filesize in filesizes:\n",
    "    for i in range(12):\n",
    "        output = !io/io-dynamic -r -t {str(filesize)} iofile\n",
    "        throughputs_B.append(float(output[0].split(' ')[0]))\n",
    "save(throughputs_B, 'io-dynamic-file-read-throughputs-b.txt')\n",
    "plot(filesizes, throughputs_B, 'io-dynamic-file-read-throughputs-md.png', 'IO-dynamic: Throughput from /dev/zero', 'Throughput (KB/s)', 'Buffer size (B)')\n",
    "        \n",
    "print_footer(\"Completed\")"
   ]
  },
  {
   "cell_type": "code",
   "execution_count": 15,
   "metadata": {
    "collapsed": false
   },
   "outputs": [
    {
     "name": "stdout",
     "output_type": "stream",
     "text": [
      "['speed: 64289.30 KBytes/sec']\n",
      "['speed: 15375.69 KBytes/sec']\n",
      "['speed: 112280.71 KBytes/sec']\n",
      "['speed: 7181.23 KBytes/sec']\n",
      "['speed: 7678.21 KBytes/sec']\n",
      "['speed: 8080.09 KBytes/sec']\n",
      "['speed: 7974.07 KBytes/sec']\n",
      "['speed: 3675.97 KBytes/sec']\n",
      "['speed: 5735.99 KBytes/sec']\n",
      "['speed: 6370.41 KBytes/sec']\n",
      "['speed: 7057.49 KBytes/sec']\n"
     ]
    }
   ],
   "source": [
    "for filesize in filesizes:\n",
    "    discard = !io/io-static -c -t {str(filesize)} iofile\n",
    "    discard = !io/io-static -r -B -d -t {str(filesize)} iofile\n",
    "    output = !io/io-static -r -B -d -t {str(filesize)} iofile\n",
    "    print(output)"
   ]
  },
  {
   "cell_type": "code",
   "execution_count": 46,
   "metadata": {
    "collapsed": false
   },
   "outputs": [
    {
     "name": "stdout",
     "output_type": "stream",
     "text": [
      "               0        1        2        3        4        5        6   \\\n",
      "16384     1679.41  3571.56  3617.25  2346.87  3574.39  3557.00  3564.96   \n",
      "32768     4735.98  4730.78  4894.74  4868.52  4918.88  4898.21  4880.31   \n",
      "65536     4193.48  6218.98  6191.93  6251.30  6198.95  6241.62  6049.67   \n",
      "131072    4453.35  7167.91  6966.35  7003.48  7147.01  6988.30  6962.53   \n",
      "262144    6371.52  7617.84  7658.86  7644.90  7016.18  6998.68  7642.09   \n",
      "524288    5984.86  7910.59  7932.30  7918.04  7567.32  7933.89  7953.82   \n",
      "1048576   8054.41  7975.66  7972.53  7797.37  7789.83  7957.19  7920.90   \n",
      "2097152   8097.21  8005.00  8097.77  7999.92  7964.80  7989.61  8087.37   \n",
      "4194304   7974.36  8193.85  8172.58  8135.17  8201.21  8203.62  8156.52   \n",
      "8388608   8016.64  8223.78  8243.60  8235.09  8230.57  8234.62  8209.88   \n",
      "16777216  8433.76  8167.23  8110.85  8169.66  8106.48  8185.32  8187.45   \n",
      "\n",
      "               7        8        9        10       11  \n",
      "16384     3615.51  3645.20  3555.42  3573.75  3459.68  \n",
      "32768     4748.33  4843.81  4912.72  4975.67  4888.76  \n",
      "65536     6232.22  6059.91  6007.39  6231.57  6177.76  \n",
      "131072    2610.90  7161.22  6868.97  6949.13  7031.61  \n",
      "262144    7672.39  7639.42  7231.64  7667.11  7673.83  \n",
      "524288    7908.27  7950.07  7946.45  7930.61  7957.68  \n",
      "1048576   7804.78  7812.45  7996.14  7899.60  7959.84  \n",
      "2097152   8074.97  8088.44  7992.38  8037.91  8044.76  \n",
      "4194304   8195.94  8137.82  8189.61  8131.00  8192.15  \n",
      "8388608   8236.74  8157.90  8171.97  8149.45  8128.91  \n",
      "16777216  7736.51  8141.74  8171.59  8183.56  4946.63  \n",
      "<bound method DataFrame.median of                0        1        2        3        4        5        6   \\\n",
      "16384     1679.41  3571.56  3617.25  2346.87  3574.39  3557.00  3564.96   \n",
      "32768     4735.98  4730.78  4894.74  4868.52  4918.88  4898.21  4880.31   \n",
      "65536     4193.48  6218.98  6191.93  6251.30  6198.95  6241.62  6049.67   \n",
      "131072    4453.35  7167.91  6966.35  7003.48  7147.01  6988.30  6962.53   \n",
      "262144    6371.52  7617.84  7658.86  7644.90  7016.18  6998.68  7642.09   \n",
      "524288    5984.86  7910.59  7932.30  7918.04  7567.32  7933.89  7953.82   \n",
      "1048576   8054.41  7975.66  7972.53  7797.37  7789.83  7957.19  7920.90   \n",
      "2097152   8097.21  8005.00  8097.77  7999.92  7964.80  7989.61  8087.37   \n",
      "4194304   7974.36  8193.85  8172.58  8135.17  8201.21  8203.62  8156.52   \n",
      "8388608   8016.64  8223.78  8243.60  8235.09  8230.57  8234.62  8209.88   \n",
      "16777216  8433.76  8167.23  8110.85  8169.66  8106.48  8185.32  8187.45   \n",
      "\n",
      "               7        8        9        10       11  \n",
      "16384     3615.51  3645.20  3555.42  3573.75  3459.68  \n",
      "32768     4748.33  4843.81  4912.72  4975.67  4888.76  \n",
      "65536     6232.22  6059.91  6007.39  6231.57  6177.76  \n",
      "131072    2610.90  7161.22  6868.97  6949.13  7031.61  \n",
      "262144    7672.39  7639.42  7231.64  7667.11  7673.83  \n",
      "524288    7908.27  7950.07  7946.45  7930.61  7957.68  \n",
      "1048576   7804.78  7812.45  7996.14  7899.60  7959.84  \n",
      "2097152   8074.97  8088.44  7992.38  8037.91  8044.76  \n",
      "4194304   8195.94  8137.82  8189.61  8131.00  8192.15  \n",
      "8388608   8236.74  8157.90  8171.97  8149.45  8128.91  \n",
      "16777216  7736.51  8141.74  8171.59  8183.56  4946.63  >\n"
     ]
    },
    {
     "ename": "NameError",
     "evalue": "name 'datax' is not defined",
     "output_type": "error",
     "traceback": [
      "\u001b[1;31m---------------------------------------------------------------------------\u001b[0m",
      "\u001b[1;31mNameError\u001b[0m                                 Traceback (most recent call last)",
      "\u001b[1;32m<ipython-input-46-5b1c1dba43a0>\u001b[0m in \u001b[0;36m<module>\u001b[1;34m()\u001b[0m\n\u001b[0;32m     28\u001b[0m \u001b[0mplt\u001b[0m\u001b[1;33m.\u001b[0m\u001b[0mxlabel\u001b[0m\u001b[1;33m(\u001b[0m\u001b[1;34m'C'\u001b[0m\u001b[1;33m)\u001b[0m\u001b[1;33m\u001b[0m\u001b[0m\n\u001b[0;32m     29\u001b[0m \u001b[0mplt\u001b[0m\u001b[1;33m.\u001b[0m\u001b[0mxscale\u001b[0m\u001b[1;33m(\u001b[0m\u001b[1;34m'log'\u001b[0m\u001b[1;33m)\u001b[0m\u001b[1;33m\u001b[0m\u001b[0m\n\u001b[1;32m---> 30\u001b[1;33m \u001b[0mplt\u001b[0m\u001b[1;33m.\u001b[0m\u001b[0mxticks\u001b[0m\u001b[1;33m(\u001b[0m\u001b[0mdatax\u001b[0m\u001b[1;33m,\u001b[0m \u001b[1;33m[\u001b[0m\u001b[0mstr\u001b[0m\u001b[1;33m(\u001b[0m\u001b[0mdata\u001b[0m\u001b[1;33m)\u001b[0m \u001b[1;32mfor\u001b[0m \u001b[0mdata\u001b[0m \u001b[1;32min\u001b[0m \u001b[0mfilesizes\u001b[0m\u001b[1;33m]\u001b[0m\u001b[1;33m,\u001b[0m \u001b[0mfontsize\u001b[0m\u001b[1;33m=\u001b[0m\u001b[1;36m8\u001b[0m\u001b[1;33m)\u001b[0m\u001b[1;33m\u001b[0m\u001b[0m\n\u001b[0m\u001b[0;32m     31\u001b[0m \u001b[0mplt\u001b[0m\u001b[1;33m.\u001b[0m\u001b[0mshow\u001b[0m\u001b[1;33m(\u001b[0m\u001b[1;33m)\u001b[0m\u001b[1;33m\u001b[0m\u001b[0m\n\u001b[0;32m     32\u001b[0m \u001b[1;33m\u001b[0m\u001b[0m\n",
      "\u001b[1;31mNameError\u001b[0m: name 'datax' is not defined"
     ]
    }
   ],
   "source": [
    "# print_header(\"Running throughput -d\")\n",
    "# misc_throughputs_d = []\n",
    "# # Ignore first run\n",
    "# output = !io/io-static -r -B -d iofile\n",
    "# for filesize in filesizes:\n",
    "#     for i in range(12):\n",
    "#         output = !io/io-static -r -B -d -t {str(filesize)} iofile\n",
    "#         misc_throughputs_d.append(float(output[0].split(' ')[0]))\n",
    "#         print output\n",
    "# print misc_throughputs_d\n",
    "\n",
    "square = np.reshape(misc_throughputs_d, (len(filesizes), 12))[:,:]\n",
    "df = pd.DataFrame(square, index=filesizes)\n",
    "print df\n",
    "\n",
    "# Compute error bars based on the 25 and 75 quartile values\n",
    "error_bars = df.quantile([.25, .75], axis=1)\n",
    "error_bars.loc[[0.25]] = df.median(1) - error_bars.loc[[0.25]]\n",
    "error_bars.loc[[0.75]] = error_bars.loc[[0.75]] - df.median(1)\n",
    "error_bars_values = [error_bars.values]\n",
    "\n",
    "# Create and label the plot\n",
    "plt.figure()\n",
    "df.median(1).plot(figsize=(9,9), yerr=error_bars_values, label='A')\n",
    "print df.median\n",
    "plt.title('A')\n",
    "plt.ylabel('B')\n",
    "plt.xlabel('C')\n",
    "plt.xscale('log')\n",
    "plt.xticks(datax, [str(data) for data in filesizes], fontsize=8)\n",
    "plt.show()\n",
    "\n",
    "# plot(filesizes, misc_throughputs_d, 'misc-throughputs-d.png', 'IO-static: Direct throughput', 'Throughput (KB/s)', 'File size (B)')"
   ]
  },
  {
   "cell_type": "code",
   "execution_count": null,
   "metadata": {
    "collapsed": true
   },
   "outputs": [],
   "source": []
  },
  {
   "cell_type": "code",
   "execution_count": null,
   "metadata": {
    "collapsed": true
   },
   "outputs": [],
   "source": []
  }
 ],
 "metadata": {
  "kernelspec": {
   "display_name": "Python 2",
   "language": "python",
   "name": "python2"
  },
  "language_info": {
   "codemirror_mode": {
    "name": "ipython",
    "version": 2
   },
   "file_extension": ".py",
   "mimetype": "text/x-python",
   "name": "python",
   "nbconvert_exporter": "python",
   "pygments_lexer": "ipython2",
   "version": "2.7.13"
  }
 },
 "nbformat": 4,
 "nbformat_minor": 0
}
