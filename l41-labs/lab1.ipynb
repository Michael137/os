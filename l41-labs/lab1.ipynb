{
 "cells": [
  {
   "cell_type": "markdown",
   "metadata": {},
   "source": [
    "# Setup"
   ]
  },
  {
   "cell_type": "code",
   "execution_count": 14,
   "metadata": {
    "collapsed": false
   },
   "outputs": [
    {
     "name": "stdout",
     "output_type": "stream",
     "text": [
      "cc -Wall -o io-static -DPROGNAME=\\\"io-static\\\" io.c -static\n",
      "cc -Wall -o io-dynamic -DPROGNAME=\\\"io-dynamic\\\" io.c -dynamic\n",
      "Benchmark configuration:\n",
      "  buffersize: 16384\n",
      "  totalsize: 16777216\n",
      "  blockcount: 1024\n",
      "  operation: create\n",
      "  path: lab1/iofile\n",
      "  time: 2.453858376\n",
      "speed: 6676.83 KBytes/sec\n"
     ]
    }
   ],
   "source": [
    "# Extract and build the benchmark\n",
    "!make -C io\n",
    "\n",
    "!mkdir -p /data/lab1\n",
    "!io/io-static -c lab1/iofile"
   ]
  },
  {
   "cell_type": "markdown",
   "metadata": {},
   "source": [
    "# Reads"
   ]
  },
  {
   "cell_type": "markdown",
   "metadata": {},
   "source": [
    "## Constant IO/Varying Buffer (with cache, static/dynamic)\n",
    "\n",
    "* Total size: 16MB (default)\n",
    "* Buffer: varies from 512 to 512 * 2^16\n",
    "* (io.c modified to output kbytes/sec in same format as other params)\n",
    "\n",
    "TODO:\n",
    "* Run multiple times then average\n",
    "* Prevent warmup effect\n",
    "* DTrace and consider probe effect\n",
    "* Plot"
   ]
  },
  {
   "cell_type": "code",
   "execution_count": 13,
   "metadata": {
    "collapsed": false
   },
   "outputs": [
    {
     "name": "stdout",
     "output_type": "stream",
     "text": [
      "######## Start io-static ########\n",
      "\t ==> Reading from lab1/iofile\n"
     ]
    },
    {
     "ename": "KeyError",
     "evalue": "'speed'",
     "output_type": "error",
     "traceback": [
      "\u001b[1;31m---------------------------------------------------------------------------\u001b[0m",
      "\u001b[1;31mKeyError\u001b[0m                                  Traceback (most recent call last)",
      "\u001b[1;32m<ipython-input-13-13898a78b325>\u001b[0m in \u001b[0;36m<module>\u001b[1;34m()\u001b[0m\n\u001b[0;32m     25\u001b[0m         \u001b[0mparsed\u001b[0m \u001b[1;33m=\u001b[0m \u001b[0mparse\u001b[0m\u001b[1;33m(\u001b[0m\u001b[0mout\u001b[0m\u001b[1;33m)\u001b[0m\u001b[1;33m\u001b[0m\u001b[0m\n\u001b[0;32m     26\u001b[0m         \u001b[0mstatic_outputs\u001b[0m\u001b[1;33m.\u001b[0m\u001b[0mappend\u001b[0m\u001b[1;33m(\u001b[0m\u001b[0mparsed\u001b[0m\u001b[1;33m)\u001b[0m\u001b[1;33m\u001b[0m\u001b[0m\n\u001b[1;32m---> 27\u001b[1;33m         \u001b[1;32mprint\u001b[0m\u001b[1;33m(\u001b[0m\u001b[1;34m\"{} bytes {} bytes ({} KBytes/sec): {}s\"\u001b[0m\u001b[1;33m.\u001b[0m\u001b[0mformat\u001b[0m\u001b[1;33m(\u001b[0m\u001b[0mparsed\u001b[0m\u001b[1;33m[\u001b[0m\u001b[1;34m'buffersize'\u001b[0m\u001b[1;33m]\u001b[0m\u001b[1;33m,\u001b[0m \u001b[0mparsed\u001b[0m\u001b[1;33m[\u001b[0m\u001b[1;34m'totalsize'\u001b[0m\u001b[1;33m]\u001b[0m\u001b[1;33m,\u001b[0m \u001b[0mparsed\u001b[0m\u001b[1;33m[\u001b[0m\u001b[1;34m'speed'\u001b[0m\u001b[1;33m]\u001b[0m\u001b[1;33m,\u001b[0m \u001b[0mparsed\u001b[0m\u001b[1;33m[\u001b[0m\u001b[1;34m'time'\u001b[0m\u001b[1;33m]\u001b[0m\u001b[1;33m)\u001b[0m\u001b[1;33m)\u001b[0m\u001b[1;33m\u001b[0m\u001b[0m\n\u001b[0m\u001b[0;32m     28\u001b[0m \u001b[1;33m\u001b[0m\u001b[0m\n\u001b[0;32m     29\u001b[0m \u001b[1;32mprint\u001b[0m\u001b[1;33m(\u001b[0m\u001b[1;34m\"######## End io-static ########\"\u001b[0m\u001b[1;33m)\u001b[0m\u001b[1;33m\u001b[0m\u001b[0m\n",
      "\u001b[1;31mKeyError\u001b[0m: 'speed'"
     ]
    }
   ],
   "source": [
    "# Setup\n",
    "BUF_START = 512\n",
    "BUFFER_SIZES = [512 * 2 ** exp for exp in range(0, 16)]\n",
    "FILES = [\"lab1/iofile\", \"/dev/zero\"]\n",
    "IO_SIZE = BUFFER_SIZES[-1] # Keep constant at default 16MB (last value of BUFFER_SIZES)\n",
    "\n",
    "def strs_to_tup(strs):\n",
    "    if len(strs) == 1:\n",
    "        return (strs[0].strip(),None)\n",
    "    else:\n",
    "        return (strs[0].strip(),strs[1].strip())\n",
    "\n",
    "def parse(cmd_out):\n",
    "    tups = map(strs_to_tup, [string.split(\":\") for string in cmd_out])\n",
    "    return dict(tups)\n",
    "\n",
    "# The meat\n",
    "print(\"######## Start io-static ########\")\n",
    "\n",
    "static_outputs = []\n",
    "for filename in FILES:\n",
    "    for buffer_size in BUFFER_SIZES:\n",
    "        print(\"\\t ==> Reading from {}\".format(filename))\n",
    "        out = !io/io-static -v -r -b {str(buffer_size)} -t {str(IO_SIZE)} {filename}\n",
    "        parsed = parse(out)\n",
    "        static_outputs.append(parsed)\n",
    "        print(\"{} bytes {} bytes ({}): {}s\".format(parsed['buffersize'], parsed['totalsize'], parsed['speed'], parsed['time']))\n",
    "\n",
    "print(\"######## End io-static ########\")\n",
    "\n",
    "print(\"######## Start io-dynamic ########\")\n",
    "\n",
    "dynamic_outputs = []\n",
    "for filename in FILES:\n",
    "    for buffer_size in BUFFER_SIZES:\n",
    "        print(\"\\t ==> Reading from {}\".format(filename))\n",
    "        out = !io/io-dynamic -v -r -b {str(buffer_size)} -t {str(IO_SIZE)} {filename}\n",
    "        parsed = parse(out)\n",
    "        dynamic_outputs.append(parsed)\n",
    "        print(\"{} bytes {} bytes ({}): {}s\".format(parsed['buffersize'], parsed['totalsize'], parsed['speed'], parsed['time']))\n",
    "\n",
    "print(\"######## End io-dynamic ########\")"
   ]
  },
  {
   "cell_type": "code",
   "execution_count": null,
   "metadata": {
    "collapsed": true
   },
   "outputs": [],
   "source": []
  }
 ],
 "metadata": {
  "kernelspec": {
   "display_name": "Python 2",
   "language": "python",
   "name": "python2"
  },
  "language_info": {
   "codemirror_mode": {
    "name": "ipython",
    "version": 2
   },
   "file_extension": ".py",
   "mimetype": "text/x-python",
   "name": "python",
   "nbconvert_exporter": "python",
   "pygments_lexer": "ipython2",
   "version": "2.7.13"
  }
 },
 "nbformat": 4,
 "nbformat_minor": 1
}
