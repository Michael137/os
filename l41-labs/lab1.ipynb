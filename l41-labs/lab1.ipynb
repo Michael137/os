{
 "cells": [
  {
   "cell_type": "markdown",
   "metadata": {},
   "source": [
    "# Setup"
   ]
  },
  {
   "cell_type": "code",
   "execution_count": 30,
   "metadata": {
    "collapsed": false
   },
   "outputs": [
    {
     "name": "stdout",
     "output_type": "stream",
     "text": [
      "Benchmark configuration:\r\n",
      "  buffersize: 16384\r\n",
      "  totalsize: 16777216\r\n",
      "  blockcount: 1024\r\n",
      "  operation: create\r\n",
      "  path: lab1/iofile\r\n",
      "  time: 2.461115000\r\n",
      "speed: 6657.15 KBytes/sec\r\n"
     ]
    }
   ],
   "source": [
    "# Extract and build the benchmark\n",
    "def make_io_file():\n",
    "    !make -C io\n",
    "\n",
    "    !mkdir -p /data/lab1\n",
    "    !io/io-static -c lab1/iofile\n",
    "\n",
    "make_io_file()"
   ]
  },
  {
   "cell_type": "code",
   "execution_count": 45,
   "metadata": {
    "collapsed": false
   },
   "outputs": [],
   "source": [
    "def strs_to_tup(strs):\n",
    "    if len(strs) == 1:\n",
    "        return (strs[0].strip(),None)\n",
    "    else:\n",
    "        return (strs[0].strip(),strs[1].strip())\n",
    "\n",
    "def parse(cmd_out):\n",
    "    tups = map(strs_to_tup, [string.split(\":\") for string in cmd_out])\n",
    "    return dict(tups)\n",
    "\n",
    "import time\n",
    "from __future__ import print_function\n",
    "from decimal import Decimal\n",
    "import pandas as pd\n",
    "import numpy as np\n",
    "%matplotlib inline\n",
    "# import matplotlib.pyplot as plt\n",
    "# plt.style.use('seaborn-whitegrid')\n",
    "\n",
    "def label_point(x, y, ax):\n",
    "    a = pd.concat({'x': x, 'y': y}, axis=1)\n",
    "    for i, point in a.iterrows():\n",
    "        ax.text(point['x'], point['y'], \"{:.2E}\".format(Decimal(point['x'])))\n",
    "\n",
    "# np.array expects: [[x1, y1], [x2, y2], ..., [xn, yn]]\n",
    "def graph(xs, ys, save = False, save_name = \"plot\"):\n",
    "    df = pd.DataFrame(np.array(np.column_stack((xs, ys))), columns=['x', 'y'])\n",
    "    plt = df.plot.scatter(x='x', y='y',logx=True, grid=True, figsize=(20,10))\n",
    "    label_point(df.x, df.y, plt)\n",
    "    if save:\n",
    "        fig = plt.get_figure()\n",
    "        fig.savefig(\"{}.pdf\".format(save_name))\n",
    "\n",
    "def benchmark(flags, repeat, exe, filename, buf_sizes, io_sizes, create = False, reset_file = False, dtrace_info = None ):\n",
    "    runs = range(1, repeat + 1)\n",
    "    outputs = []\n",
    "    print(\"\\t ==> Running {}\".format(exe))\n",
    "    print(\"\\t\\t ==> Reading from {}\".format(filename))\n",
    "    is_dtrace = (dtrace_info != None)\n",
    "    dtrace_thread = None\n",
    "\n",
    "    for buffer_size in buf_sizes:\n",
    "        for io_size in io_sizes:\n",
    "            cmd = \"{} {} -b {} -t {} {}\".format(exe, flags, buffer_size, io_size, filename)\n",
    "            #if \"-v\" not in flags:\n",
    "            #    cmd = \"time -p \" + cmd\n",
    "            discard = !{cmd}\n",
    "\n",
    "            if create:\n",
    "                created = !io/io-static -t {str(io_size)} -c lab1/iofile\n",
    "\n",
    "            if is_dtrace:\n",
    "                # Create a seperate thread to run the DTrace instrumentation\n",
    "                dtrace_thread = DTraceConsumerThread(dtrace_info['script'],\n",
    "                                                        chew_func=None,\n",
    "                                                        chewrec_func=None,\n",
    "                                                        walk_func=dtrace_info['agg_fn'],\n",
    "                                                        sleep=1)\n",
    "                # Start the DTrace instrumentation\n",
    "                dtrace_thread.start()\n",
    "\n",
    "            results = []\n",
    "            for i in runs:\n",
    "                out = !{cmd}\n",
    "                parsed = parse(out)\n",
    "                results.append(parsed)\n",
    "\n",
    "            if is_dtrace and dtrace_thread != None:\n",
    "                # The benchmark has completed - stop the DTrace instrumentation\n",
    "                dtrace_thread.stop()\n",
    "                dtrace_thread.join()\n",
    "                print(\"\\t\\t\\tdtrace run: {0:2} bytes {1:2} bytes\".format(buffer_size, io_size))\n",
    "            else:\n",
    "                times = [float(item['time']) for item in results]\n",
    "                speeds = [float(item['speed'].split(' ')[0]) for item in results] # Need to split by ' ' because output speed has units attached to it (see io.c)\n",
    "                avg_time = sum(times) / len(runs)\n",
    "                avg_speed = sum(speeds) / len(runs)\n",
    "                buf_sz = int(results[0]['buffersize'])\n",
    "                tot_sz = int(results[0]['totalsize'])\n",
    "                print(\"\\t\\t\\t{0:2} bytes {1:2} bytes ({2:.2f} KBytes/sec): {3:.6f}s\".format(buf_sz, tot_sz, avg_speed, avg_time))\n",
    "                outputs.append({'buffersize':buffer_size, 'time':avg_time, 'speed':avg_speed, 'iosize':tot_sz})\n",
    "    if reset_file:\n",
    "        print(\"recreating default benchmark file\")\n",
    "        make_io_file()\n",
    "    return outputs"
   ]
  },
  {
   "cell_type": "code",
   "execution_count": 46,
   "metadata": {
    "collapsed": true
   },
   "outputs": [],
   "source": [
    "# D Language scripts\n",
    "D_ffs_read_time = \"\"\"\n",
    "syscall::clock_gettime:return\n",
    "/execname == \"io-static\" && !self->in_benchmark/\n",
    "{\n",
    "    self->in_benchmark = 1;\n",
    "}\n",
    "\n",
    "syscall::clock_gettime:entry\n",
    "/execname == \"io-static\" && self->in_benchmark/\n",
    "{\n",
    "    self->in_benchmark = 0;\n",
    "}\n",
    "\n",
    "fbt::ffs_read:entry\n",
    "/self->in_benchmark/\n",
    "{\n",
    "    self->ts = vtimestamp;\n",
    "}\n",
    "fbt::ffs_read:return\n",
    "/self->ts && self->in_benchmark/\n",
    "{\n",
    "    @[id] = sum(vtimestamp - self->ts);\n",
    "    self->ts = 0;\n",
    "}\n",
    "\"\"\"\n",
    "\n",
    "D_program_time = \"\"\"\n",
    "syscall::execve:return\n",
    "/execname == \"io-static\" && self->ts/\n",
    "{\n",
    "    trace(vtimestamp - self->ts)\n",
    "}\n",
    "\n",
    "syscall::exit:entry\n",
    "/execname == \"io-static\"/\n",
    "{\n",
    "    self->ts = vtimestamp;\n",
    "}\n",
    "\"\"\""
   ]
  },
  {
   "cell_type": "markdown",
   "metadata": {},
   "source": [
    "# Reads"
   ]
  },
  {
   "cell_type": "markdown",
   "metadata": {},
   "source": [
    "## Constant IO/Varying Buffer (with cache, static/dynamic)\n",
    "\n",
    "* Total size: 16MB (default)\n",
    "* Buffer: varies from 512 to 512 * 2^16\n",
    "* (io.c modified to output kbytes/sec in same format as other params)\n",
    "* Run multiple times then average\n",
    "* Prevent warmup effect"
   ]
  },
  {
   "cell_type": "code",
   "execution_count": 14,
   "metadata": {
    "collapsed": false
   },
   "outputs": [
    {
     "name": "stdout",
     "output_type": "stream",
     "text": [
      "\t ==> Running io/io-static\n",
      "\t\t ==> Reading from lab1/iofile\n",
      "^C\n"
     ]
    },
    {
     "ename": "KeyboardInterrupt",
     "evalue": "",
     "output_type": "error",
     "traceback": [
      "\u001b[1;31m---------------------------------------------------------------------------\u001b[0m",
      "\u001b[1;31mKeyboardInterrupt\u001b[0m                         Traceback (most recent call last)",
      "\u001b[1;32m<ipython-input-14-00839d635ebb>\u001b[0m in \u001b[0;36m<module>\u001b[1;34m()\u001b[0m\n\u001b[0;32m      3\u001b[0m \u001b[0mIO_SIZES\u001b[0m \u001b[1;33m=\u001b[0m \u001b[1;33m[\u001b[0m\u001b[0mBUFFER_SIZES\u001b[0m\u001b[1;33m[\u001b[0m\u001b[1;33m-\u001b[0m\u001b[1;36m1\u001b[0m\u001b[1;33m]\u001b[0m\u001b[1;33m]\u001b[0m \u001b[1;31m# Keep constant at default 16MB (last value of BUFFER_SIZES)\u001b[0m\u001b[1;33m\u001b[0m\u001b[0m\n\u001b[0;32m      4\u001b[0m \u001b[1;33m\u001b[0m\u001b[0m\n\u001b[1;32m----> 5\u001b[1;33m \u001b[0mresults_iofile\u001b[0m \u001b[1;33m=\u001b[0m \u001b[0mbenchmark\u001b[0m\u001b[1;33m(\u001b[0m\u001b[1;34m\"-v -r -d\"\u001b[0m\u001b[1;33m,\u001b[0m \u001b[1;36m12\u001b[0m\u001b[1;33m,\u001b[0m \u001b[1;34m\"io/io-static\"\u001b[0m\u001b[1;33m,\u001b[0m \u001b[1;34m\"lab1/iofile\"\u001b[0m\u001b[1;33m,\u001b[0m \u001b[0mBUFFER_SIZES\u001b[0m\u001b[1;33m,\u001b[0m \u001b[0mIO_SIZES\u001b[0m\u001b[1;33m)\u001b[0m\u001b[1;33m\u001b[0m\u001b[0m\n\u001b[0m\u001b[0;32m      6\u001b[0m \u001b[1;31m# results_zero = benchmark(\"-v -r\", 10, \"io/io-static\", \"/dev/zero\")\u001b[0m\u001b[1;33m\u001b[0m\u001b[1;33m\u001b[0m\u001b[0m\n\u001b[0;32m      7\u001b[0m \u001b[1;31m# results_random = benchmark(\"-v -r\", 10, \"io/io-static\", \"/dev/random\")\u001b[0m\u001b[1;33m\u001b[0m\u001b[1;33m\u001b[0m\u001b[0m\n",
      "\u001b[1;32m<ipython-input-13-dfce0bf38a21>\u001b[0m in \u001b[0;36mbenchmark\u001b[1;34m(flags, repeat, exe, filename, buf_sizes, io_sizes, create, reset_file)\u001b[0m\n\u001b[0;32m     50\u001b[0m             \u001b[0mresults\u001b[0m \u001b[1;33m=\u001b[0m \u001b[1;33m[\u001b[0m\u001b[1;33m]\u001b[0m\u001b[1;33m\u001b[0m\u001b[0m\n\u001b[0;32m     51\u001b[0m             \u001b[1;32mfor\u001b[0m \u001b[0mi\u001b[0m \u001b[1;32min\u001b[0m \u001b[0mruns\u001b[0m\u001b[1;33m:\u001b[0m\u001b[1;33m\u001b[0m\u001b[0m\n\u001b[1;32m---> 52\u001b[1;33m                 \u001b[0mout\u001b[0m \u001b[1;33m=\u001b[0m \u001b[0mget_ipython\u001b[0m\u001b[1;33m(\u001b[0m\u001b[1;33m)\u001b[0m\u001b[1;33m.\u001b[0m\u001b[0mgetoutput\u001b[0m\u001b[1;33m(\u001b[0m\u001b[1;34mu'{cmd}'\u001b[0m\u001b[1;33m)\u001b[0m\u001b[1;33m\u001b[0m\u001b[0m\n\u001b[0m\u001b[0;32m     53\u001b[0m                 \u001b[0mparsed\u001b[0m \u001b[1;33m=\u001b[0m \u001b[0mparse\u001b[0m\u001b[1;33m(\u001b[0m\u001b[0mout\u001b[0m\u001b[1;33m)\u001b[0m\u001b[1;33m\u001b[0m\u001b[0m\n\u001b[0;32m     54\u001b[0m                 \u001b[0mresults\u001b[0m\u001b[1;33m.\u001b[0m\u001b[0mappend\u001b[0m\u001b[1;33m(\u001b[0m\u001b[0mparsed\u001b[0m\u001b[1;33m)\u001b[0m\u001b[1;33m\u001b[0m\u001b[0m\n",
      "\u001b[1;32m/usr/local/lib/python2.7/site-packages/IPython/core/interactiveshell.pyc\u001b[0m in \u001b[0;36mgetoutput\u001b[1;34m(self, cmd, split, depth)\u001b[0m\n\u001b[0;32m   2463\u001b[0m             \u001b[1;31m# this is *far* from a rigorous test\u001b[0m\u001b[1;33m\u001b[0m\u001b[1;33m\u001b[0m\u001b[0m\n\u001b[0;32m   2464\u001b[0m             \u001b[1;32mraise\u001b[0m \u001b[0mOSError\u001b[0m\u001b[1;33m(\u001b[0m\u001b[1;34m\"Background processes not supported.\"\u001b[0m\u001b[1;33m)\u001b[0m\u001b[1;33m\u001b[0m\u001b[0m\n\u001b[1;32m-> 2465\u001b[1;33m         \u001b[0mout\u001b[0m \u001b[1;33m=\u001b[0m \u001b[0mgetoutput\u001b[0m\u001b[1;33m(\u001b[0m\u001b[0mself\u001b[0m\u001b[1;33m.\u001b[0m\u001b[0mvar_expand\u001b[0m\u001b[1;33m(\u001b[0m\u001b[0mcmd\u001b[0m\u001b[1;33m,\u001b[0m \u001b[0mdepth\u001b[0m\u001b[1;33m=\u001b[0m\u001b[0mdepth\u001b[0m\u001b[1;33m+\u001b[0m\u001b[1;36m1\u001b[0m\u001b[1;33m)\u001b[0m\u001b[1;33m)\u001b[0m\u001b[1;33m\u001b[0m\u001b[0m\n\u001b[0m\u001b[0;32m   2466\u001b[0m         \u001b[1;32mif\u001b[0m \u001b[0msplit\u001b[0m\u001b[1;33m:\u001b[0m\u001b[1;33m\u001b[0m\u001b[0m\n\u001b[0;32m   2467\u001b[0m             \u001b[0mout\u001b[0m \u001b[1;33m=\u001b[0m \u001b[0mSList\u001b[0m\u001b[1;33m(\u001b[0m\u001b[0mout\u001b[0m\u001b[1;33m.\u001b[0m\u001b[0msplitlines\u001b[0m\u001b[1;33m(\u001b[0m\u001b[1;33m)\u001b[0m\u001b[1;33m)\u001b[0m\u001b[1;33m\u001b[0m\u001b[0m\n",
      "\u001b[1;32m/usr/local/lib/python2.7/site-packages/IPython/utils/_process_common.pyc\u001b[0m in \u001b[0;36mgetoutput\u001b[1;34m(cmd)\u001b[0m\n\u001b[0;32m    120\u001b[0m     correct order as would be seen if running the command in a terminal).\n\u001b[0;32m    121\u001b[0m     \"\"\"\n\u001b[1;32m--> 122\u001b[1;33m     \u001b[0mout\u001b[0m \u001b[1;33m=\u001b[0m \u001b[0mprocess_handler\u001b[0m\u001b[1;33m(\u001b[0m\u001b[0mcmd\u001b[0m\u001b[1;33m,\u001b[0m \u001b[1;32mlambda\u001b[0m \u001b[0mp\u001b[0m\u001b[1;33m:\u001b[0m \u001b[0mp\u001b[0m\u001b[1;33m.\u001b[0m\u001b[0mcommunicate\u001b[0m\u001b[1;33m(\u001b[0m\u001b[1;33m)\u001b[0m\u001b[1;33m[\u001b[0m\u001b[1;36m0\u001b[0m\u001b[1;33m]\u001b[0m\u001b[1;33m,\u001b[0m \u001b[0msubprocess\u001b[0m\u001b[1;33m.\u001b[0m\u001b[0mSTDOUT\u001b[0m\u001b[1;33m)\u001b[0m\u001b[1;33m\u001b[0m\u001b[0m\n\u001b[0m\u001b[0;32m    123\u001b[0m     \u001b[1;32mif\u001b[0m \u001b[0mout\u001b[0m \u001b[1;32mis\u001b[0m \u001b[0mNone\u001b[0m\u001b[1;33m:\u001b[0m\u001b[1;33m\u001b[0m\u001b[0m\n\u001b[0;32m    124\u001b[0m         \u001b[1;32mreturn\u001b[0m \u001b[1;34m''\u001b[0m\u001b[1;33m\u001b[0m\u001b[0m\n",
      "\u001b[1;32m/usr/local/lib/python2.7/site-packages/IPython/utils/_process_common.pyc\u001b[0m in \u001b[0;36mprocess_handler\u001b[1;34m(cmd, callback, stderr)\u001b[0m\n\u001b[0;32m     74\u001b[0m                          \u001b[0mstdout\u001b[0m\u001b[1;33m=\u001b[0m\u001b[0msubprocess\u001b[0m\u001b[1;33m.\u001b[0m\u001b[0mPIPE\u001b[0m\u001b[1;33m,\u001b[0m\u001b[1;33m\u001b[0m\u001b[0m\n\u001b[0;32m     75\u001b[0m                          \u001b[0mstderr\u001b[0m\u001b[1;33m=\u001b[0m\u001b[0mstderr\u001b[0m\u001b[1;33m,\u001b[0m\u001b[1;33m\u001b[0m\u001b[0m\n\u001b[1;32m---> 76\u001b[1;33m                          close_fds=close_fds)\n\u001b[0m\u001b[0;32m     77\u001b[0m \u001b[1;33m\u001b[0m\u001b[0m\n\u001b[0;32m     78\u001b[0m     \u001b[1;32mtry\u001b[0m\u001b[1;33m:\u001b[0m\u001b[1;33m\u001b[0m\u001b[0m\n",
      "\u001b[1;32m/usr/local/lib/python2.7/subprocess.pyc\u001b[0m in \u001b[0;36m__init__\u001b[1;34m(self, args, bufsize, executable, stdin, stdout, stderr, preexec_fn, close_fds, shell, cwd, env, universal_newlines, startupinfo, creationflags)\u001b[0m\n\u001b[0;32m    388\u001b[0m                                 \u001b[0mp2cread\u001b[0m\u001b[1;33m,\u001b[0m \u001b[0mp2cwrite\u001b[0m\u001b[1;33m,\u001b[0m\u001b[1;33m\u001b[0m\u001b[0m\n\u001b[0;32m    389\u001b[0m                                 \u001b[0mc2pread\u001b[0m\u001b[1;33m,\u001b[0m \u001b[0mc2pwrite\u001b[0m\u001b[1;33m,\u001b[0m\u001b[1;33m\u001b[0m\u001b[0m\n\u001b[1;32m--> 390\u001b[1;33m                                 errread, errwrite)\n\u001b[0m\u001b[0;32m    391\u001b[0m         \u001b[1;32mexcept\u001b[0m \u001b[0mException\u001b[0m\u001b[1;33m:\u001b[0m\u001b[1;33m\u001b[0m\u001b[0m\n\u001b[0;32m    392\u001b[0m             \u001b[1;31m# Preserve original exception in case os.close raises.\u001b[0m\u001b[1;33m\u001b[0m\u001b[1;33m\u001b[0m\u001b[0m\n",
      "\u001b[1;32m/usr/local/lib/python2.7/subprocess.pyc\u001b[0m in \u001b[0;36m_execute_child\u001b[1;34m(self, args, executable, preexec_fn, close_fds, cwd, env, universal_newlines, startupinfo, creationflags, shell, to_close, p2cread, p2cwrite, c2pread, c2pwrite, errread, errwrite)\u001b[0m\n\u001b[0;32m    998\u001b[0m \u001b[1;33m\u001b[0m\u001b[0m\n\u001b[0;32m    999\u001b[0m                 \u001b[1;31m# Wait for exec to fail or succeed; possibly raising exception\u001b[0m\u001b[1;33m\u001b[0m\u001b[1;33m\u001b[0m\u001b[0m\n\u001b[1;32m-> 1000\u001b[1;33m                 \u001b[0mdata\u001b[0m \u001b[1;33m=\u001b[0m \u001b[0m_eintr_retry_call\u001b[0m\u001b[1;33m(\u001b[0m\u001b[0mos\u001b[0m\u001b[1;33m.\u001b[0m\u001b[0mread\u001b[0m\u001b[1;33m,\u001b[0m \u001b[0merrpipe_read\u001b[0m\u001b[1;33m,\u001b[0m \u001b[1;36m1048576\u001b[0m\u001b[1;33m)\u001b[0m\u001b[1;33m\u001b[0m\u001b[0m\n\u001b[0m\u001b[0;32m   1001\u001b[0m                 \u001b[0mpickle_bits\u001b[0m \u001b[1;33m=\u001b[0m \u001b[1;33m[\u001b[0m\u001b[1;33m]\u001b[0m\u001b[1;33m\u001b[0m\u001b[0m\n\u001b[0;32m   1002\u001b[0m                 \u001b[1;32mwhile\u001b[0m \u001b[0mdata\u001b[0m\u001b[1;33m:\u001b[0m\u001b[1;33m\u001b[0m\u001b[0m\n",
      "\u001b[1;32m/usr/local/lib/python2.7/subprocess.pyc\u001b[0m in \u001b[0;36m_eintr_retry_call\u001b[1;34m(func, *args)\u001b[0m\n\u001b[0;32m    119\u001b[0m     \u001b[1;32mwhile\u001b[0m \u001b[0mTrue\u001b[0m\u001b[1;33m:\u001b[0m\u001b[1;33m\u001b[0m\u001b[0m\n\u001b[0;32m    120\u001b[0m         \u001b[1;32mtry\u001b[0m\u001b[1;33m:\u001b[0m\u001b[1;33m\u001b[0m\u001b[0m\n\u001b[1;32m--> 121\u001b[1;33m             \u001b[1;32mreturn\u001b[0m \u001b[0mfunc\u001b[0m\u001b[1;33m(\u001b[0m\u001b[1;33m*\u001b[0m\u001b[0margs\u001b[0m\u001b[1;33m)\u001b[0m\u001b[1;33m\u001b[0m\u001b[0m\n\u001b[0m\u001b[0;32m    122\u001b[0m         \u001b[1;32mexcept\u001b[0m \u001b[1;33m(\u001b[0m\u001b[0mOSError\u001b[0m\u001b[1;33m,\u001b[0m \u001b[0mIOError\u001b[0m\u001b[1;33m)\u001b[0m \u001b[1;32mas\u001b[0m \u001b[0me\u001b[0m\u001b[1;33m:\u001b[0m\u001b[1;33m\u001b[0m\u001b[0m\n\u001b[0;32m    123\u001b[0m             \u001b[1;32mif\u001b[0m \u001b[0me\u001b[0m\u001b[1;33m.\u001b[0m\u001b[0merrno\u001b[0m \u001b[1;33m==\u001b[0m \u001b[0merrno\u001b[0m\u001b[1;33m.\u001b[0m\u001b[0mEINTR\u001b[0m\u001b[1;33m:\u001b[0m\u001b[1;33m\u001b[0m\u001b[0m\n",
      "\u001b[1;31mKeyboardInterrupt\u001b[0m: "
     ]
    }
   ],
   "source": [
    "BUF_START = 512\n",
    "BUFFER_SIZES = [BUF_START * 2 ** exp for exp in range(0, 16)]\n",
    "IO_SIZES = [BUFFER_SIZES[-1]] # Keep constant at default 16MB (last value of BUFFER_SIZES)\n",
    "\n",
    "results_iofile = benchmark(\"-v -r -d\", 12, \"io/io-static\", \"lab1/iofile\", BUFFER_SIZES, IO_SIZES)\n",
    "# results_zero = benchmark(\"-v -r\", 10, \"io/io-static\", \"/dev/zero\")\n",
    "# results_random = benchmark(\"-v -r\", 10, \"io/io-static\", \"/dev/random\")\n",
    "\n",
    "saveas = \"static_maxra_64_const_io_flags_vrd_runs_12\"\n",
    "graph([item['buffersize'] for item in results_iofile], [item['speed'] for item in results_iofile], save = True, save_name = saveas)"
   ]
  },
  {
   "cell_type": "markdown",
   "metadata": {},
   "source": [
    "### DTrace\n",
    "\n",
    "#### TODO\n",
    "* Probe effect measurement"
   ]
  },
  {
   "cell_type": "code",
   "execution_count": null,
   "metadata": {
    "collapsed": false
   },
   "outputs": [],
   "source": [
    "BUF_START = 512\n",
    "BUFFER_SIZES = [BUF_START * 2 ** exp for exp in range(14, 16)]\n",
    "IO_SIZES = [BUFFER_SIZES[-1]] # Keep constant at default 16MB (last value of BUFFER_SIZES)\n",
    "RUNS = 12\n",
    "values = []\n",
    "\n",
    "# Callback invoked to process the aggregation\n",
    "def simple_out(a, b, c, d):\n",
    "    # print(a,b,c,d)\n",
    "    values.append(d)\n",
    "\n",
    "for io_sz in IO_SIZES:\n",
    "    for buf_sz in BUFFER_SIZES:\n",
    "        benchmark(\"-r\", 12, \"io/io-static\", \"lab1/iofile\", [buf_sz], [io_sz], dtrace_info = {'agg_fn':simple_out, 'script':D_ffs_read_time})\n",
    "        avg_time = sum(values) / RUNS\n",
    "        avg_speed = (IO_SIZES[0]/1024)/(avg_time/1e9)\n",
    "        print(\"Average time = {} nseconds\".format(avg_time))\n",
    "        print(\"Average bandwidth = {} KiBytes/sec\".format(avg_speed))"
   ]
  },
  {
   "cell_type": "markdown",
   "metadata": {
    "collapsed": false
   },
   "source": [
    "## Buffer Size Constant/Vary IO"
   ]
  },
  {
   "cell_type": "code",
   "execution_count": 10,
   "metadata": {
    "collapsed": false
   },
   "outputs": [
    {
     "name": "stdout",
     "output_type": "stream",
     "text": [
      "\t ==> Running io/io-static\n",
      "\t\t ==> Reading from lab1/iofile\n",
      "\t\t\t16384 bytes 16384 bytes (3571.37 KBytes/sec): 0.004511s\n",
      "\t\t\t16384 bytes 32768 bytes (4037.20 KBytes/sec): 0.007968s\n",
      "\t\t\t16384 bytes 65536 bytes (4898.29 KBytes/sec): 0.013960s\n",
      "\t\t\t16384 bytes 131072 bytes (6727.28 KBytes/sec): 0.019315s\n",
      "\t\t\t16384 bytes 262144 bytes (7762.52 KBytes/sec): 0.033525s\n",
      "\t\t\t16384 bytes 524288 bytes (8303.61 KBytes/sec): 0.062798s\n",
      "\t\t\t16384 bytes 1048576 bytes (8479.34 KBytes/sec): 0.123251s\n",
      "\t\t\t16384 bytes 2097152 bytes (8272.88 KBytes/sec): 0.254252s\n",
      "\t\t\t16384 bytes 4194304 bytes (8532.39 KBytes/sec): 0.489175s\n",
      "\t\t\t16384 bytes 8388608 bytes (8386.19 KBytes/sec): 0.995026s\n",
      "\t\t\t16384 bytes 16777216 bytes (8209.72 KBytes/sec): 2.045753s\n",
      "Saved plot at static_create_read_y_speed_maxra_64_const_buf_16kb_flags_vrd_runs_12\n"
     ]
    },
    {
     "data": {
      "image/png": "[encoded data removed]",
      "text/plain": [
       "<matplotlib.figure.Figure at 0x2595cb90>"
      ]
     },
     "metadata": {},
     "output_type": "display_data"
    }
   ],
   "source": [
    "# Setup\n",
    "IO_START = 512\n",
    "IO_SIZES = [IO_START * 2 ** exp for exp in range(5, 16)]\n",
    "BUFFER_SIZES = [512 * 2 ** 5] # Keep constant at default 16KB\n",
    "\n",
    "results_iofile = benchmark(\"-v -r -d\", 12, \"io/io-static\", \"lab1/iofile\", BUFFER_SIZES, IO_SIZES, create = True, reset_file = True)\n",
    "\n",
    "saveas = \"static_create_read_y_speed_maxra_64_const_buf_16kb_flags_vrd_runs_12\"\n",
    "graph([item['iosize'] for item in results_iofile], [item['speed'] for item in results_iofile], save = True, save_name = saveas)\n",
    "print(\"Saved plot at {}\".format(saveas))"
   ]
  },
  {
   "cell_type": "markdown",
   "metadata": {},
   "source": [
    "# Write"
   ]
  },
  {
   "cell_type": "code",
   "execution_count": null,
   "metadata": {
    "collapsed": false
   },
   "outputs": [
    {
     "name": "stdout",
     "output_type": "stream",
     "text": [
      "\t ==> Running io/io-static\n",
      "\t\t ==> Reading from lab1/iofile\n",
      "^C\n",
      "^C\n",
      "^C\n",
      "^C\n",
      "Traceback (most recent call last):\n",
      "  File \"/usr/local/lib/python2.7/site-packages/IPython/core/ultratb.py\", line 970, in get_records\n",
      "    return _fixed_getinnerframes(etb, number_of_lines_of_context, tb_offset)\n",
      "  File \"/usr/local/lib/python2.7/site-packages/IPython/core/ultratb.py\", line 233, in wrapped\n",
      "    return f(*args, **kwargs)\n",
      "  File \"/usr/local/lib/python2.7/site-packages/IPython/core/ultratb.py\", line 267, in _fixed_getinnerframes\n",
      "    records = fix_frame_records_filenames(inspect.getinnerframes(etb, context))\n",
      "  File \"/usr/local/lib/python2.7/inspect.py\", line 1048, in getinnerframes\n",
      "    framelist.append((tb.tb_frame,) + getframeinfo(tb, context))\n",
      "  File \"/usr/local/lib/python2.7/inspect.py\", line 1008, in getframeinfo\n",
      "    filename = getsourcefile(frame) or getfile(frame)\n",
      "  File \"/usr/local/lib/python2.7/inspect.py\", line 453, in getsourcefile\n",
      "    if hasattr(getmodule(object, filename), '__loader__'):\n",
      "  File \"/usr/local/lib/python2.7/inspect.py\", line 490, in getmodule\n",
      "    if ismodule(module) and hasattr(module, '__file__'):\n",
      "  File \"/usr/local/lib/python2.7/inspect.py\", line 57, in ismodule\n",
      "    return isinstance(object, types.ModuleType)\n",
      "KeyboardInterrupt\n"
     ]
    },
    {
     "name": "stderr",
     "output_type": "stream",
     "text": [
      "ERROR: Internal Python error in the inspect module.\n",
      "Below is the traceback from this internal error.\n",
      "\n",
      "\n",
      "Unfortunately, your original traceback can not be constructed.\n",
      "\n"
     ]
    },
    {
     "name": "stdout",
     "output_type": "stream",
     "text": [
      "Traceback (most recent call last):\n",
      "  File \"/usr/local/lib/python2.7/site-packages/IPython/core/ultratb.py\", line 970, in get_records\n",
      "    return _fixed_getinnerframes(etb, number_of_lines_of_context, tb_offset)\n",
      "  File \"/usr/local/lib/python2.7/site-packages/IPython/core/ultratb.py\", line 233, in wrapped\n",
      "    return f(*args, **kwargs)\n",
      "  File \"/usr/local/lib/python2.7/site-packages/IPython/core/ultratb.py\", line 285, in _fixed_getinnerframes\n",
      "    lines = ulinecache.getlines(file)[start:end]\n",
      "  File \"/usr/local/lib/python2.7/site-packages/IPython/utils/ulinecache.py\", line 37, in getlines\n",
      "    return [l.decode(encoding, 'replace') for l in lines]\n",
      "  File \"/usr/local/lib/python2.7/encodings/utf_8.py\", line 16, in decode\n",
      "    return codecs.utf_8_decode(input, errors, True)\n",
      "KeyboardInterrupt\n"
     ]
    },
    {
     "name": "stderr",
     "output_type": "stream",
     "text": [
      "ERROR: Internal Python error in the inspect module.\n",
      "Below is the traceback from this internal error.\n",
      "\n",
      "\n",
      "Unfortunately, your original traceback can not be constructed.\n",
      "\n"
     ]
    }
   ],
   "source": [
    "BUF_START = 512\n",
    "BUFFER_SIZES = [BUF_START * 2 ** exp for exp in range(0, 16)]\n",
    "IO_SIZES = [BUFFER_SIZES[-1]] # Keep constant at default 16MB (last value of BUFFER_SIZES)\n",
    "\n",
    "results_iofile = benchmark(\"-v -w\", 12, \"io/io-static\", \"lab1/iofile\", BUFFER_SIZES, IO_SIZES)\n",
    "\n",
    "saveas = \"static_write_y_speed_maxra_64_const_io_flags_vw_runs_12\"\n",
    "print(\"Saving plot at {}\".format(saveas))\n",
    "graph([item['buffersize'] for item in results_iofile], [item['speed'] for item in results_iofile], save = True, save_name = saveas)"
   ]
  },
  {
   "cell_type": "code",
   "execution_count": 15,
   "metadata": {
    "collapsed": false
   },
   "outputs": [
    {
     "name": "stdout",
     "output_type": "stream",
     "text": [
      "\t ==> Running io/io-static\n",
      "\t\t ==> Reading from lab1/iofile\n",
      "ERROR! Session/line number was not unique in database. History logging moved to new session 124\n",
      "^C\n",
      "^C\n",
      "^C\n",
      "^C\n"
     ]
    },
    {
     "ename": "KeyError",
     "evalue": "'time'",
     "output_type": "error",
     "traceback": [
      "\u001b[1;31m---------------------------------------------------------------------------\u001b[0m",
      "\u001b[1;31mKeyError\u001b[0m                                  Traceback (most recent call last)",
      "\u001b[1;32m<ipython-input-15-72fcba32aa99>\u001b[0m in \u001b[0;36m<module>\u001b[1;34m()\u001b[0m\n\u001b[0;32m      3\u001b[0m \u001b[0mBUFFER_SIZES\u001b[0m \u001b[1;33m=\u001b[0m \u001b[1;33m[\u001b[0m\u001b[1;36m512\u001b[0m \u001b[1;33m*\u001b[0m \u001b[1;36m2\u001b[0m \u001b[1;33m**\u001b[0m \u001b[1;36m5\u001b[0m\u001b[1;33m]\u001b[0m \u001b[1;31m# Keep constant at default 16KB\u001b[0m\u001b[1;33m\u001b[0m\u001b[0m\n\u001b[0;32m      4\u001b[0m \u001b[1;33m\u001b[0m\u001b[0m\n\u001b[1;32m----> 5\u001b[1;33m \u001b[0mresults_iofile\u001b[0m \u001b[1;33m=\u001b[0m \u001b[0mbenchmark\u001b[0m\u001b[1;33m(\u001b[0m\u001b[1;34m\"-v -w\"\u001b[0m\u001b[1;33m,\u001b[0m \u001b[1;36m12\u001b[0m\u001b[1;33m,\u001b[0m \u001b[1;34m\"io/io-static\"\u001b[0m\u001b[1;33m,\u001b[0m \u001b[1;34m\"lab1/iofile\"\u001b[0m\u001b[1;33m,\u001b[0m \u001b[0mBUFFER_SIZES\u001b[0m\u001b[1;33m,\u001b[0m \u001b[0mIO_SIZES\u001b[0m\u001b[1;33m,\u001b[0m \u001b[0mcreate\u001b[0m \u001b[1;33m=\u001b[0m \u001b[0mTrue\u001b[0m\u001b[1;33m,\u001b[0m \u001b[0mreset_file\u001b[0m \u001b[1;33m=\u001b[0m \u001b[0mTrue\u001b[0m\u001b[1;33m)\u001b[0m\u001b[1;33m\u001b[0m\u001b[0m\n\u001b[0m\u001b[0;32m      6\u001b[0m \u001b[1;33m\u001b[0m\u001b[0m\n\u001b[0;32m      7\u001b[0m \u001b[0msaveas\u001b[0m \u001b[1;33m=\u001b[0m \u001b[1;34m\"static_create_write_y_speed_maxra_64_const_buf_16kb_flags_vw_runs_12\"\u001b[0m\u001b[1;33m\u001b[0m\u001b[0m\n",
      "\u001b[1;32m<ipython-input-13-dfce0bf38a21>\u001b[0m in \u001b[0;36mbenchmark\u001b[1;34m(flags, repeat, exe, filename, buf_sizes, io_sizes, create, reset_file)\u001b[0m\n\u001b[0;32m     54\u001b[0m                 \u001b[0mresults\u001b[0m\u001b[1;33m.\u001b[0m\u001b[0mappend\u001b[0m\u001b[1;33m(\u001b[0m\u001b[0mparsed\u001b[0m\u001b[1;33m)\u001b[0m\u001b[1;33m\u001b[0m\u001b[0m\n\u001b[0;32m     55\u001b[0m \u001b[1;33m\u001b[0m\u001b[0m\n\u001b[1;32m---> 56\u001b[1;33m             \u001b[0mtimes\u001b[0m \u001b[1;33m=\u001b[0m \u001b[1;33m[\u001b[0m\u001b[0mfloat\u001b[0m\u001b[1;33m(\u001b[0m\u001b[0mitem\u001b[0m\u001b[1;33m[\u001b[0m\u001b[1;34m'time'\u001b[0m\u001b[1;33m]\u001b[0m\u001b[1;33m)\u001b[0m \u001b[1;32mfor\u001b[0m \u001b[0mitem\u001b[0m \u001b[1;32min\u001b[0m \u001b[0mresults\u001b[0m\u001b[1;33m]\u001b[0m\u001b[1;33m\u001b[0m\u001b[0m\n\u001b[0m\u001b[0;32m     57\u001b[0m             \u001b[0mspeeds\u001b[0m \u001b[1;33m=\u001b[0m \u001b[1;33m[\u001b[0m\u001b[0mfloat\u001b[0m\u001b[1;33m(\u001b[0m\u001b[0mitem\u001b[0m\u001b[1;33m[\u001b[0m\u001b[1;34m'speed'\u001b[0m\u001b[1;33m]\u001b[0m\u001b[1;33m.\u001b[0m\u001b[0msplit\u001b[0m\u001b[1;33m(\u001b[0m\u001b[1;34m' '\u001b[0m\u001b[1;33m)\u001b[0m\u001b[1;33m[\u001b[0m\u001b[1;36m0\u001b[0m\u001b[1;33m]\u001b[0m\u001b[1;33m)\u001b[0m \u001b[1;32mfor\u001b[0m \u001b[0mitem\u001b[0m \u001b[1;32min\u001b[0m \u001b[0mresults\u001b[0m\u001b[1;33m]\u001b[0m \u001b[1;31m# Need to split by ' ' because output speed has units attached to it (see io.c)\u001b[0m\u001b[1;33m\u001b[0m\u001b[0m\n\u001b[0;32m     58\u001b[0m             \u001b[0mavg_time\u001b[0m \u001b[1;33m=\u001b[0m \u001b[0msum\u001b[0m\u001b[1;33m(\u001b[0m\u001b[0mtimes\u001b[0m\u001b[1;33m)\u001b[0m \u001b[1;33m/\u001b[0m \u001b[0mlen\u001b[0m\u001b[1;33m(\u001b[0m\u001b[0mruns\u001b[0m\u001b[1;33m)\u001b[0m\u001b[1;33m\u001b[0m\u001b[0m\n",
      "\u001b[1;31mKeyError\u001b[0m: 'time'"
     ]
    }
   ],
   "source": [
    "IO_START = 512\n",
    "IO_SIZES = [IO_START * 2 ** exp for exp in range(5, 16)]\n",
    "BUFFER_SIZES = [512 * 2 ** 5] # Keep constant at default 16KB\n",
    "\n",
    "results_iofile = benchmark(\"-v -w\", 12, \"io/io-static\", \"lab1/iofile\", BUFFER_SIZES, IO_SIZES, create = True, reset_file = True)\n",
    "\n",
    "saveas = \"static_create_write_y_speed_maxra_64_const_buf_16kb_flags_vw_runs_12\"\n",
    "print(\"Saving plot at {}\".format(saveas))\n",
    "graph([item['iosize'] for item in results_iofile], [item['speed'] for item in results_iofile], save = True, save_name = saveas)"
   ]
  }
 ],
 "metadata": {
  "kernelspec": {
   "display_name": "Python 2",
   "language": "python",
   "name": "python2"
  },
  "language_info": {
   "codemirror_mode": {
    "name": "ipython",
    "version": 2
   },
   "file_extension": ".py",
   "mimetype": "text/x-python",
   "name": "python",
   "nbconvert_exporter": "python",
   "pygments_lexer": "ipython2",
   "version": "2.7.13"
  }
 },
 "nbformat": 4,
 "nbformat_minor": 1
}
