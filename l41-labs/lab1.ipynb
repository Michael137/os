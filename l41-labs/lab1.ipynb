{
 "cells": [
  {
   "cell_type": "markdown",
   "metadata": {},
   "source": [
    "# Setup"
   ]
  },
  {
   "cell_type": "code",
   "execution_count": 15,
   "metadata": {
    "collapsed": false
   },
   "outputs": [
    {
     "name": "stdout",
     "output_type": "stream",
     "text": [
      "Benchmark configuration:\r\n",
      "  buffersize: 16384\r\n",
      "  totalsize: 16777216\r\n",
      "  blockcount: 1024\r\n",
      "  operation: create\r\n",
      "  path: lab1/iofile\r\n",
      "  time: 2.344273708\r\n",
      "speed: 6988.95 KBytes/sec\r\n"
     ]
    }
   ],
   "source": [
    "# Extract and build the benchmark\n",
    "!make -C io\n",
    "\n",
    "!mkdir -p /data/lab1\n",
    "!io/io-static -c lab1/iofile"
   ]
  },
  {
   "cell_type": "markdown",
   "metadata": {},
   "source": [
    "# Reads"
   ]
  },
  {
   "cell_type": "markdown",
   "metadata": {},
   "source": [
    "## Constant IO/Varying Buffer (with cache, static/dynamic)\n",
    "\n",
    "* Total size: 16MB (default)\n",
    "* Buffer: varies from 512 to 512 * 2^16\n",
    "* (io.c modified to output kbytes/sec in same format as other params)\n",
    "* Run multiple times then average\n",
    "* Prevent warmup effect"
   ]
  },
  {
   "cell_type": "code",
   "execution_count": 16,
   "metadata": {
    "collapsed": false
   },
   "outputs": [
    {
     "name": "stdout",
     "output_type": "stream",
     "text": [
      "\t ==> Running io/io-static\n",
      "\t\t ==> Reading from lab1/iofile\n",
      "\t\t\t512 bytes 16777216 bytes (39589.28): 0.413849s\n",
      "\t\t\t1024 bytes 16777216 bytes (68180.77): 0.240302s\n",
      "\t\t\t2048 bytes 16777216 bytes (101903.25): 0.160780s\n",
      "\t\t\t4096 bytes 16777216 bytes (139560.34): 0.117397s\n",
      "\t\t\t8192 bytes 16777216 bytes (159344.82): 0.102821s\n",
      "\t\t\t16384 bytes 16777216 bytes (172057.69): 0.095224s\n",
      "\t\t\t32768 bytes 16777216 bytes (177517.50): 0.092295s\n",
      "\t\t\t65536 bytes 16777216 bytes (175863.02): 0.093163s\n",
      "\t\t\t131072 bytes 16777216 bytes (172307.55): 0.095086s\n",
      "\t\t\t262144 bytes 16777216 bytes (171258.49): 0.095668s\n",
      "\t\t\t524288 bytes 16777216 bytes (170876.27): 0.095882s\n",
      "\t\t\t1048576 bytes 16777216 bytes (170665.70): 0.096001s\n",
      "\t\t\t2097152 bytes 16777216 bytes (167278.69): 0.097944s\n",
      "\t\t\t4194304 bytes 16777216 bytes (161741.60): 0.101297s\n",
      "\t\t\t8388608 bytes 16777216 bytes (75603.23): 0.216710s\n",
      "\t\t\t16777216 bytes 16777216 bytes (128741.09): 0.127263s\n",
      "\t\t ==> Reading from /dev/zero\n",
      "\t\t\t512 bytes 16777216 bytes (249226.29): 0.065739s\n",
      "\t\t\t1024 bytes 16777216 bytes (423403.85): 0.038696s\n",
      "\t\t\t2048 bytes 16777216 bytes (650586.85): 0.025183s\n",
      "\t\t\t4096 bytes 16777216 bytes (857122.35): 0.019115s\n",
      "\t\t\t8192 bytes 16777216 bytes (818221.57): 0.020024s\n",
      "\t\t\t16384 bytes 16777216 bytes (885917.03): 0.018494s\n",
      "\t\t\t32768 bytes 16777216 bytes (900199.20): 0.018200s\n",
      "\t\t\t65536 bytes 16777216 bytes (928559.13): 0.017645s\n",
      "\t\t\t131072 bytes 16777216 bytes (927987.23): 0.017655s\n",
      "\t\t\t262144 bytes 16777216 bytes (766175.89): 0.021384s\n",
      "\t\t\t524288 bytes 16777216 bytes (383971.11): 0.042670s\n",
      "\t\t\t1048576 bytes 16777216 bytes (365299.79): 0.044851s\n",
      "\t\t\t2097152 bytes 16777216 bytes (352970.32): 0.046418s\n",
      "\t\t\t4194304 bytes 16777216 bytes (340613.95): 0.048101s\n",
      "\t\t\t8388608 bytes 16777216 bytes (311637.67): 0.052574s\n",
      "\t\t\t16777216 bytes 16777216 bytes (265974.56): 0.061600s\n",
      "\t ==> Running io/io-dynamic\n",
      "\t\t ==> Reading from lab1/iofile\n",
      "\t\t\t512 bytes 16777216 bytes (40720.28): 0.402355s\n",
      "\t\t\t1024 bytes 16777216 bytes (69226.85): 0.236671s\n",
      "\t\t\t2048 bytes 16777216 bytes (101567.28): 0.161312s\n",
      "\t\t\t4096 bytes 16777216 bytes (137476.58): 0.119177s\n",
      "\t\t\t8192 bytes 16777216 bytes (159057.59): 0.103007s\n",
      "\t\t\t16384 bytes 16777216 bytes (172306.28): 0.095087s\n",
      "\t\t\t32768 bytes 16777216 bytes (177578.04): 0.092264s\n",
      "\t\t\t65536 bytes 16777216 bytes (176101.03): 0.093037s\n",
      "\t\t\t131072 bytes 16777216 bytes (172143.93): 0.095176s\n",
      "\t\t\t262144 bytes 16777216 bytes (170048.53): 0.096349s\n",
      "\t\t\t524288 bytes 16777216 bytes (171084.72): 0.095765s\n",
      "\t\t\t1048576 bytes 16777216 bytes (170601.59): 0.096037s\n",
      "\t\t\t2097152 bytes 16777216 bytes (168596.69): 0.097179s\n",
      "\t\t\t4194304 bytes 16777216 bytes (161308.79): 0.101569s\n",
      "\t\t\t8388608 bytes 16777216 bytes (147487.83): 0.111087s\n",
      "\t\t\t16777216 bytes 16777216 bytes (129610.04): 0.126410s\n",
      "\t\t ==> Reading from /dev/zero\n",
      "\t\t\t512 bytes 16777216 bytes (247884.38): 0.066095s\n",
      "\t\t\t1024 bytes 16777216 bytes (422452.70): 0.038783s\n",
      "\t\t\t2048 bytes 16777216 bytes (636301.72): 0.025749s\n",
      "\t\t\t4096 bytes 16777216 bytes (830329.89): 0.019732s\n",
      "\t\t\t8192 bytes 16777216 bytes (797909.08): 0.020534s\n",
      "\t\t\t16384 bytes 16777216 bytes (881644.31): 0.018583s\n",
      "\t\t\t32768 bytes 16777216 bytes (906249.04): 0.018079s\n",
      "\t\t\t65536 bytes 16777216 bytes (925941.86): 0.017694s\n",
      "\t\t\t131072 bytes 16777216 bytes (924550.69): 0.017721s\n",
      "\t\t\t262144 bytes 16777216 bytes (759808.34): 0.021563s\n",
      "\t\t\t524288 bytes 16777216 bytes (384818.11): 0.042576s\n",
      "\t\t\t1048576 bytes 16777216 bytes (343387.38): 0.047713s\n",
      "\t\t\t2097152 bytes 16777216 bytes (363270.20): 0.045101s\n",
      "\t\t\t4194304 bytes 16777216 bytes (340172.27): 0.048164s\n",
      "\t\t\t8388608 bytes 16777216 bytes (312152.75): 0.052487s\n",
      "\t\t\t16777216 bytes 16777216 bytes (268373.13): 0.061049s\n"
     ]
    }
   ],
   "source": [
    "# Imports\n",
    "import time\n",
    "\n",
    "# Setup\n",
    "BUF_START = 512\n",
    "BUFFER_SIZES = [512 * 2 ** exp for exp in range(0, 16)]\n",
    "FILES = [\"lab1/iofile\", \"/dev/zero\"]\n",
    "EXECUTABLES = [\"io/io-static\", \"io/io-dynamic\"]\n",
    "IO_SIZE = BUFFER_SIZES[-1] # Keep constant at default 16MB (last value of BUFFER_SIZES)\n",
    "RUNS = range(1, 16) # 15 runs\n",
    "\n",
    "def strs_to_tup(strs):\n",
    "    if len(strs) == 1:\n",
    "        return (strs[0].strip(),None)\n",
    "    else:\n",
    "        return (strs[0].strip(),strs[1].strip())\n",
    "\n",
    "def parse(cmd_out):\n",
    "    tups = map(strs_to_tup, [string.split(\":\") for string in cmd_out])\n",
    "    return dict(tups)\n",
    "\n",
    "# The meat\n",
    "\n",
    "outputs = {}\n",
    "for exe in EXECUTABLES:\n",
    "    print(\"\\t ==> Running {}\".format(exe))\n",
    "    runs = []\n",
    "    for filename in FILES:\n",
    "        print(\"\\t\\t ==> Reading from {}\".format(filename))\n",
    "        for buffer_size in BUFFER_SIZES:\n",
    "            results = []\n",
    "            for i in RUNS:\n",
    "                out = !{exe} -v -r -b {str(buffer_size)} -t {str(IO_SIZE)} {filename}\n",
    "                parsed = parse(out)\n",
    "                results.append(parsed)\n",
    "                time.sleep(2) # Sleep for 2 seconds to prevent warmup effect\n",
    "\n",
    "            runs.append(results)\n",
    "            times = [float(item['time']) for item in results]\n",
    "            speeds = [float(item['speed'].split(' ')[0]) for item in results] # Need to split by ' ' because output speed has units attached to it (see io.c)\n",
    "            avg_time = sum(times) / len(RUNS)\n",
    "            avg_speed = sum(speeds) / len(RUNS)\n",
    "            buf_sz = int(results[0]['buffersize'])\n",
    "            tot_sz = int(results[0]['totalsize'])\n",
    "            print(\"\\t\\t\\t{0:2} bytes {1:2} bytes ({2:.2f} KBytes/sec): {3:.6f}s\".format(buf_sz, tot_sz, avg_speed, avg_time))\n",
    "    outputs.update({exe:runs})"
   ]
  },
  {
   "cell_type": "code",
   "execution_count": 17,
   "metadata": {
    "collapsed": false
   },
   "outputs": [
    {
     "name": "stdout",
     "output_type": "stream",
     "text": [
      "{'io/io-dynamic': [[{'blockcount': '32768', 'totalsize': '16777216', 'Benchmark configuration': '', 'time': '0.402354792', 'path': 'lab1/iofile', 'operation': 'read', 'buffersize': '512', 'speed': '40720.28 KBytes/sec'}], [{'blockcount': '16384', 'totalsize': '16777216', 'Benchmark configuration': '', 'time': '0.236671167', 'path': 'lab1/iofile', 'operation': 'read', 'buffersize': '1024', 'speed': '69226.85 KBytes/sec'}], [{'blockcount': '8192', 'totalsize': '16777216', 'Benchmark configuration': '', 'time': '0.161311791', 'path': 'lab1/iofile', 'operation': 'read', 'buffersize': '2048', 'speed': '101567.28 KBytes/sec'}], [{'blockcount': '4096', 'totalsize': '16777216', 'Benchmark configuration': '', 'time': '0.119176666', 'path': 'lab1/iofile', 'operation': 'read', 'buffersize': '4096', 'speed': '137476.58 KBytes/sec'}], [{'blockcount': '2048', 'totalsize': '16777216', 'Benchmark configuration': '', 'time': '0.103006709', 'path': 'lab1/iofile', 'operation': 'read', 'buffersize': '8192', 'speed': '159057.59 KBytes/sec'}], [{'blockcount': '1024', 'totalsize': '16777216', 'Benchmark configuration': '', 'time': '0.095086500', 'path': 'lab1/iofile', 'operation': 'read', 'buffersize': '16384', 'speed': '172306.28 KBytes/sec'}], [{'blockcount': '512', 'totalsize': '16777216', 'Benchmark configuration': '', 'time': '0.092263667', 'path': 'lab1/iofile', 'operation': 'read', 'buffersize': '32768', 'speed': '177578.04 KBytes/sec'}], [{'blockcount': '256', 'totalsize': '16777216', 'Benchmark configuration': '', 'time': '0.093037500', 'path': 'lab1/iofile', 'operation': 'read', 'buffersize': '65536', 'speed': '176101.03 KBytes/sec'}], [{'blockcount': '128', 'totalsize': '16777216', 'Benchmark configuration': '', 'time': '0.095176167', 'path': 'lab1/iofile', 'operation': 'read', 'buffersize': '131072', 'speed': '172143.93 KBytes/sec'}], [{'blockcount': '64', 'totalsize': '16777216', 'Benchmark configuration': '', 'time': '0.096348958', 'path': 'lab1/iofile', 'operation': 'read', 'buffersize': '262144', 'speed': '170048.53 KBytes/sec'}], [{'blockcount': '32', 'totalsize': '16777216', 'Benchmark configuration': '', 'time': '0.095765417', 'path': 'lab1/iofile', 'operation': 'read', 'buffersize': '524288', 'speed': '171084.72 KBytes/sec'}], [{'blockcount': '16', 'totalsize': '16777216', 'Benchmark configuration': '', 'time': '0.096036625', 'path': 'lab1/iofile', 'operation': 'read', 'buffersize': '1048576', 'speed': '170601.59 KBytes/sec'}], [{'blockcount': '8', 'totalsize': '16777216', 'Benchmark configuration': '', 'time': '0.097178667', 'path': 'lab1/iofile', 'operation': 'read', 'buffersize': '2097152', 'speed': '168596.69 KBytes/sec'}], [{'blockcount': '4', 'totalsize': '16777216', 'Benchmark configuration': '', 'time': '0.101569167', 'path': 'lab1/iofile', 'operation': 'read', 'buffersize': '4194304', 'speed': '161308.79 KBytes/sec'}], [{'blockcount': '2', 'totalsize': '16777216', 'Benchmark configuration': '', 'time': '0.111087125', 'path': 'lab1/iofile', 'operation': 'read', 'buffersize': '8388608', 'speed': '147487.83 KBytes/sec'}], [{'blockcount': '1', 'totalsize': '16777216', 'Benchmark configuration': '', 'time': '0.126409958', 'path': 'lab1/iofile', 'operation': 'read', 'buffersize': '16777216', 'speed': '129610.04 KBytes/sec'}], [{'blockcount': '32768', 'totalsize': '16777216', 'Benchmark configuration': '', 'time': '0.066095333', 'path': '/dev/zero', 'operation': 'read', 'buffersize': '512', 'speed': '247884.38 KBytes/sec'}], [{'blockcount': '16384', 'totalsize': '16777216', 'Benchmark configuration': '', 'time': '0.038783041', 'path': '/dev/zero', 'operation': 'read', 'buffersize': '1024', 'speed': '422452.70 KBytes/sec'}], [{'blockcount': '8192', 'totalsize': '16777216', 'Benchmark configuration': '', 'time': '0.025748792', 'path': '/dev/zero', 'operation': 'read', 'buffersize': '2048', 'speed': '636301.72 KBytes/sec'}], [{'blockcount': '4096', 'totalsize': '16777216', 'Benchmark configuration': '', 'time': '0.019731917', 'path': '/dev/zero', 'operation': 'read', 'buffersize': '4096', 'speed': '830329.89 KBytes/sec'}], [{'blockcount': '2048', 'totalsize': '16777216', 'Benchmark configuration': '', 'time': '0.020533667', 'path': '/dev/zero', 'operation': 'read', 'buffersize': '8192', 'speed': '797909.08 KBytes/sec'}], [{'blockcount': '1024', 'totalsize': '16777216', 'Benchmark configuration': '', 'time': '0.018583458', 'path': '/dev/zero', 'operation': 'read', 'buffersize': '16384', 'speed': '881644.31 KBytes/sec'}], [{'blockcount': '512', 'totalsize': '16777216', 'Benchmark configuration': '', 'time': '0.018078916', 'path': '/dev/zero', 'operation': 'read', 'buffersize': '32768', 'speed': '906249.04 KBytes/sec'}], [{'blockcount': '256', 'totalsize': '16777216', 'Benchmark configuration': '', 'time': '0.017694416', 'path': '/dev/zero', 'operation': 'read', 'buffersize': '65536', 'speed': '925941.86 KBytes/sec'}], [{'blockcount': '128', 'totalsize': '16777216', 'Benchmark configuration': '', 'time': '0.017721041', 'path': '/dev/zero', 'operation': 'read', 'buffersize': '131072', 'speed': '924550.69 KBytes/sec'}], [{'blockcount': '64', 'totalsize': '16777216', 'Benchmark configuration': '', 'time': '0.021563333', 'path': '/dev/zero', 'operation': 'read', 'buffersize': '262144', 'speed': '759808.34 KBytes/sec'}], [{'blockcount': '32', 'totalsize': '16777216', 'Benchmark configuration': '', 'time': '0.042575958', 'path': '/dev/zero', 'operation': 'read', 'buffersize': '524288', 'speed': '384818.11 KBytes/sec'}], [{'blockcount': '16', 'totalsize': '16777216', 'Benchmark configuration': '', 'time': '0.047712875', 'path': '/dev/zero', 'operation': 'read', 'buffersize': '1048576', 'speed': '343387.38 KBytes/sec'}], [{'blockcount': '8', 'totalsize': '16777216', 'Benchmark configuration': '', 'time': '0.045101416', 'path': '/dev/zero', 'operation': 'read', 'buffersize': '2097152', 'speed': '363270.20 KBytes/sec'}], [{'blockcount': '4', 'totalsize': '16777216', 'Benchmark configuration': '', 'time': '0.048163834', 'path': '/dev/zero', 'operation': 'read', 'buffersize': '4194304', 'speed': '340172.27 KBytes/sec'}], [{'blockcount': '2', 'totalsize': '16777216', 'Benchmark configuration': '', 'time': '0.052487124', 'path': '/dev/zero', 'operation': 'read', 'buffersize': '8388608', 'speed': '312152.75 KBytes/sec'}], [{'blockcount': '1', 'totalsize': '16777216', 'Benchmark configuration': '', 'time': '0.061049333', 'path': '/dev/zero', 'operation': 'read', 'buffersize': '16777216', 'speed': '268373.13 KBytes/sec'}]], 'io/io-static': [[{'blockcount': '32768', 'totalsize': '16777216', 'Benchmark configuration': '', 'time': '0.413849375', 'path': 'lab1/iofile', 'operation': 'read', 'buffersize': '512', 'speed': '39589.28 KBytes/sec'}], [{'blockcount': '16384', 'totalsize': '16777216', 'Benchmark configuration': '', 'time': '0.240302375', 'path': 'lab1/iofile', 'operation': 'read', 'buffersize': '1024', 'speed': '68180.77 KBytes/sec'}], [{'blockcount': '8192', 'totalsize': '16777216', 'Benchmark configuration': '', 'time': '0.160779958', 'path': 'lab1/iofile', 'operation': 'read', 'buffersize': '2048', 'speed': '101903.25 KBytes/sec'}], [{'blockcount': '4096', 'totalsize': '16777216', 'Benchmark configuration': '', 'time': '0.117397250', 'path': 'lab1/iofile', 'operation': 'read', 'buffersize': '4096', 'speed': '139560.34 KBytes/sec'}], [{'blockcount': '2048', 'totalsize': '16777216', 'Benchmark configuration': '', 'time': '0.102821041', 'path': 'lab1/iofile', 'operation': 'read', 'buffersize': '8192', 'speed': '159344.82 KBytes/sec'}], [{'blockcount': '1024', 'totalsize': '16777216', 'Benchmark configuration': '', 'time': '0.095223875', 'path': 'lab1/iofile', 'operation': 'read', 'buffersize': '16384', 'speed': '172057.69 KBytes/sec'}], [{'blockcount': '512', 'totalsize': '16777216', 'Benchmark configuration': '', 'time': '0.092295125', 'path': 'lab1/iofile', 'operation': 'read', 'buffersize': '32768', 'speed': '177517.50 KBytes/sec'}], [{'blockcount': '256', 'totalsize': '16777216', 'Benchmark configuration': '', 'time': '0.093163417', 'path': 'lab1/iofile', 'operation': 'read', 'buffersize': '65536', 'speed': '175863.02 KBytes/sec'}], [{'blockcount': '128', 'totalsize': '16777216', 'Benchmark configuration': '', 'time': '0.095085792', 'path': 'lab1/iofile', 'operation': 'read', 'buffersize': '131072', 'speed': '172307.55 KBytes/sec'}], [{'blockcount': '64', 'totalsize': '16777216', 'Benchmark configuration': '', 'time': '0.095668250', 'path': 'lab1/iofile', 'operation': 'read', 'buffersize': '262144', 'speed': '171258.49 KBytes/sec'}], [{'blockcount': '32', 'totalsize': '16777216', 'Benchmark configuration': '', 'time': '0.095882250', 'path': 'lab1/iofile', 'operation': 'read', 'buffersize': '524288', 'speed': '170876.27 KBytes/sec'}], [{'blockcount': '16', 'totalsize': '16777216', 'Benchmark configuration': '', 'time': '0.096000541', 'path': 'lab1/iofile', 'operation': 'read', 'buffersize': '1048576', 'speed': '170665.70 KBytes/sec'}], [{'blockcount': '8', 'totalsize': '16777216', 'Benchmark configuration': '', 'time': '0.097944334', 'path': 'lab1/iofile', 'operation': 'read', 'buffersize': '2097152', 'speed': '167278.69 KBytes/sec'}], [{'blockcount': '4', 'totalsize': '16777216', 'Benchmark configuration': '', 'time': '0.101297375', 'path': 'lab1/iofile', 'operation': 'read', 'buffersize': '4194304', 'speed': '161741.60 KBytes/sec'}], [{'blockcount': '2', 'totalsize': '16777216', 'Benchmark configuration': '', 'time': '0.216710333', 'path': 'lab1/iofile', 'operation': 'read', 'buffersize': '8388608', 'speed': '75603.23 KBytes/sec'}], [{'blockcount': '1', 'totalsize': '16777216', 'Benchmark configuration': '', 'time': '0.127263166', 'path': 'lab1/iofile', 'operation': 'read', 'buffersize': '16777216', 'speed': '128741.09 KBytes/sec'}], [{'blockcount': '32768', 'totalsize': '16777216', 'Benchmark configuration': '', 'time': '0.065739458', 'path': '/dev/zero', 'operation': 'read', 'buffersize': '512', 'speed': '249226.29 KBytes/sec'}], [{'blockcount': '16384', 'totalsize': '16777216', 'Benchmark configuration': '', 'time': '0.038695917', 'path': '/dev/zero', 'operation': 'read', 'buffersize': '1024', 'speed': '423403.85 KBytes/sec'}], [{'blockcount': '8192', 'totalsize': '16777216', 'Benchmark configuration': '', 'time': '0.025183417', 'path': '/dev/zero', 'operation': 'read', 'buffersize': '2048', 'speed': '650586.85 KBytes/sec'}], [{'blockcount': '4096', 'totalsize': '16777216', 'Benchmark configuration': '', 'time': '0.019115125', 'path': '/dev/zero', 'operation': 'read', 'buffersize': '4096', 'speed': '857122.35 KBytes/sec'}], [{'blockcount': '2048', 'totalsize': '16777216', 'Benchmark configuration': '', 'time': '0.020023917', 'path': '/dev/zero', 'operation': 'read', 'buffersize': '8192', 'speed': '818221.57 KBytes/sec'}], [{'blockcount': '1024', 'totalsize': '16777216', 'Benchmark configuration': '', 'time': '0.018493833', 'path': '/dev/zero', 'operation': 'read', 'buffersize': '16384', 'speed': '885917.03 KBytes/sec'}], [{'blockcount': '512', 'totalsize': '16777216', 'Benchmark configuration': '', 'time': '0.018200417', 'path': '/dev/zero', 'operation': 'read', 'buffersize': '32768', 'speed': '900199.20 KBytes/sec'}], [{'blockcount': '256', 'totalsize': '16777216', 'Benchmark configuration': '', 'time': '0.017644542', 'path': '/dev/zero', 'operation': 'read', 'buffersize': '65536', 'speed': '928559.13 KBytes/sec'}], [{'blockcount': '128', 'totalsize': '16777216', 'Benchmark configuration': '', 'time': '0.017655417', 'path': '/dev/zero', 'operation': 'read', 'buffersize': '131072', 'speed': '927987.23 KBytes/sec'}], [{'blockcount': '64', 'totalsize': '16777216', 'Benchmark configuration': '', 'time': '0.021384125', 'path': '/dev/zero', 'operation': 'read', 'buffersize': '262144', 'speed': '766175.89 KBytes/sec'}], [{'blockcount': '32', 'totalsize': '16777216', 'Benchmark configuration': '', 'time': '0.042669875', 'path': '/dev/zero', 'operation': 'read', 'buffersize': '524288', 'speed': '383971.11 KBytes/sec'}], [{'blockcount': '16', 'totalsize': '16777216', 'Benchmark configuration': '', 'time': '0.044850833', 'path': '/dev/zero', 'operation': 'read', 'buffersize': '1048576', 'speed': '365299.79 KBytes/sec'}], [{'blockcount': '8', 'totalsize': '16777216', 'Benchmark configuration': '', 'time': '0.046417500', 'path': '/dev/zero', 'operation': 'read', 'buffersize': '2097152', 'speed': '352970.32 KBytes/sec'}], [{'blockcount': '4', 'totalsize': '16777216', 'Benchmark configuration': '', 'time': '0.048101376', 'path': '/dev/zero', 'operation': 'read', 'buffersize': '4194304', 'speed': '340613.95 KBytes/sec'}], [{'blockcount': '2', 'totalsize': '16777216', 'Benchmark configuration': '', 'time': '0.052573875', 'path': '/dev/zero', 'operation': 'read', 'buffersize': '8388608', 'speed': '311637.67 KBytes/sec'}], [{'blockcount': '1', 'totalsize': '16777216', 'Benchmark configuration': '', 'time': '0.061599875', 'path': '/dev/zero', 'operation': 'read', 'buffersize': '16777216', 'speed': '265974.56 KBytes/sec'}]]}\n"
     ]
    }
   ],
   "source": []
  },
  {
   "cell_type": "code",
   "execution_count": null,
   "metadata": {
    "collapsed": true
   },
   "outputs": [],
   "source": []
  }
 ],
 "metadata": {
  "kernelspec": {
   "display_name": "Python 2",
   "language": "python",
   "name": "python2"
  },
  "language_info": {
   "codemirror_mode": {
    "name": "ipython",
    "version": 2
   },
   "file_extension": ".py",
   "mimetype": "text/x-python",
   "name": "python",
   "nbconvert_exporter": "python",
   "pygments_lexer": "ipython2",
   "version": "2.7.13"
  }
 },
 "nbformat": 4,
 "nbformat_minor": 1
}
