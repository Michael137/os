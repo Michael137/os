{
 "cells": [
  {
   "cell_type": "markdown",
   "metadata": {},
   "source": [
    "# Setup"
   ]
  },
  {
   "cell_type": "code",
   "execution_count": 2,
   "metadata": {
    "collapsed": false
   },
   "outputs": [
    {
     "name": "stdout",
     "output_type": "stream",
     "text": [
      "Benchmark configuration:\r\n",
      "  buffersize: 16384\r\n",
      "  totalsize: 16777216\r\n",
      "  blockcount: 1024\r\n",
      "  operation: create\r\n",
      "  path: lab1/iofile\r\n",
      "  time: 2.054335041\r\n",
      "speed: 7975.33 KBytes/sec\r\n"
     ]
    }
   ],
   "source": [
    "# Extract and build the benchmark\n",
    "def make_io_file():\n",
    "    !make -C io\n",
    "\n",
    "    !mkdir -p /data/lab1\n",
    "    !io/io-static -c lab1/iofile\n",
    "\n",
    "make_io_file()"
   ]
  },
  {
   "cell_type": "code",
   "execution_count": 3,
   "metadata": {
    "collapsed": true
   },
   "outputs": [],
   "source": [
    "# D Language scripts\n",
    "D_ffs_read_time = \"\"\"\n",
    "syscall::clock_gettime:return\n",
    "/execname == \"io-static\" && !self->in_benchmark/\n",
    "{\n",
    "    self->in_benchmark = 1;\n",
    "}\n",
    "\n",
    "syscall::clock_gettime:entry\n",
    "/execname == \"io-static\" && self->in_benchmark/\n",
    "{\n",
    "    self->in_benchmark = 0;\n",
    "}\n",
    "\n",
    "fbt::ffs_read:entry\n",
    "/self->in_benchmark/\n",
    "{\n",
    "    self->ts = vtimestamp;\n",
    "}\n",
    "fbt::ffs_read:return\n",
    "/self->ts && self->in_benchmark/\n",
    "{\n",
    "    @[id] = sum(vtimestamp - self->ts);\n",
    "    self->ts = 0;\n",
    "}\n",
    "\"\"\"\n",
    "\n",
    "D_program_time = \"\"\"\n",
    "syscall::execve:return\n",
    "/execname == \"io-static\" && self->ts/\n",
    "{\n",
    "    trace(vtimestamp - self->ts)\n",
    "}\n",
    "\n",
    "syscall::exit:entry\n",
    "/execname == \"io-static\"/\n",
    "{\n",
    "    self->ts = vtimestamp;\n",
    "}\n",
    "\"\"\"\n",
    "\n",
    "D_buf_strategy_freq = \"\"\"\n",
    "syscall::clock_gettime:return\n",
    "/execname == \"io-static\" && !self->in_benchmark/\n",
    "{\n",
    "    self->in_benchmark = 1;\n",
    "}\n",
    "\n",
    "syscall::clock_gettime:entry\n",
    "/execname == \"io-static\" && self->in_benchmark/\n",
    "{\n",
    "    self->in_benchmark = 0;\n",
    "}\n",
    "\n",
    "fbt::bufstrategy:entry\n",
    "/self->in_benchmark/\n",
    "{\n",
    "    @num = count()\n",
    "}\n",
    "\"\"\"\n",
    "\n",
    "D_cache_flag = \"\"\"\n",
    "syscall::clock_gettime:return\n",
    "/execname == \"io-static\" && !self->in_benchmark/\n",
    "{\n",
    "    self->in_benchmark = 1;\n",
    "}\n",
    "\n",
    "syscall::clock_gettime:entry\n",
    "/execname == \"io-static\" && self->in_benchmark/\n",
    "{\n",
    "    self->in_benchmark = 0;\n",
    "}\n",
    "\n",
    "fbt::bufwait:entry\n",
    "/self->in_benchmark/\n",
    "{\n",
    "    @ = quantize(((struct buf*)arg1)->b_iocmd == 0x01 /* BIO_READ */)\n",
    "}\n",
    "\"\"\""
   ]
  },
  {
   "cell_type": "code",
   "execution_count": 8,
   "metadata": {
    "collapsed": false
   },
   "outputs": [],
   "source": [
    "import itertools\n",
    "\n",
    "def strs_to_tup(strs):\n",
    "    if len(strs) == 1:\n",
    "        return (strs[0].strip(),None)\n",
    "    else:\n",
    "        return (strs[0].strip(),strs[1].strip())\n",
    "\n",
    "def flatten(lst):\n",
    "    return list(itertools.chain.from_iterable(lst))\n",
    "\n",
    "def parse(cmd_out):\n",
    "    tups = map(strs_to_tup, [string.split(\":\") for string in cmd_out])\n",
    "    return dict(tups)\n",
    "\n",
    "import time\n",
    "from __future__ import print_function\n",
    "from decimal import Decimal\n",
    "import pandas as pd\n",
    "import numpy as np\n",
    "%matplotlib inline\n",
    "# import matplotlib.pyplot as plt\n",
    "# plt.style.use('seaborn-whitegrid')\n",
    "\n",
    "def label_points(x, y, ax):\n",
    "    a = pd.concat({'x': x, 'y': y}, axis=1)\n",
    "    for i, point in a.iterrows():\n",
    "        ax.text(point['x'], point['y'], \"{:.2E}\".format(Decimal(point['x'])))\n",
    "\n",
    "def graph(xs, ys, num_trials = 0, save = False, save_name = \"plot\", title = \"\", xlabel = \"\"):\n",
    "    # np.array expects: [[x1, y1], [x2, y2], ..., [xn, yn]]\n",
    "    '''df = pd.DataFrame(np.array(np.column_stack((xs, ys))), columns=['x', 'y'])\n",
    "    plt = df.plot(x='x', y='y',logx=True, grid=True, figsize=(20,10))\n",
    "    label_points(df.x, df.y, plt)'''\n",
    "    xvalues = np.reshape(ys, (len(xs), num_trials))[:,:]\n",
    "    df = pd.DataFrame(xvalues, index=xs)\n",
    "    error_bars = df.quantile([.25, .75], axis=1)\n",
    "    error_bars.loc[[0.25]] = df.median(1) - error_bars.loc[[0.25]]\n",
    "    error_bars.loc[[0.75]] = error_bars.loc[[0.75]] - df.median(1)\n",
    "    error_bars_values = [error_bars.values]\n",
    "    plt.figure();\n",
    "    df.median(1).plot(figsize=(9,9), yerr=error_bars_values, label=title)\n",
    "    plt.ylabel('I/O bandwidth (KiBytes/sec)')\n",
    "    plt.xlabel(xlabel)\n",
    "    plt.xscale('log')\n",
    "    if save:\n",
    "        '''fig = plt.get_figure()\n",
    "        fig.savefig(\"{}.pdf\".format(save_name))'''\n",
    "        plt.savefig(\"{}.png\".format(save_name))\n",
    "\n",
    "def benchmark(flags, repeat, exe, filename, buf_sizes, io_sizes, create = False, reset_file = False, dtrace_info = None, bench_name = \"\" ):\n",
    "    runs = range(1, repeat + 1)\n",
    "    outputs = []\n",
    "    print(\"\\t ==> Running {}\".format(exe))\n",
    "    print(\"\\t\\t ==> Reading from {}\".format(filename))\n",
    "    is_dtrace = (dtrace_info != None)\n",
    "    dtrace_thread = None\n",
    "\n",
    "    for buffer_size in buf_sizes:\n",
    "        for io_size in io_sizes:\n",
    "            cmd = \"{} {} -b {} -t {} {}\".format(exe, flags, buffer_size, io_size, filename)\n",
    "            #if \"-v\" not in flags:\n",
    "            #    cmd = \"time -p \" + cmd\n",
    "            if \"-d\" in flags:\n",
    "                discard = !{cmd}\n",
    "\n",
    "            if create:\n",
    "                created = !io/io-static -t {str(io_size)} -c lab1/iofile\n",
    "\n",
    "            if is_dtrace:\n",
    "                # Create a seperate thread to run the DTrace instrumentation\n",
    "                dtrace_thread = DTraceConsumerThread(dtrace_info['script'],\n",
    "                                                        chew_func=None,\n",
    "                                                        chewrec_func=None,\n",
    "                                                        walk_func=dtrace_info['agg_fn'],\n",
    "                                                        sleep=1)\n",
    "                # Start the DTrace instrumentation\n",
    "                dtrace_thread.start()\n",
    "\n",
    "            results = []\n",
    "            for i in runs:\n",
    "                out = !{cmd}\n",
    "                parsed = parse(out)\n",
    "                results.append(parsed)\n",
    "\n",
    "            if is_dtrace and dtrace_thread != None:\n",
    "                # The benchmark has completed - stop the DTrace instrumentation\n",
    "                dtrace_thread.stop()\n",
    "                dtrace_thread.join()\n",
    "                print(\"\\t\\t\\tdtrace run: {0:2} bytes {1:2} bytes\".format(buffer_size, io_size))\n",
    "            else:\n",
    "                times = [float(item['time']) for item in results]\n",
    "                speeds = [float(item['speed'].split(' ')[0]) for item in results] # Need to split by ' ' because output speed has units attached to it (see io.c)\n",
    "                avg_time = sum(times) / len(runs)\n",
    "                avg_speed = sum(speeds) / len(runs)\n",
    "                buf_sz = int(results[0]['buffersize'])\n",
    "                tot_sz = int(results[0]['totalsize'])\n",
    "                print(\"\\t\\t\\t{0:2} bytes {1:2} bytes ({2:.2f} KBytes/sec): {3:.6f}s\".format(buf_sz, tot_sz, avg_speed, avg_time))\n",
    "                outputs.append({'buffersize':buffer_size, 'time':avg_time, 'speed':avg_speed, 'iosize':tot_sz, 'speeds': speeds, 'times': times})\n",
    "    if reset_file:\n",
    "        print(\"recreating default benchmark file\")\n",
    "        make_io_file()\n",
    "    return outputs"
   ]
  },
  {
   "cell_type": "markdown",
   "metadata": {},
   "source": [
    "# Reads"
   ]
  },
  {
   "cell_type": "markdown",
   "metadata": {},
   "source": [
    "## Constant IO/Varying Buffer (with cache, static/dynamic)\n",
    "\n",
    "* Total size: 16MB (default)\n",
    "* Buffer: varies from 512 to 512 * 2^16\n",
    "* (io.c modified to output kbytes/sec in same format as other params)\n",
    "* Run multiple times then average\n",
    "* Prevent warmup effect"
   ]
  },
  {
   "cell_type": "markdown",
   "metadata": {},
   "source": [
    "### DTrace\n",
    "\n",
    "#### TODO\n",
    "* Probe effect measurement"
   ]
  },
  {
   "cell_type": "code",
   "execution_count": 37,
   "metadata": {
    "collapsed": false
   },
   "outputs": [
    {
     "name": "stdout",
     "output_type": "stream",
     "text": [
      "\t ==> Running io/io-static\n",
      "\t\t ==> Reading from lab1/iofile\n",
      "\t\t\t512 bytes 16777216 bytes (24317.60 KBytes/sec): 0.808241s\n",
      "\t\t\t1024 bytes 16777216 bytes (38839.28 KBytes/sec): 0.493772s\n",
      "\t\t\t2048 bytes 16777216 bytes (70938.49 KBytes/sec): 0.301975s\n",
      "\t\t\t4096 bytes 16777216 bytes (98632.19 KBytes/sec): 0.219151s\n",
      "\t\t\t8192 bytes 16777216 bytes (118238.40 KBytes/sec): 0.178764s\n",
      "\t\t\t16384 bytes 16777216 bytes (128340.47 KBytes/sec): 0.162945s\n",
      "\t\t\t32768 bytes 16777216 bytes (145843.29 KBytes/sec): 0.137491s\n",
      "\t\t\t65536 bytes 16777216 bytes (136976.94 KBytes/sec): 0.158727s\n",
      "\t\t\t131072 bytes 16777216 bytes (118415.07 KBytes/sec): 0.184417s\n",
      "\t\t\t262144 bytes 16777216 bytes (140619.44 KBytes/sec): 0.129902s\n",
      "\t\t\t524288 bytes 16777216 bytes (136097.21 KBytes/sec): 0.151662s\n",
      "\t\t\t1048576 bytes 16777216 bytes (124356.88 KBytes/sec): 0.163457s\n",
      "\t\t\t2097152 bytes 16777216 bytes (129012.64 KBytes/sec): 0.158585s\n",
      "\t\t\t4194304 bytes 16777216 bytes (121022.03 KBytes/sec): 0.167177s\n",
      "\t\t\t8388608 bytes 16777216 bytes (122788.96 KBytes/sec): 0.165787s\n",
      "\t\t\t16777216 bytes 16777216 bytes (91565.39 KBytes/sec): 0.220916s\n"
     ]
    },
    {
     "data": {
      "image/png": "[encoded data removed]",
      "text/plain": [
       "<matplotlib.figure.Figure at 0x25164b30>"
      ]
     },
     "metadata": {},
     "output_type": "display_data"
    }
   ],
   "source": [
    "BUF_START = 512\n",
    "BUFFER_SIZES = [BUF_START * 2 ** exp for exp in range(0, 16)]\n",
    "IO_SIZES = [BUFFER_SIZES[-1]] # Keep constant at default 16MB (last value of BUFFER_SIZES)\n",
    "RUNS = 12\n",
    "\n",
    "results_iofile = benchmark(\"-v -r -B\", RUNS, \"io/io-static\", \"lab1/iofile\", BUFFER_SIZES, IO_SIZES, create = False)\n",
    "saveas = \"static_const_io_flags_vrB_runs_12_oldfile\"\n",
    "graph(BUFFER_SIZES, flatten([item['speeds'] for item in results_iofile]), RUNS, save = True, save_name = saveas)"
   ]
  },
  {
   "cell_type": "code",
   "execution_count": null,
   "metadata": {
    "collapsed": false
   },
   "outputs": [],
   "source": [
    "BUF_START = 512\n",
    "BUFFER_SIZES = [BUF_START * 2 ** exp for exp in range(11, 16)]\n",
    "IO_SIZES = [BUFFER_SIZES[-1]] # Keep constant at default 16MB (last value of BUFFER_SIZES)\n",
    "RUNS = 12\n",
    "values = []\n",
    "\n",
    "# Callbacks invoked to process the aggregation\n",
    "def simple_out(a, b, c, d):\n",
    "    # print(a,b,c,d)\n",
    "    values.append(d)\n",
    "\n",
    "def quantized_out(a, b, c, d):\n",
    "    print(a,b,c,d)\n",
    "    values.append(d)\n",
    "\n",
    "for io_sz in IO_SIZES:\n",
    "    for buf_sz in BUFFER_SIZES:\n",
    "        benchmark(\"-r -d\", 1, \"io/io-static\", \"lab1/iofile\", [buf_sz], [io_sz], dtrace_info = {'agg_fn':quantized_out, 'script':D_cache_flag})\n",
    "        #avg_time = sum(values) / RUNS\n",
    "        #avg_speed = (IO_SIZES[0]/1024)/(avg_time/1e9)\n",
    "        #print(\"Average time = {} nseconds\".format(avg_time))\n",
    "        #print(\"Average bandwidth = {} KiBytes/sec\".format(avg_speed))"
   ]
  },
  {
   "cell_type": "markdown",
   "metadata": {
    "collapsed": false
   },
   "source": [
    "## Buffer Size Constant/Vary IO"
   ]
  },
  {
   "cell_type": "code",
   "execution_count": 50,
   "metadata": {
    "collapsed": false,
    "scrolled": false
   },
   "outputs": [
    {
     "name": "stdout",
     "output_type": "stream",
     "text": [
      "\t ==> Running io/io-static\n",
      "\t\t ==> Reading from lab1/iofile\n",
      "\t\t\t32768 bytes 32768 bytes (6899.23 KBytes/sec): 0.004957s\n",
      "\t\t\t32768 bytes 65536 bytes (13431.15 KBytes/sec): 0.005127s\n",
      "\t\t\t32768 bytes 131072 bytes (25548.86 KBytes/sec): 0.005335s\n",
      "\t\t\t32768 bytes 262144 bytes (42874.84 KBytes/sec): 0.006276s\n",
      "\t\t\t32768 bytes 524288 bytes (68508.57 KBytes/sec): 0.007727s\n",
      "\t\t\t32768 bytes 1048576 bytes (98489.76 KBytes/sec): 0.010568s\n",
      "\t\t\t32768 bytes 2097152 bytes (121815.94 KBytes/sec): 0.017023s\n",
      "\t\t\t32768 bytes 4194304 bytes (142069.10 KBytes/sec): 0.029143s\n",
      "\t\t\t32768 bytes 8388608 bytes (157767.60 KBytes/sec): 0.051958s\n",
      "\t\t\t32768 bytes 16777216 bytes (167877.36 KBytes/sec): 0.097599s\n",
      "recreating default benchmark file\n",
      "Benchmark configuration:\n",
      "  buffersize: 16384\n",
      "  totalsize: 16777216\n",
      "  blockcount: 1024\n",
      "  operation: create\n",
      "  path: lab1/iofile\n",
      "  time: 2.288943750\n",
      "speed: 7157.89 KBytes/sec\n",
      "Saved plot at static_const_buf_32k_flags_vrs_runs_12_newfile\n"
     ]
    },
    {
     "data": {
      "image/png": "[encoded data removed]",
      "text/plain": [
       "<matplotlib.figure.Figure at 0x2559f7b0>"
      ]
     },
     "metadata": {},
     "output_type": "display_data"
    }
   ],
   "source": [
    "# Setup\n",
    "IO_START = 512\n",
    "IO_SIZES = [IO_START * 2 ** exp for exp in range(5, 16)]\n",
    "BUFFER_SIZES = [512 * 2 ** 5] # Keep constant at default 16KB\n",
    "RUNS = 12\n",
    "\n",
    "results_iofile = benchmark(\"-v -r -s\", 12, \"io/io-static\", \"lab1/iofile\", BUFFER_SIZES, IO_SIZES, create = True, reset_file = True)\n",
    "\n",
    "saveas = \"static_const_buf_16k_flags_vrs_runs_12_newfile\"\n",
    "graph(IO_SIZES, flatten([item['speeds'] for item in results_iofile]), RUNS, save = True, save_name = saveas)\n",
    "print(\"Saved plot at {}\".format(saveas))"
   ]
  },
  {
   "cell_type": "markdown",
   "metadata": {},
   "source": [
    "# Write"
   ]
  },
  {
   "cell_type": "code",
   "execution_count": null,
   "metadata": {
    "collapsed": false,
    "scrolled": true
   },
   "outputs": [],
   "source": [
    "BUF_START = 512\n",
    "BUFFER_SIZES = [BUF_START * 2 ** exp for exp in range(0, 16)]\n",
    "IO_SIZES = [BUFFER_SIZES[-1]] # Keep constant at default 16MB (last value of BUFFER_SIZES)\n",
    "RUNS = 12\n",
    "\n",
    "# TODO: vwd\n",
    "results_iofile = benchmark(\"-v -w -d\", RUNS, \"io/io-static\", \"lab1/iofile\", BUFFER_SIZES, IO_SIZES, create = True, reset_file = True)\n",
    "\n",
    "saveas = \"static_const_io_flags_vwd_runs_12_newfile\"\n",
    "graph(BUFFER_SIZES, flatten([item['speeds'] for item in results_iofile]), RUNS, save = True, save_name = saveas, xlabel = 'Buffer size (Bytes)')\n",
    "print(\"Saved plot at {}\".format(saveas))"
   ]
  },
  {
   "cell_type": "code",
   "execution_count": 16,
   "metadata": {
    "collapsed": false
   },
   "outputs": [
    {
     "name": "stdout",
     "output_type": "stream",
     "text": [
      "\t ==> Running io/io-static\n",
      "\t\t ==> Reading from lab1/iofile\n",
      "\t\t\t16384 bytes 16384 bytes (44913.05 KBytes/sec): 0.000356s\n",
      "\t\t\t16384 bytes 32768 bytes (63654.11 KBytes/sec): 0.000625s\n",
      "\t\t\t16384 bytes 65536 bytes (104340.75 KBytes/sec): 0.000615s\n",
      "\t\t\t16384 bytes 131072 bytes (108318.94 KBytes/sec): 0.001182s\n",
      "\t\t\t16384 bytes 262144 bytes (133339.18 KBytes/sec): 0.001920s\n",
      "\t\t\t16384 bytes 524288 bytes (108831.51 KBytes/sec): 0.005585s\n",
      "\t\t\t16384 bytes 1048576 bytes (101284.80 KBytes/sec): 0.010112s\n",
      "\t\t\t16384 bytes 2097152 bytes (12515.29 KBytes/sec): 0.163665s\n",
      "\t\t\t16384 bytes 4194304 bytes (9992.41 KBytes/sec): 0.410552s\n",
      "\t\t\t16384 bytes 8388608 bytes (9309.37 KBytes/sec): 0.881771s\n",
      "\t\t\t16384 bytes 16777216 bytes (8954.36 KBytes/sec): 1.850779s\n",
      "recreating default benchmark file\n",
      "Benchmark configuration:\n",
      "  buffersize: 16384\n",
      "  totalsize: 16777216\n",
      "  blockcount: 1024\n",
      "  operation: create\n",
      "  path: lab1/iofile\n",
      "  time: 1.911270333\n",
      "speed: 8572.31 KBytes/sec\n",
      "Saved plot at static_const_buf_16k_flags_vw_runs_12_newfile\n"
     ]
    },
    {
     "data": {
      "image/png": "[encoded data removed]",
      "text/plain": [
       "<matplotlib.figure.Figure at 0x2519fef0>"
      ]
     },
     "metadata": {},
     "output_type": "display_data"
    }
   ],
   "source": [
    "IO_START = 512\n",
    "IO_SIZES = [IO_START * 2 ** exp for exp in range(5, 16)]\n",
    "BUFFER_SIZES = [512 * 2 ** 5] # Keep constant at default 16KB\n",
    "RUNS = 12\n",
    "\n",
    "# TODO: this configuration\n",
    "results_iofile = benchmark(\"-v -w -s\", 12, \"io/io-static\", \"lab1/iofile\", BUFFER_SIZES, IO_SIZES, create = False, reset_file = True)\n",
    "\n",
    "saveas = \"static_const_buf_16k_flags_vws_runs_12_oldfile\"\n",
    "graph(IO_SIZES, flatten([item['speeds'] for item in results_iofile]), RUNS, save = True, save_name = saveas, xlabel = 'I/O size (Bytes)')\n",
    "print(\"Saved plot at {}\".format(saveas))"
   ]
  },
  {
   "cell_type": "markdown",
   "metadata": {},
   "source": [
    "# Notes\n",
    "\n",
    "Running in the background:\n",
    "* 701 u0  Is+  0:00.01 /usr/libexec/getty 3wire ttyu0\n",
    "* 726 U0  Is+  0:00.01 /usr/libexec/getty 3wire.115200 ttyU0\n",
    "* 724  0  Ss   0:00.18 -csh (csh)\n",
    "* 732  0  S    1:12.86 /usr/local/bin/python2.7 /usr/local/bin/jupyter-notebook\n",
    "* 1832  0  R+   0:00.02 ps\n",
    "\n",
    "FreeBSD SD card driver: https://www.freebsd.org/cgi/man.cgi?mmcsd(4)\n",
    "\n",
    "SD Card Specification: http://read.pudn.com/downloads188/ebook/881633/SD%203.0/Part_1_Physical_Layer_Specification_Ver3.00_Final_090416.pdf"
   ]
  },
  {
   "cell_type": "code",
   "execution_count": null,
   "metadata": {
    "collapsed": true
   },
   "outputs": [],
   "source": []
  }
 ],
 "metadata": {
  "kernelspec": {
   "display_name": "Python 2",
   "language": "python",
   "name": "python2"
  },
  "language_info": {
   "codemirror_mode": {
    "name": "ipython",
    "version": 2
   },
   "file_extension": ".py",
   "mimetype": "text/x-python",
   "name": "python",
   "nbconvert_exporter": "python",
   "pygments_lexer": "ipython2",
   "version": "2.7.13"
  }
 },
 "nbformat": 4,
 "nbformat_minor": 1
}
