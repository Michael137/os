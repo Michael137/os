{
 "cells": [
  {
   "cell_type": "markdown",
   "metadata": {},
   "source": [
    "# Setup"
   ]
  },
  {
   "cell_type": "code",
   "execution_count": 3,
   "metadata": {
    "collapsed": false
   },
   "outputs": [
    {
     "name": "stdout",
     "output_type": "stream",
     "text": [
      "cc -DWITH_PMC -Wall -o ipc-static -DPROGNAME=\\\"ipc-static\\\" ipc.c -static  -lpmc -lpthread\n",
      "cc -DWITH_PMC -Wall -o ipc-dynamic -DPROGNAME=\\\"ipc-dynamic\\\" ipc.c -dynamic  -lpmc -lpthread\n",
      "kern.ipc.maxsockbuf: 33554432 -> 33554432\n"
     ]
    }
   ],
   "source": [
    "# Extract and build the benchmark\n",
    "!rm -f ipc/ipc-static\n",
    "!rm -f ipc/ipc-dynamic\n",
    "!make -C ipc\n",
    "!sysctl kern.ipc.maxsockbuf=33554432"
   ]
  },
  {
   "cell_type": "code",
   "execution_count": 4,
   "metadata": {
    "collapsed": true
   },
   "outputs": [],
   "source": [
    "# D Language scripts\n",
    "D_ = \"\"\"\"\"\""
   ]
  },
  {
   "cell_type": "code",
   "execution_count": 2,
   "metadata": {
    "collapsed": false
   },
   "outputs": [],
   "source": [
    "import itertools\n",
    "import re\n",
    "\n",
    "def strs_to_tup(strs):\n",
    "    if len(strs) == 1:\n",
    "        return (strs[0].strip(),None)\n",
    "    else:\n",
    "        return (strs[0].strip(),strs[1].strip())\n",
    "\n",
    "def flatten(lst):\n",
    "    return list(itertools.chain.from_iterable(lst))\n",
    "\n",
    "def parse(cmd_out):\n",
    "    tups = map(strs_to_tup, [string.split(\":\") for string in cmd_out])\n",
    "    return dict(tups)\n",
    "\n",
    "def genfilename(exe, mode, ipc, runs, flags, suffix=\"\", extension = \"png\"):\n",
    "    return \"{}_{}_{}_runs_{}_{}{}.{}\".format(re.sub(r'[/-]', r'_', exe), mode, ipc, runs, re.sub(r'\\s*-', r'', flags), suffix, extension)\n",
    "\n",
    "import time\n",
    "from __future__ import print_function\n",
    "from decimal import Decimal\n",
    "import pandas as pd\n",
    "import numpy as np\n",
    "%matplotlib inline\n",
    "# import matplotlib.pyplot as plt\n",
    "# plt.style.use('seaborn-whitegrid')\n",
    "\n",
    "def label_points(x, y, ax):\n",
    "    a = pd.concat({'x': x, 'y': y}, axis=1)\n",
    "    for i, point in a.iterrows():\n",
    "        ax.text(point['x'], point['y'], \"{:.2E}\".format(Decimal(point['x'])))\n",
    "\n",
    "def graph(xs, ys, num_trials = 0, save = False, save_name = \"plot\", title = None, xlabel = None, ylabel = None, label = None, axis = None):\n",
    "    xvalues = np.reshape(ys, (len(xs), num_trials))[:,:]\n",
    "    df = pd.DataFrame(xvalues, index=xs)\n",
    "    error_bars = df.quantile([.25, .75], axis=1)\n",
    "    error_bars.loc[[0.25]] = df.median(1) - error_bars.loc[[0.25]]\n",
    "    error_bars.loc[[0.75]] = error_bars.loc[[0.75]] - df.median(1)\n",
    "    error_bars_values = [error_bars.values]\n",
    "    if axis:\n",
    "        ax = df.median(1).plot(figsize=(9,9), yerr=error_bars_values, title=title, ax=axis)\n",
    "    else:\n",
    "        ax = df.median(1).plot(figsize=(9,9), yerr=error_bars_values, title=title)\n",
    "    \n",
    "    if xlabel:\n",
    "        ax.set_xlabel(xlabel)\n",
    "    if ylabel:\n",
    "        ax.set_ylabel(ylabel)\n",
    "    if label:\n",
    "        ax.set_label(label)\n",
    "    if title:\n",
    "        ax.set_title(title)\n",
    "    ax.set_yscale('log')\n",
    "    ax.set_xscale('log')\n",
    "    plt.grid('on', axis='x' )\n",
    "    plt.grid('on', axis='y' )\n",
    "    if save:\n",
    "        ax.get_figure().savefig(\"{}\".format(save_name))\n",
    "    return ax\n",
    "\n",
    "def benchmark(flags, repeat, exe, mode, ipc, buf_sizes, tot_sizes, dtrace_info = None, bench_name = \"\" ):\n",
    "    runs = range(1, repeat + 1)\n",
    "    outputs = []\n",
    "    print(\"\\t ==> Running {}\".format(exe))\n",
    "    print(\"\\t\\t ==> {} across {}\".format(ipc, mode))\n",
    "    is_dtrace = (dtrace_info != None)\n",
    "    dtrace_thread = None\n",
    "    verbose = \"-v\" in flags\n",
    "\n",
    "    for buffer_size in buf_sizes:\n",
    "        for tot_size in tot_sizes:\n",
    "            cmd = \"{} {} -i {} -b {} -t {} {}\".format(exe, flags, ipc, buffer_size, tot_size, mode)\n",
    "\n",
    "            results = []\n",
    "            for i in runs:\n",
    "                out = !{cmd}\n",
    "                parsed = parse(out)\n",
    "                results.append(parsed)\n",
    "\n",
    "            times = [float(item['time']) for item in results] if verbose else None\n",
    "            avg_time = sum(times) / len(runs) if verbose else None\n",
    "\n",
    "            speeds = [float(item['speed'].split(' ')[0]) for item in results] # Need to split by ' ' because output speed has units attached to it (see ipc.c)\n",
    "            avg_speed = sum(speeds) / len(runs)\n",
    "            print(\"\\t\\t\\t{0:2} bytes {1:2} bytes: {2:.2f} KBytes/sec\".format(buffer_size, tot_size, avg_speed))\n",
    "            outputs.append({'buffersize':buffer_size, 'time':avg_time, 'speed':avg_speed, 'tot_sz':tot_size, 'speeds': speeds, 'times': times})\n",
    "    return outputs"
   ]
  },
  {
   "cell_type": "markdown",
   "metadata": {},
   "source": [
    "# 1thread"
   ]
  },
  {
   "cell_type": "markdown",
   "metadata": {},
   "source": [
    "## Vary IPC buffer (user-space)"
   ]
  },
  {
   "cell_type": "code",
   "execution_count": 3,
   "metadata": {
    "collapsed": false
   },
   "outputs": [
    {
     "name": "stdout",
     "output_type": "stream",
     "text": [
      "\t ==> Running ipc/ipc-static\n",
      "\t\t ==> local across 1thread\n",
      "\t\t\t131072 bytes 16777216 bytes: 220256.51 KBytes/sec\n",
      "\t\t\t262144 bytes 16777216 bytes: 141561.40 KBytes/sec\n",
      "\t\t\t524288 bytes 16777216 bytes: 133947.93 KBytes/sec\n",
      "\t\t\t1048576 bytes 16777216 bytes: 133008.20 KBytes/sec\n",
      "\t\t\t2097152 bytes 16777216 bytes: 127698.80 KBytes/sec\n",
      "\t\t\t4194304 bytes 16777216 bytes: 119629.00 KBytes/sec\n",
      "\t\t\t8388608 bytes 16777216 bytes: 105944.24 KBytes/sec\n",
      "\t\t\t16777216 bytes 16777216 bytes: 85757.66 KBytes/sec\n",
      "\t ==> Running ipc/ipc-static\n",
      "\t\t ==> tcp across 1thread\n",
      "\t\t\t131072 bytes 16777216 bytes: 43832.19 KBytes/sec\n",
      "\t\t\t262144 bytes 16777216 bytes: 44888.36 KBytes/sec\n",
      "\t\t\t524288 bytes 16777216 bytes: 45269.71 KBytes/sec\n",
      "\t\t\t1048576 bytes 16777216 bytes: 45035.14 KBytes/sec\n",
      "\t\t\t2097152 bytes 16777216 bytes: 44605.58 KBytes/sec\n",
      "\t\t\t4194304 bytes 16777216 bytes: 43472.05 KBytes/sec\n",
      "\t\t\t8388608 bytes 16777216 bytes: 41279.34 KBytes/sec\n",
      "\t\t\t16777216 bytes 16777216 bytes: 37386.14 KBytes/sec\n",
      "\t ==> Running ipc/ipc-static\n",
      "\t\t ==> pipe across 1thread\n",
      "\t\t\t131072 bytes 16777216 bytes: 186639.62 KBytes/sec\n",
      "\t\t\t262144 bytes 16777216 bytes: 138948.61 KBytes/sec\n",
      "\t\t\t524288 bytes 16777216 bytes: 132252.15 KBytes/sec\n",
      "\t\t\t1048576 bytes 16777216 bytes: 129877.34 KBytes/sec\n",
      "\t\t\t2097152 bytes 16777216 bytes: 127140.61 KBytes/sec\n",
      "\t\t\t4194304 bytes 16777216 bytes: 119738.40 KBytes/sec\n",
      "\t\t\t8388608 bytes 16777216 bytes: 108071.58 KBytes/sec\n",
      "\t\t\t16777216 bytes 16777216 bytes: 89632.76 KBytes/sec\n"
     ]
    },
    {
     "data": {
      "text/plain": [
       "<matplotlib.legend.Legend at 0x251de9b0>"
      ]
     },
     "execution_count": 3,
     "metadata": {},
     "output_type": "execute_result"
    },
    {
     "data": {
      "image/png": "[encoded data removed]",
      "text/plain": [
       "<matplotlib.figure.Figure at 0x250972b0>"
      ]
     },
     "metadata": {},
     "output_type": "display_data"
    }
   ],
   "source": [
    "BUF_START = 512\n",
    "BUFFER_SIZES = [BUF_START * 2 ** exp for exp in range(8, 16)] # Start from 128KB\n",
    "TOT_SIZES = [BUFFER_SIZES[-1]] # Keep constant at default 16MB (last value of BUFFER_SIZES)\n",
    "RUNS = 20\n",
    "EXE=\"ipc/ipc-static\"\n",
    "FLAGS=\"\"\n",
    "\n",
    "MODE = \"1thread\"\n",
    "IPC= \"local\"\n",
    "local = benchmark(FLAGS, RUNS, EXE, MODE, IPC, BUFFER_SIZES, TOT_SIZES)\n",
    "p = graph(BUFFER_SIZES, flatten([item['speeds'] for item in local]), RUNS, xlabel='IPC User Space Buffer Size (Logscale Bytes)', ylabel='I/O Bandwidth (KBytes/sec)', label=IPC, title = \"Throughput vs. IPC Bandwidth (Single Thread)\")\n",
    "\n",
    "IPC= \"tcp\"\n",
    "tcp = benchmark(FLAGS, RUNS, EXE, MODE, IPC, BUFFER_SIZES, TOT_SIZES)\n",
    "p = graph(BUFFER_SIZES, flatten([item['speeds'] for item in tcp]), RUNS, axis = p, label=IPC)\n",
    "\n",
    "IPC= \"pipe\"\n",
    "pipe = benchmark(FLAGS, RUNS, EXE, MODE, IPC, BUFFER_SIZES, TOT_SIZES)\n",
    "saveas = genfilename(EXE, MODE, \"all\", RUNS, FLAGS, suffix = \"vary_buffer\")\n",
    "p = graph(BUFFER_SIZES, flatten([item['speeds'] for item in pipe]), RUNS, axis = p, label=IPC, save = True, save_name = saveas)\n",
    "\n",
    "p.legend([\"local\", \"tcp\", \"pipe\"])"
   ]
  },
  {
   "cell_type": "markdown",
   "metadata": {},
   "source": [
    "## 2thread"
   ]
  },
  {
   "cell_type": "code",
   "execution_count": null,
   "metadata": {
    "collapsed": true
   },
   "outputs": [],
   "source": [
    "BUF_START = 512\n",
    "BUFFER_SIZES = [BUF_START * 2 ** exp for exp in range(8, 16)] # Start from 128KB\n",
    "TOT_SIZES = [BUFFER_SIZES[-1]] # Keep constant at default 16MB (last value of BUFFER_SIZES)\n",
    "RUNS = 20\n",
    "EXE=\"ipc/ipc-static\"\n",
    "FLAGS=\"\"\n",
    "\n",
    "MODE = \"2thread\"\n",
    "IPC= \"local\"\n",
    "local = benchmark(FLAGS, RUNS, EXE, MODE, IPC, BUFFER_SIZES, TOT_SIZES)\n",
    "p = graph(BUFFER_SIZES, flatten([item['speeds'] for item in local]), RUNS, xlabel='IPC User Space Buffer Size (Logscale Bytes)', ylabel='I/O Bandwidth (KBytes/sec)', label=IPC, title = \"Throughput vs. IPC Bandwidth (Two Threads, Single Processor)\")\n",
    "\n",
    "IPC= \"tcp\"\n",
    "tcp = benchmark(FLAGS, RUNS, EXE, MODE, IPC, BUFFER_SIZES, TOT_SIZES)\n",
    "p = graph(BUFFER_SIZES, flatten([item['speeds'] for item in tcp]), RUNS, axis = p, label=IPC)\n",
    "\n",
    "IPC= \"pipe\"\n",
    "pipe = benchmark(FLAGS, RUNS, EXE, MODE, IPC, BUFFER_SIZES, TOT_SIZES)\n",
    "saveas = genfilename(EXE, MODE, \"all\", RUNS, FLAGS, suffix = \"vary_buffer\")\n",
    "p = graph(BUFFER_SIZES, flatten([item['speeds'] for item in pipe]), RUNS, axis = p, label=IPC, save = True, save_name = saveas)\n",
    "\n",
    "p.legend([\"local\", \"tcp\", \"pipe\"])"
   ]
  },
  {
   "cell_type": "markdown",
   "metadata": {},
   "source": [
    "## 2proc"
   ]
  },
  {
   "cell_type": "code",
   "execution_count": null,
   "metadata": {
    "collapsed": true
   },
   "outputs": [],
   "source": [
    "BUF_START = 512\n",
    "BUFFER_SIZES = [BUF_START * 2 ** exp for exp in range(8, 16)] # Start from 128KB\n",
    "TOT_SIZES = [BUFFER_SIZES[-1]] # Keep constant at default 16MB (last value of BUFFER_SIZES)\n",
    "RUNS = 20\n",
    "EXE=\"ipc/ipc-static\"\n",
    "FLAGS=\"\"\n",
    "\n",
    "MODE = \"2proc\"\n",
    "IPC= \"local\"\n",
    "local = benchmark(FLAGS, RUNS, EXE, MODE, IPC, BUFFER_SIZES, TOT_SIZES)\n",
    "p = graph(BUFFER_SIZES, flatten([item['speeds'] for item in local]), RUNS, xlabel='IPC User Space Buffer Size (Logscale Bytes)', ylabel='I/O Bandwidth (KBytes/sec)', label=IPC, title = \"Throughput vs. IPC Bandwidth (Two Threads, Two Processors)\")\n",
    "\n",
    "IPC= \"tcp\"\n",
    "tcp = benchmark(FLAGS, RUNS, EXE, MODE, IPC, BUFFER_SIZES, TOT_SIZES)\n",
    "p = graph(BUFFER_SIZES, flatten([item['speeds'] for item in tcp]), RUNS, axis = p, label=IPC)\n",
    "\n",
    "IPC= \"pipe\"\n",
    "pipe = benchmark(FLAGS, RUNS, EXE, MODE, IPC, BUFFER_SIZES, TOT_SIZES)\n",
    "saveas = genfilename(EXE, MODE, \"all\", RUNS, FLAGS, suffix = \"vary_buffer\")\n",
    "p = graph(BUFFER_SIZES, flatten([item['speeds'] for item in pipe]), RUNS, axis = p, label=IPC, save = True, save_name = saveas)\n",
    "\n",
    "p.legend([\"local\", \"tcp\", \"pipe\"])"
   ]
  },
  {
   "cell_type": "markdown",
   "metadata": {},
   "source": [
    "# Notes\n",
    "\n",
    "Investigation of IPC syscalls such as pipe(2) and socket(2). read(2) and write(2) can be performed on sockets and pipes and allow for partial reads and writes. This implies that it is possible for only a subset of a requested buffer size to be read or written. Possible causes are size limits of in-kernel IPC buffers or use of non-blocking I/O. Input and output bytes both need to be considered during benchmarking performance of IPC syscalls.\n",
    "\n",
    "Links:\n",
    "* https://www.freebsd.org/cgi/man.cgi?query=socket&sektion=2\n",
    "* https://www.freebsd.org/cgi/man.cgi?pipe(2)\n",
    "* https://wiki.freebsd.org/NetworkPerformanceTuning\n",
    "* https://wiki.freebsd.org/BenchmarkAdvice\n",
    "\n",
    "Benchmark:\n",
    "* Set up IPC endpoints (using pipe(2) or socket(2))\n",
    "* Transfer bytes from a user-space buffer using read(2)/write(2)\n",
    "  * ! there is no guarantee for all bytes to be transferred however\n",
    "* Modes of rx/tx operations are:\n",
    "  * within single thread\n",
    "  * between pair of threads in same process\n",
    "  * between threads in two different processes\n",
    "* Time is measured via clock_gettime(2)\n",
    "* Both statically and dynamically linked version available\n",
    "\n",
    "* -i: IPC object type (pipe, local, tcp)\n",
    "* -t: total size of I/O file | default: 16777216\n",
    "* -b: user-space IPC buffer size (bytes) | default: 131072\n",
    "* 1thread, 2thread, 2proc\n",
    "\n",
    "Testsuite:\n",
    "* 1st thread/proc is receiver\n",
    "* 2nd thread/proc is sender\n",
    "* Sender writes timestamp to shared memory before sending bytes\n",
    "  * sender_argument.sa_starttime\n",
    "* Sender:\n",
    "  * call write(2) with buffersize or remaining bytes to write (whichever is lower)\n",
    "  * repeat writes until total I/O size is reached\n",
    "* Receiver:\n",
    "  * call read(2) until total I/O size has been reached\n",
    "* Multiple Processes/Threads:\n",
    "  * Create page (mmap(2)) for sender_argument struct\n",
    "  * Set inheritance property (minherit(2)) such that the address space of the page can be shared between parent and child\n",
    "  * Receive or send depending on pid\n",
    "  * Return time difference\n",
    "* Single thread:\n",
    "  * Set non-blocking I/O flags on input file descriptors (O_NONBLOCKING from pipe(2))\n",
    "  * Perform read and write in same iteration until total I/O size is reached\n",
    "    * In the first iteration of the benchmark only a read can be performed unless we block because the first read failed\n",
    "  * One of read or write is definitely performed at each iteration (block until rx or tx is ready if necessary (using select(2))\n",
    "  * Return time of I/O loop\n",
    "* Main:\n",
    "  * Allocate IPC object: tcp socket, pipe, local socket\n",
    "  * Prepare IPC buffer sizes if necessary\n",
    "  * fsync(2) and sleep if necessary\n",
    "  * Start benchmark modes\n",
    "  * Print output if necessary"
   ]
  }
 ],
 "metadata": {
  "kernelspec": {
   "display_name": "Python 2",
   "language": "python",
   "name": "python2"
  },
  "language_info": {
   "codemirror_mode": {
    "name": "ipython",
    "version": 2
   },
   "file_extension": ".py",
   "mimetype": "text/x-python",
   "name": "python",
   "nbconvert_exporter": "python",
   "pygments_lexer": "ipython2",
   "version": "2.7.13"
  }
 },
 "nbformat": 4,
 "nbformat_minor": 1
}
