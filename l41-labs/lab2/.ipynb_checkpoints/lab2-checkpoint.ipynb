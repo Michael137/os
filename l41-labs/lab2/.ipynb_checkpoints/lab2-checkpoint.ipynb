{
 "cells": [
  {
   "cell_type": "markdown",
   "metadata": {},
   "source": [
    "# Setup"
   ]
  },
  {
   "cell_type": "code",
   "execution_count": 6,
   "metadata": {
    "collapsed": false
   },
   "outputs": [
    {
     "name": "stdout",
     "output_type": "stream",
     "text": [
      "cc -DWITH_PMC -Wall -o ipc-static -DPROGNAME=\\\"ipc-static\\\" ipc.c -static  -lpmc -lpthread\n",
      "cc -DWITH_PMC -Wall -o ipc-dynamic -DPROGNAME=\\\"ipc-dynamic\\\" ipc.c -dynamic  -lpmc -lpthread\n",
      "kern.ipc.maxsockbuf: 33554432 -> 33554432\n"
     ]
    }
   ],
   "source": [
    "# Extract and build the benchmark\n",
    "!rm -f ipc/ipc-static\n",
    "!rm -f ipc/ipc-dynamic\n",
    "!make -C ipc\n",
    "!sysctl kern.ipc.maxsockbuf=33554432"
   ]
  },
  {
   "cell_type": "code",
   "execution_count": 5,
   "metadata": {
    "collapsed": true
   },
   "outputs": [],
   "source": [
    "# D Language scripts\n",
    "D_ = \"\"\"\"\"\""
   ]
  },
  {
   "cell_type": "code",
   "execution_count": 3,
   "metadata": {
    "collapsed": false
   },
   "outputs": [],
   "source": [
    "import itertools\n",
    "\n",
    "def strs_to_tup(strs):\n",
    "    if len(strs) == 1:\n",
    "        return (strs[0].strip(),None)\n",
    "    else:\n",
    "        return (strs[0].strip(),strs[1].strip())\n",
    "\n",
    "def flatten(lst):\n",
    "    return list(itertools.chain.from_iterable(lst))\n",
    "\n",
    "def parse(cmd_out):\n",
    "    tups = map(strs_to_tup, [string.split(\":\") for string in cmd_out])\n",
    "    return dict(tups)\n",
    "\n",
    "import time\n",
    "from __future__ import print_function\n",
    "from decimal import Decimal\n",
    "import pandas as pd\n",
    "import numpy as np\n",
    "%matplotlib inline\n",
    "# import matplotlib.pyplot as plt\n",
    "# plt.style.use('seaborn-whitegrid')\n",
    "\n",
    "def label_points(x, y, ax):\n",
    "    a = pd.concat({'x': x, 'y': y}, axis=1)\n",
    "    for i, point in a.iterrows():\n",
    "        ax.text(point['x'], point['y'], \"{:.2E}\".format(Decimal(point['x'])))\n",
    "\n",
    "def graph(xs, ys, num_trials = 0, save = False, save_name = \"plot\", title = \"\", xlabel = \"\"):\n",
    "    # np.array expects: [[x1, y1], [x2, y2], ..., [xn, yn]]\n",
    "    '''df = pd.DataFrame(np.array(np.column_stack((xs, ys))), columns=['x', 'y'])\n",
    "    plt = df.plot(x='x', y='y',logx=True, grid=True, figsize=(20,10))\n",
    "    label_points(df.x, df.y, plt)'''\n",
    "    xvalues = np.reshape(ys, (len(xs), num_trials))[:,:]\n",
    "    df = pd.DataFrame(xvalues, index=xs)\n",
    "    error_bars = df.quantile([.25, .75], axis=1)\n",
    "    error_bars.loc[[0.25]] = df.median(1) - error_bars.loc[[0.25]]\n",
    "    error_bars.loc[[0.75]] = error_bars.loc[[0.75]] - df.median(1)\n",
    "    error_bars_values = [error_bars.values]\n",
    "    plt.figure();\n",
    "    df.median(1).plot(figsize=(9,9), yerr=error_bars_values, label=title)\n",
    "    plt.ylabel('I/O bandwidth (KiBytes/sec)')\n",
    "    plt.xlabel(xlabel)\n",
    "    plt.xscale('log')\n",
    "    if save:\n",
    "        '''fig = plt.get_figure()\n",
    "        fig.savefig(\"{}.pdf\".format(save_name))'''\n",
    "        plt.savefig(\"{}.png\".format(save_name))\n",
    "\n",
    "def benchmark(flags, repeat, exe, filename, buf_sizes, io_sizes, create = False, reset_file = False, dtrace_info = None, bench_name = \"\" ):\n",
    "    runs = range(1, repeat + 1)\n",
    "    outputs = []\n",
    "    print(\"\\t ==> Running {}\".format(exe))\n",
    "    print(\"\\t\\t ==> Reading from {}\".format(filename))\n",
    "    is_dtrace = (dtrace_info != None)\n",
    "    dtrace_thread = None\n",
    "\n",
    "    for buffer_size in buf_sizes:\n",
    "        for io_size in io_sizes:\n",
    "            cmd = \"{} {} -b {} -t {} {}\".format(exe, flags, buffer_size, io_size, filename)\n",
    "            #if \"-v\" not in flags:\n",
    "            #    cmd = \"time -p \" + cmd\n",
    "            if \"-d\" in flags:\n",
    "                discard = !{cmd}\n",
    "\n",
    "            if create:\n",
    "                created = !io/io-static -t {str(io_size)} -c lab1/iofile\n",
    "\n",
    "            if is_dtrace:\n",
    "                # Create a seperate thread to run the DTrace instrumentation\n",
    "                dtrace_thread = DTraceConsumerThread(dtrace_info['script'],\n",
    "                                                        chew_func=None,\n",
    "                                                        chewrec_func=None,\n",
    "                                                        walk_func=dtrace_info['agg_fn'],\n",
    "                                                        sleep=1)\n",
    "                # Start the DTrace instrumentation\n",
    "                dtrace_thread.start()\n",
    "\n",
    "            results = []\n",
    "            for i in runs:\n",
    "                out = !{cmd}\n",
    "                parsed = parse(out)\n",
    "                results.append(parsed)\n",
    "\n",
    "            if is_dtrace and dtrace_thread != None:\n",
    "                # The benchmark has completed - stop the DTrace instrumentation\n",
    "                dtrace_thread.stop()\n",
    "                dtrace_thread.join()\n",
    "                dtrace_thread.consumer.__del__() # Memory leak workaround\n",
    "                print(\"\\t\\t\\tdtrace run: {0:2} bytes {1:2} bytes\".format(buffer_size, io_size))\n",
    "            else:\n",
    "                times = [float(item['time']) for item in results]\n",
    "                speeds = [float(item['speed'].split(' ')[0]) for item in results] # Need to split by ' ' because output speed has units attached to it (see io.c)\n",
    "                avg_time = sum(times) / len(runs)\n",
    "                avg_speed = sum(speeds) / len(runs)\n",
    "                buf_sz = int(results[0]['buffersize'])\n",
    "                tot_sz = int(results[0]['totalsize'])\n",
    "                print(\"\\t\\t\\t{0:2} bytes {1:2} bytes ({2:.2f} KBytes/sec): {3:.6f}s\".format(buf_sz, tot_sz, avg_speed, avg_time))\n",
    "                outputs.append({'buffersize':buffer_size, 'time':avg_time, 'speed':avg_speed, 'iosize':tot_sz, 'speeds': speeds, 'times': times})\n",
    "    if reset_file:\n",
    "        print(\"recreating default benchmark file\")\n",
    "        make_io_file()\n",
    "    return outputs"
   ]
  },
  {
   "cell_type": "markdown",
   "metadata": {},
   "source": [
    "# Reads"
   ]
  },
  {
   "cell_type": "code",
   "execution_count": null,
   "metadata": {
    "collapsed": false
   },
   "outputs": [],
   "source": [
    "BUF_START = 512\n",
    "BUFFER_SIZES = [BUF_START * 2 ** exp for exp in range(0, 16)]\n",
    "IO_SIZES = [BUFFER_SIZES[-1]] # Keep constant at default 16MB (last value of BUFFER_SIZES)\n",
    "RUNS = 12\n",
    "\n",
    "results_iofile = benchmark(\"-v -r\", RUNS, \"io/io-static\", \"/dev/zero\", BUFFER_SIZES, IO_SIZES, create = False)\n",
    "saveas = \"static_const_io_flags_vr_runs_12_oldfile_zero\"\n",
    "graph(BUFFER_SIZES, flatten([item['speeds'] for item in results_iofile]), RUNS, save = True, save_name = saveas)"
   ]
  },
  {
   "cell_type": "code",
   "execution_count": null,
   "metadata": {
    "collapsed": false
   },
   "outputs": [],
   "source": [
    "BUF_START = 512\n",
    "BUFFER_SIZES = [BUF_START * 2 ** exp for exp in range(0, 16)]\n",
    "IO_SIZES = [BUFFER_SIZES[-1]] # Keep constant at default 16MB (last value of BUFFER_SIZES)\n",
    "RUNS = 12\n",
    "values = []\n",
    "\n",
    "# Callbacks invoked to process the aggregation\n",
    "def simple_agg(a, b, c, d):\n",
    "    print(\"From DTrace: {} | {} | {} | val: {}\".format(a,b,c,d))\n",
    "    values.append(d)\n",
    "\n",
    "def quantized_out(a, b, c, d):\n",
    "    print(\"From DTrace: {} | {} | {} | val: {}\".format(a,b,c,d))\n",
    "    values.append(d)\n",
    "\n",
    "for io_sz in IO_SIZES:\n",
    "    for buf_sz in BUFFER_SIZES:\n",
    "        benchmark(\"-r -B -q\", 1, \"io/io-static\", \"lab1/iofile\", [buf_sz], [io_sz], dtrace_info = {'agg_fn':simple_agg, 'script':D_WHOLE_time})"
   ]
  },
  {
   "cell_type": "markdown",
   "metadata": {
    "collapsed": true
   },
   "source": [
    "# Static vs. Dynamic Linking"
   ]
  },
  {
   "cell_type": "code",
   "execution_count": 5,
   "metadata": {
    "collapsed": true
   },
   "outputs": [],
   "source": [
    "static = !./linker_benchmark.sh io/io-static \"-q -r -B\" iofile static_link\n",
    "dynamic = !./linker_benchmark.sh io/io-dynamic \"-q -r -B\" iofile dyn_link"
   ]
  },
  {
   "cell_type": "code",
   "execution_count": 12,
   "metadata": {
    "collapsed": false
   },
   "outputs": [],
   "source": [
    "import numbers\n",
    "pairs = [x.split(\" \") for x in static[6:]]\n",
    "buffs = [int(x[0]) for x in pairs]\n",
    "times = [float(x[1]) for x in pairs]\n",
    "\n",
    "d_pairs = [x.split(\" \") for x in dynamic[6:]]\n",
    "d_buffs = [int(x[0]) for x in d_pairs]\n",
    "d_times = [float(x[1]) for x in d_pairs]"
   ]
  },
  {
   "cell_type": "code",
   "execution_count": null,
   "metadata": {
    "collapsed": false,
    "scrolled": true
   },
   "outputs": [],
   "source": [
    "df = pd.DataFrame(np.array(np.column_stack((buffs, times))), columns=['x', 'y'])\n",
    "d_df = pd.DataFrame(np.array(np.column_stack((d_buffs, d_times))), columns=['x', 'y'])\n",
    "ax = df.plot(x='x', y='y',logx=True, grid=True, figsize=(20,10))\n",
    "plt = d_df.plot(x='x', y='y',logx=True, grid=True, figsize=(20,10), ax=ax)\n",
    "ax.set_xlabel('Filesizes in bytes (log scale)')\n",
    "ax.set_ylabel('Average time (seconds)')\n",
    "ax.legend([\"Static\", \"Dynamic\"])\n",
    "fig = ax.get_figure()\n",
    "fig.savefig(\"dyn_vs_stat.png\")"
   ]
  },
  {
   "cell_type": "markdown",
   "metadata": {},
   "source": [
    "# Notes\n",
    "\n",
    "Investigation of IPC syscalls such as pipe(2) and socket(2). read(2) and write(2) can be performed on sockets and pipes and allow for partial reads and writes. This implies that it is possible for only a subset of a requested buffer size to be read or written. Possible causes are size limits of in-kernel IPC buffers or use of non-blocking I/O. Input and output bytes both need to be considered during benchmarking performance of IPC syscalls.\n",
    "\n",
    "Links:\n",
    "* https://www.freebsd.org/cgi/man.cgi?query=socket&sektion=2\n",
    "* https://www.freebsd.org/cgi/man.cgi?pipe(2)\n",
    "* https://wiki.freebsd.org/NetworkPerformanceTuning\n",
    "* https://wiki.freebsd.org/BenchmarkAdvice\n",
    "\n",
    "Benchmark:\n",
    "* Set up IPC endpoints (using pipe(2) or socket(2))\n",
    "* Transfer bytes from a user-space buffer using read(2)/write(2)\n",
    "  * ! there is no guarantee for all bytes to be transferred however\n",
    "* Modes of rx/tx operations are:\n",
    "  * within single thread\n",
    "  * between pair of threads in same process\n",
    "  * between threads in two different processes\n",
    "* Time is measured via clock_gettime(2)\n",
    "* Both statically and dynamically linked version available\n",
    "\n",
    "* -i: IPC object type (pipe, local, tcp)\n",
    "* -t: total size of I/O file | default: 16777216\n",
    "* -b: user-space IPC buffer size (bytes) | default: 131072\n",
    "* 1thread, 2thread, 2proc\n",
    "\n",
    "Testsuite:\n",
    "* 1st thread/proc is receiver\n",
    "* 2nd thread/proc is sender\n",
    "* Sender writes timestamp to shared memory before sending bytes\n",
    "  * sender_argument.sa_starttime\n",
    "* Sender:\n",
    "  * call write(2) with buffersize or remaining bytes to write (whichever is lower)\n",
    "  * repeat writes until total I/O size is reached\n",
    "* Receiver:\n",
    "  * call read(2) until total I/O size has been reached\n",
    "* Multiple Processes/Threads:\n",
    "  * Create page (mmap(2)) for sender_argument struct\n",
    "  * Set inheritance property (minherit(2)) such that the address space of the page can be shared between parent and child\n",
    "  * Receive or send depending on pid\n",
    "  * Return time difference\n",
    "* Single thread:\n",
    "  * Set non-blocking I/O flags on input file descriptors (O_NONBLOCKING from pipe(2))\n",
    "  * Perform read and write in same iteration until total I/O size is reached\n",
    "    * In the first iteration of the benchmark only a read can be performed unless we block because the first read failed\n",
    "  * One of read or write is definitely performed at each iteration (block until rx or tx is ready if necessary (using select(2))\n",
    "  * Return time of I/O loop\n",
    "* Main:\n",
    "  * Allocate IPC object: tcp socket, pipe, local socket\n",
    "  * Prepare IPC buffer sizes if necessary\n",
    "  * fsync(2) and sleep if necessary\n",
    "  * Start benchmark modes\n",
    "  * Print output if necessary"
   ]
  }
 ],
 "metadata": {
  "kernelspec": {
   "display_name": "Python 2",
   "language": "python",
   "name": "python2"
  },
  "language_info": {
   "codemirror_mode": {
    "name": "ipython",
    "version": 2
   },
   "file_extension": ".py",
   "mimetype": "text/x-python",
   "name": "python",
   "nbconvert_exporter": "python",
   "pygments_lexer": "ipython2",
   "version": "2.7.13"
  }
 },
 "nbformat": 4,
 "nbformat_minor": 1
}
